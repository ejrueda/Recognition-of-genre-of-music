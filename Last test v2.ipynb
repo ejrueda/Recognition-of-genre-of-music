{
 "cells": [
  {
   "cell_type": "code",
   "execution_count": 74,
   "metadata": {},
   "outputs": [],
   "source": [
    "import pandas as pd\n",
    "import numpy as np\n",
    "from sklearn.ensemble import RandomForestClassifier\n",
    "from sklearn.ensemble import GradientBoostingClassifier\n",
    "from sklearn.preprocessing import minmax_scale\n",
    "from sklearn.model_selection import cross_val_score\n",
    "from sklearn.model_selection import train_test_split\n",
    "import matplotlib.pyplot as plt"
   ]
  },
  {
   "cell_type": "code",
   "execution_count": 75,
   "metadata": {},
   "outputs": [
    {
     "data": {
      "text/html": [
       "<div>\n",
       "<style scoped>\n",
       "    .dataframe tbody tr th:only-of-type {\n",
       "        vertical-align: middle;\n",
       "    }\n",
       "\n",
       "    .dataframe tbody tr th {\n",
       "        vertical-align: top;\n",
       "    }\n",
       "\n",
       "    .dataframe thead th {\n",
       "        text-align: right;\n",
       "    }\n",
       "</style>\n",
       "<table border=\"1\" class=\"dataframe\">\n",
       "  <thead>\n",
       "    <tr style=\"text-align: right;\">\n",
       "      <th></th>\n",
       "      <th>PAR_TC</th>\n",
       "      <th>PAR_SC</th>\n",
       "      <th>PAR_SC_V</th>\n",
       "      <th>PAR_ASE1</th>\n",
       "      <th>PAR_ASE2</th>\n",
       "      <th>PAR_ASE3</th>\n",
       "      <th>PAR_ASE4</th>\n",
       "      <th>PAR_ASE5</th>\n",
       "      <th>PAR_ASE6</th>\n",
       "      <th>PAR_ASE7</th>\n",
       "      <th>...</th>\n",
       "      <th>PAR_3RMS_TCD</th>\n",
       "      <th>PAR_ZCD_10FR_MEAN</th>\n",
       "      <th>PAR_ZCD_10FR_VAR</th>\n",
       "      <th>PAR_1RMS_TCD_10FR_MEAN</th>\n",
       "      <th>PAR_1RMS_TCD_10FR_VAR</th>\n",
       "      <th>PAR_2RMS_TCD_10FR_MEAN</th>\n",
       "      <th>PAR_2RMS_TCD_10FR_VAR</th>\n",
       "      <th>PAR_3RMS_TCD_10FR_MEAN</th>\n",
       "      <th>PAR_3RMS_TCD_10FR_VAR</th>\n",
       "      <th>GENRE</th>\n",
       "    </tr>\n",
       "  </thead>\n",
       "  <tbody>\n",
       "    <tr>\n",
       "      <th>0</th>\n",
       "      <td>2.5788</td>\n",
       "      <td>481.45</td>\n",
       "      <td>76989.0</td>\n",
       "      <td>-0.12334</td>\n",
       "      <td>-0.11578</td>\n",
       "      <td>-0.11176</td>\n",
       "      <td>-0.10412</td>\n",
       "      <td>-0.106100</td>\n",
       "      <td>-0.11026</td>\n",
       "      <td>-0.11375</td>\n",
       "      <td>...</td>\n",
       "      <td>0.002032</td>\n",
       "      <td>0.041056</td>\n",
       "      <td>0.000091</td>\n",
       "      <td>0.049627</td>\n",
       "      <td>0.000231</td>\n",
       "      <td>0.011265</td>\n",
       "      <td>0.000024</td>\n",
       "      <td>0.002177</td>\n",
       "      <td>0.000003</td>\n",
       "      <td>Pop</td>\n",
       "    </tr>\n",
       "    <tr>\n",
       "      <th>1</th>\n",
       "      <td>2.7195</td>\n",
       "      <td>1405.30</td>\n",
       "      <td>825380.0</td>\n",
       "      <td>-0.17655</td>\n",
       "      <td>-0.18323</td>\n",
       "      <td>-0.17773</td>\n",
       "      <td>-0.17057</td>\n",
       "      <td>-0.166440</td>\n",
       "      <td>-0.16174</td>\n",
       "      <td>-0.15371</td>\n",
       "      <td>...</td>\n",
       "      <td>0.005959</td>\n",
       "      <td>0.082830</td>\n",
       "      <td>0.001122</td>\n",
       "      <td>0.093622</td>\n",
       "      <td>0.003869</td>\n",
       "      <td>0.031467</td>\n",
       "      <td>0.000779</td>\n",
       "      <td>0.006716</td>\n",
       "      <td>0.000041</td>\n",
       "      <td>Blues</td>\n",
       "    </tr>\n",
       "    <tr>\n",
       "      <th>2</th>\n",
       "      <td>2.5351</td>\n",
       "      <td>601.09</td>\n",
       "      <td>686240.0</td>\n",
       "      <td>-0.13940</td>\n",
       "      <td>-0.13251</td>\n",
       "      <td>-0.11486</td>\n",
       "      <td>-0.10173</td>\n",
       "      <td>-0.099342</td>\n",
       "      <td>-0.10936</td>\n",
       "      <td>-0.12668</td>\n",
       "      <td>...</td>\n",
       "      <td>0.002766</td>\n",
       "      <td>0.043652</td>\n",
       "      <td>0.000358</td>\n",
       "      <td>0.045415</td>\n",
       "      <td>0.000211</td>\n",
       "      <td>0.013850</td>\n",
       "      <td>0.000038</td>\n",
       "      <td>0.003069</td>\n",
       "      <td>0.000002</td>\n",
       "      <td>Pop</td>\n",
       "    </tr>\n",
       "    <tr>\n",
       "      <th>3</th>\n",
       "      <td>2.4465</td>\n",
       "      <td>637.73</td>\n",
       "      <td>122580.0</td>\n",
       "      <td>-0.14995</td>\n",
       "      <td>-0.14802</td>\n",
       "      <td>-0.13800</td>\n",
       "      <td>-0.12927</td>\n",
       "      <td>-0.125150</td>\n",
       "      <td>-0.12340</td>\n",
       "      <td>-0.12159</td>\n",
       "      <td>...</td>\n",
       "      <td>0.002503</td>\n",
       "      <td>0.045159</td>\n",
       "      <td>0.000356</td>\n",
       "      <td>0.037388</td>\n",
       "      <td>0.000118</td>\n",
       "      <td>0.011897</td>\n",
       "      <td>0.000045</td>\n",
       "      <td>0.002645</td>\n",
       "      <td>0.000006</td>\n",
       "      <td>Jazz</td>\n",
       "    </tr>\n",
       "    <tr>\n",
       "      <th>4</th>\n",
       "      <td>2.5657</td>\n",
       "      <td>776.86</td>\n",
       "      <td>124010.0</td>\n",
       "      <td>-0.16863</td>\n",
       "      <td>-0.16112</td>\n",
       "      <td>-0.15935</td>\n",
       "      <td>-0.15120</td>\n",
       "      <td>-0.140340</td>\n",
       "      <td>-0.13002</td>\n",
       "      <td>-0.12804</td>\n",
       "      <td>...</td>\n",
       "      <td>0.002703</td>\n",
       "      <td>0.047347</td>\n",
       "      <td>0.000302</td>\n",
       "      <td>0.049469</td>\n",
       "      <td>0.000606</td>\n",
       "      <td>0.014052</td>\n",
       "      <td>0.000152</td>\n",
       "      <td>0.003244</td>\n",
       "      <td>0.000029</td>\n",
       "      <td>Jazz</td>\n",
       "    </tr>\n",
       "  </tbody>\n",
       "</table>\n",
       "<p>5 rows × 192 columns</p>\n",
       "</div>"
      ],
      "text/plain": [
       "   PAR_TC   PAR_SC  PAR_SC_V  PAR_ASE1  PAR_ASE2  PAR_ASE3  PAR_ASE4  \\\n",
       "0  2.5788   481.45   76989.0  -0.12334  -0.11578  -0.11176  -0.10412   \n",
       "1  2.7195  1405.30  825380.0  -0.17655  -0.18323  -0.17773  -0.17057   \n",
       "2  2.5351   601.09  686240.0  -0.13940  -0.13251  -0.11486  -0.10173   \n",
       "3  2.4465   637.73  122580.0  -0.14995  -0.14802  -0.13800  -0.12927   \n",
       "4  2.5657   776.86  124010.0  -0.16863  -0.16112  -0.15935  -0.15120   \n",
       "\n",
       "   PAR_ASE5  PAR_ASE6  PAR_ASE7  ...    PAR_3RMS_TCD  PAR_ZCD_10FR_MEAN  \\\n",
       "0 -0.106100  -0.11026  -0.11375  ...        0.002032           0.041056   \n",
       "1 -0.166440  -0.16174  -0.15371  ...        0.005959           0.082830   \n",
       "2 -0.099342  -0.10936  -0.12668  ...        0.002766           0.043652   \n",
       "3 -0.125150  -0.12340  -0.12159  ...        0.002503           0.045159   \n",
       "4 -0.140340  -0.13002  -0.12804  ...        0.002703           0.047347   \n",
       "\n",
       "   PAR_ZCD_10FR_VAR  PAR_1RMS_TCD_10FR_MEAN  PAR_1RMS_TCD_10FR_VAR  \\\n",
       "0          0.000091                0.049627               0.000231   \n",
       "1          0.001122                0.093622               0.003869   \n",
       "2          0.000358                0.045415               0.000211   \n",
       "3          0.000356                0.037388               0.000118   \n",
       "4          0.000302                0.049469               0.000606   \n",
       "\n",
       "   PAR_2RMS_TCD_10FR_MEAN  PAR_2RMS_TCD_10FR_VAR  PAR_3RMS_TCD_10FR_MEAN  \\\n",
       "0                0.011265               0.000024                0.002177   \n",
       "1                0.031467               0.000779                0.006716   \n",
       "2                0.013850               0.000038                0.003069   \n",
       "3                0.011897               0.000045                0.002645   \n",
       "4                0.014052               0.000152                0.003244   \n",
       "\n",
       "   PAR_3RMS_TCD_10FR_VAR  GENRE  \n",
       "0               0.000003    Pop  \n",
       "1               0.000041  Blues  \n",
       "2               0.000002    Pop  \n",
       "3               0.000006   Jazz  \n",
       "4               0.000029   Jazz  \n",
       "\n",
       "[5 rows x 192 columns]"
      ]
     },
     "execution_count": 75,
     "metadata": {},
     "output_type": "execute_result"
    }
   ],
   "source": [
    "data_train = pd.read_csv(\"./data/genresTrain.csv\")\n",
    "data_train.head()"
   ]
  },
  {
   "cell_type": "code",
   "execution_count": 76,
   "metadata": {},
   "outputs": [
    {
     "data": {
      "text/plain": [
       "(12495, 192)"
      ]
     },
     "execution_count": 76,
     "metadata": {},
     "output_type": "execute_result"
    }
   ],
   "source": [
    "data_train.shape"
   ]
  },
  {
   "cell_type": "code",
   "execution_count": 77,
   "metadata": {},
   "outputs": [],
   "source": [
    "data_train.loc[data_train.loc[:,\"GENRE\"]==\"Blues\", \"GENRE\"] = 1\n",
    "data_train.loc[data_train.loc[:,\"GENRE\"]==\"Classical\", \"GENRE\"] = 2\n",
    "data_train.loc[data_train.loc[:,\"GENRE\"]==\"Jazz\", \"GENRE\"] = 3\n",
    "data_train.loc[data_train.loc[:,\"GENRE\"]==\"Metal\", \"GENRE\"] = 4\n",
    "data_train.loc[data_train.loc[:,\"GENRE\"]==\"Pop\", \"GENRE\"] = 5\n",
    "data_train.loc[data_train.loc[:,\"GENRE\"]==\"Rock\", \"GENRE\"] = 6"
   ]
  },
  {
   "cell_type": "code",
   "execution_count": 78,
   "metadata": {},
   "outputs": [
    {
     "data": {
      "text/html": [
       "<div>\n",
       "<style scoped>\n",
       "    .dataframe tbody tr th:only-of-type {\n",
       "        vertical-align: middle;\n",
       "    }\n",
       "\n",
       "    .dataframe tbody tr th {\n",
       "        vertical-align: top;\n",
       "    }\n",
       "\n",
       "    .dataframe thead th {\n",
       "        text-align: right;\n",
       "    }\n",
       "</style>\n",
       "<table border=\"1\" class=\"dataframe\">\n",
       "  <thead>\n",
       "    <tr style=\"text-align: right;\">\n",
       "      <th></th>\n",
       "      <th>PAR_TC</th>\n",
       "      <th>PAR_SC</th>\n",
       "      <th>PAR_SC_V</th>\n",
       "      <th>PAR_ASE1</th>\n",
       "      <th>PAR_ASE2</th>\n",
       "      <th>PAR_ASE3</th>\n",
       "      <th>PAR_ASE4</th>\n",
       "      <th>PAR_ASE5</th>\n",
       "      <th>PAR_ASE6</th>\n",
       "      <th>PAR_ASE7</th>\n",
       "      <th>...</th>\n",
       "      <th>PAR_2RMS_TCD</th>\n",
       "      <th>PAR_3RMS_TCD</th>\n",
       "      <th>PAR_ZCD_10FR_MEAN</th>\n",
       "      <th>PAR_ZCD_10FR_VAR</th>\n",
       "      <th>PAR_1RMS_TCD_10FR_MEAN</th>\n",
       "      <th>PAR_1RMS_TCD_10FR_VAR</th>\n",
       "      <th>PAR_2RMS_TCD_10FR_MEAN</th>\n",
       "      <th>PAR_2RMS_TCD_10FR_VAR</th>\n",
       "      <th>PAR_3RMS_TCD_10FR_MEAN</th>\n",
       "      <th>PAR_3RMS_TCD_10FR_VAR</th>\n",
       "    </tr>\n",
       "  </thead>\n",
       "  <tbody>\n",
       "    <tr>\n",
       "      <th>0</th>\n",
       "      <td>2.5851</td>\n",
       "      <td>887.72</td>\n",
       "      <td>203130.0</td>\n",
       "      <td>-0.17260</td>\n",
       "      <td>-0.16509</td>\n",
       "      <td>-0.15114</td>\n",
       "      <td>-0.14272</td>\n",
       "      <td>-0.13747</td>\n",
       "      <td>-0.13437</td>\n",
       "      <td>-0.12990</td>\n",
       "      <td>...</td>\n",
       "      <td>0.014458</td>\n",
       "      <td>0.003283</td>\n",
       "      <td>0.060789</td>\n",
       "      <td>0.000173</td>\n",
       "      <td>0.049469</td>\n",
       "      <td>0.000209</td>\n",
       "      <td>0.014727</td>\n",
       "      <td>0.000058</td>\n",
       "      <td>0.003690</td>\n",
       "      <td>0.000007</td>\n",
       "    </tr>\n",
       "    <tr>\n",
       "      <th>1</th>\n",
       "      <td>2.4621</td>\n",
       "      <td>370.86</td>\n",
       "      <td>4835.0</td>\n",
       "      <td>-0.16553</td>\n",
       "      <td>-0.16676</td>\n",
       "      <td>-0.16022</td>\n",
       "      <td>-0.15304</td>\n",
       "      <td>-0.14354</td>\n",
       "      <td>-0.13443</td>\n",
       "      <td>-0.12450</td>\n",
       "      <td>...</td>\n",
       "      <td>0.007165</td>\n",
       "      <td>0.001832</td>\n",
       "      <td>0.019472</td>\n",
       "      <td>0.000006</td>\n",
       "      <td>0.021197</td>\n",
       "      <td>0.000100</td>\n",
       "      <td>0.008136</td>\n",
       "      <td>0.000055</td>\n",
       "      <td>0.002112</td>\n",
       "      <td>0.000006</td>\n",
       "    </tr>\n",
       "    <tr>\n",
       "      <th>2</th>\n",
       "      <td>2.5894</td>\n",
       "      <td>536.33</td>\n",
       "      <td>59175.0</td>\n",
       "      <td>-0.14433</td>\n",
       "      <td>-0.15838</td>\n",
       "      <td>-0.15151</td>\n",
       "      <td>-0.13966</td>\n",
       "      <td>-0.12591</td>\n",
       "      <td>-0.11795</td>\n",
       "      <td>-0.11744</td>\n",
       "      <td>...</td>\n",
       "      <td>0.009742</td>\n",
       "      <td>0.002032</td>\n",
       "      <td>0.037165</td>\n",
       "      <td>0.000158</td>\n",
       "      <td>0.037856</td>\n",
       "      <td>0.000123</td>\n",
       "      <td>0.009627</td>\n",
       "      <td>0.000068</td>\n",
       "      <td>0.001916</td>\n",
       "      <td>0.000004</td>\n",
       "    </tr>\n",
       "    <tr>\n",
       "      <th>3</th>\n",
       "      <td>2.4876</td>\n",
       "      <td>1053.70</td>\n",
       "      <td>147250.0</td>\n",
       "      <td>-0.12813</td>\n",
       "      <td>-0.11979</td>\n",
       "      <td>-0.12223</td>\n",
       "      <td>-0.11881</td>\n",
       "      <td>-0.12020</td>\n",
       "      <td>-0.12702</td>\n",
       "      <td>-0.13608</td>\n",
       "      <td>...</td>\n",
       "      <td>0.020571</td>\n",
       "      <td>0.002458</td>\n",
       "      <td>0.074786</td>\n",
       "      <td>0.000113</td>\n",
       "      <td>0.088109</td>\n",
       "      <td>0.000152</td>\n",
       "      <td>0.021083</td>\n",
       "      <td>0.000071</td>\n",
       "      <td>0.002590</td>\n",
       "      <td>0.000006</td>\n",
       "    </tr>\n",
       "    <tr>\n",
       "      <th>4</th>\n",
       "      <td>2.7968</td>\n",
       "      <td>354.90</td>\n",
       "      <td>7610.9</td>\n",
       "      <td>-0.16335</td>\n",
       "      <td>-0.16976</td>\n",
       "      <td>-0.17196</td>\n",
       "      <td>-0.16772</td>\n",
       "      <td>-0.16637</td>\n",
       "      <td>-0.15903</td>\n",
       "      <td>-0.13995</td>\n",
       "      <td>...</td>\n",
       "      <td>0.004825</td>\n",
       "      <td>0.001905</td>\n",
       "      <td>0.017377</td>\n",
       "      <td>0.000015</td>\n",
       "      <td>0.010852</td>\n",
       "      <td>0.000153</td>\n",
       "      <td>0.004702</td>\n",
       "      <td>0.000044</td>\n",
       "      <td>0.002101</td>\n",
       "      <td>0.000008</td>\n",
       "    </tr>\n",
       "  </tbody>\n",
       "</table>\n",
       "<p>5 rows × 191 columns</p>\n",
       "</div>"
      ],
      "text/plain": [
       "   PAR_TC   PAR_SC  PAR_SC_V  PAR_ASE1  PAR_ASE2  PAR_ASE3  PAR_ASE4  \\\n",
       "0  2.5851   887.72  203130.0  -0.17260  -0.16509  -0.15114  -0.14272   \n",
       "1  2.4621   370.86    4835.0  -0.16553  -0.16676  -0.16022  -0.15304   \n",
       "2  2.5894   536.33   59175.0  -0.14433  -0.15838  -0.15151  -0.13966   \n",
       "3  2.4876  1053.70  147250.0  -0.12813  -0.11979  -0.12223  -0.11881   \n",
       "4  2.7968   354.90    7610.9  -0.16335  -0.16976  -0.17196  -0.16772   \n",
       "\n",
       "   PAR_ASE5  PAR_ASE6  PAR_ASE7          ...            PAR_2RMS_TCD  \\\n",
       "0  -0.13747  -0.13437  -0.12990          ...                0.014458   \n",
       "1  -0.14354  -0.13443  -0.12450          ...                0.007165   \n",
       "2  -0.12591  -0.11795  -0.11744          ...                0.009742   \n",
       "3  -0.12020  -0.12702  -0.13608          ...                0.020571   \n",
       "4  -0.16637  -0.15903  -0.13995          ...                0.004825   \n",
       "\n",
       "   PAR_3RMS_TCD  PAR_ZCD_10FR_MEAN  PAR_ZCD_10FR_VAR  PAR_1RMS_TCD_10FR_MEAN  \\\n",
       "0      0.003283           0.060789          0.000173                0.049469   \n",
       "1      0.001832           0.019472          0.000006                0.021197   \n",
       "2      0.002032           0.037165          0.000158                0.037856   \n",
       "3      0.002458           0.074786          0.000113                0.088109   \n",
       "4      0.001905           0.017377          0.000015                0.010852   \n",
       "\n",
       "   PAR_1RMS_TCD_10FR_VAR  PAR_2RMS_TCD_10FR_MEAN  PAR_2RMS_TCD_10FR_VAR  \\\n",
       "0               0.000209                0.014727               0.000058   \n",
       "1               0.000100                0.008136               0.000055   \n",
       "2               0.000123                0.009627               0.000068   \n",
       "3               0.000152                0.021083               0.000071   \n",
       "4               0.000153                0.004702               0.000044   \n",
       "\n",
       "   PAR_3RMS_TCD_10FR_MEAN  PAR_3RMS_TCD_10FR_VAR  \n",
       "0                0.003690               0.000007  \n",
       "1                0.002112               0.000006  \n",
       "2                0.001916               0.000004  \n",
       "3                0.002590               0.000006  \n",
       "4                0.002101               0.000008  \n",
       "\n",
       "[5 rows x 191 columns]"
      ]
     },
     "execution_count": 78,
     "metadata": {},
     "output_type": "execute_result"
    }
   ],
   "source": [
    "data_test = pd.read_csv(\"./data/genresTest.csv\")\n",
    "data_test.head()"
   ]
  },
  {
   "cell_type": "code",
   "execution_count": 79,
   "metadata": {},
   "outputs": [],
   "source": [
    "m_cor = data_train.corr()\n",
    "\n",
    "dict_l = {}\n",
    "for i in m_cor.index:\n",
    "    dict_l.update({i:m_cor[m_cor[i]>.85].index})\n"
   ]
  },
  {
   "cell_type": "code",
   "execution_count": 80,
   "metadata": {},
   "outputs": [
    {
     "name": "stdout",
     "output_type": "stream",
     "text": [
      "47\n",
      "['PAR_ZCD', 'PAR_2RMS_TCD', 'PAR_ZCD_10FR_MEAN', 'PAR_ASE2', 'PAR_ASE4', 'PAR_ASE5', 'PAR_ASE7', 'PAR_ASE11', 'PAR_ASE24', 'PAR_ASE26', 'PAR_ASE28', 'PAR_ASE30', 'PAR_ASEV2', 'PAR_ASEV3', 'PAR_ASEV5', 'PAR_ASEV7', 'PAR_SFM10', 'PAR_SFM12', 'PAR_SFM14', 'PAR_SFM15', 'PAR_SFM_M', 'PAR_SFM17', 'PAR_SFM19', 'PAR_SFMV20', 'PAR_MFCCV1', 'PAR_MFCCV2', 'PAR_MFCCV3', 'PAR_MFCCV4', 'PAR_MFCCV5', 'PAR_MFCCV6', 'PAR_MFCCV7', 'PAR_MFCCV8', 'PAR_MFCCV9', 'PAR_MFCCV10', 'PAR_MFCCV11', 'PAR_MFCCV12', 'PAR_MFCCV13', 'PAR_MFCCV14', 'PAR_MFCCV15', 'PAR_MFCCV16', 'PAR_MFCCV17', 'PAR_MFCCV18', 'PAR_MFCCV19', 'PAR_MFCCV20', 'PAR_1RMS_TCD_10FR_MEAN', 'PAR_2RMS_TCD_10FR_MEAN', 'PAR_3RMS_TCD_10FR_MEAN']\n"
     ]
    }
   ],
   "source": [
    "cols_drop = []\n",
    "for idx in dict_l:\n",
    "    if not (idx in cols_drop): #si ya está para eliminar no se revisa\n",
    "        for j in range(len(dict_l[idx])):\n",
    "            if idx != dict_l[idx][j]: #el se quiere mantener\n",
    "                if not (dict_l[idx][j] in cols_drop): #si no se a eliminado se puede eliminar\n",
    "                    cols_drop.append(dict_l[idx][j])\n",
    "                    #print(idx, dict_l[idx][j])\n",
    "\n",
    "print(len(cols_drop))\n",
    "print(cols_drop)"
   ]
  },
  {
   "cell_type": "code",
   "execution_count": 81,
   "metadata": {},
   "outputs": [],
   "source": [
    "df_train_drop = data_train\n",
    "df_test_drop = data_test\n",
    "for idx in np.unique(cols_drop):\n",
    "    df_train_drop = df_train_drop.drop(idx,axis=1)\n",
    "    df_test_drop = df_test_drop.drop(idx,axis=1)"
   ]
  },
  {
   "cell_type": "code",
   "execution_count": 82,
   "metadata": {},
   "outputs": [
    {
     "data": {
      "text/html": [
       "<div>\n",
       "<style scoped>\n",
       "    .dataframe tbody tr th:only-of-type {\n",
       "        vertical-align: middle;\n",
       "    }\n",
       "\n",
       "    .dataframe tbody tr th {\n",
       "        vertical-align: top;\n",
       "    }\n",
       "\n",
       "    .dataframe thead th {\n",
       "        text-align: right;\n",
       "    }\n",
       "</style>\n",
       "<table border=\"1\" class=\"dataframe\">\n",
       "  <thead>\n",
       "    <tr style=\"text-align: right;\">\n",
       "      <th></th>\n",
       "      <th>PAR_TC</th>\n",
       "      <th>PAR_SC</th>\n",
       "      <th>PAR_SC_V</th>\n",
       "      <th>PAR_ASE1</th>\n",
       "      <th>PAR_ASE3</th>\n",
       "      <th>PAR_ASE6</th>\n",
       "      <th>PAR_ASE8</th>\n",
       "      <th>PAR_ASE9</th>\n",
       "      <th>PAR_ASE10</th>\n",
       "      <th>PAR_ASE12</th>\n",
       "      <th>...</th>\n",
       "      <th>PAR_PEAK_RMS_TOT</th>\n",
       "      <th>PAR_PEAK_RMS10FR_MEAN</th>\n",
       "      <th>PAR_PEAK_RMS10FR_VAR</th>\n",
       "      <th>PAR_1RMS_TCD</th>\n",
       "      <th>PAR_3RMS_TCD</th>\n",
       "      <th>PAR_ZCD_10FR_VAR</th>\n",
       "      <th>PAR_1RMS_TCD_10FR_VAR</th>\n",
       "      <th>PAR_2RMS_TCD_10FR_VAR</th>\n",
       "      <th>PAR_3RMS_TCD_10FR_VAR</th>\n",
       "      <th>GENRE</th>\n",
       "    </tr>\n",
       "  </thead>\n",
       "  <tbody>\n",
       "    <tr>\n",
       "      <th>0</th>\n",
       "      <td>2.5788</td>\n",
       "      <td>481.45</td>\n",
       "      <td>76989.0</td>\n",
       "      <td>-0.12334</td>\n",
       "      <td>-0.11176</td>\n",
       "      <td>-0.11026</td>\n",
       "      <td>-0.12465</td>\n",
       "      <td>-0.13659</td>\n",
       "      <td>-0.13951</td>\n",
       "      <td>-0.13893</td>\n",
       "      <td>...</td>\n",
       "      <td>3.9295</td>\n",
       "      <td>4.0001</td>\n",
       "      <td>0.32300</td>\n",
       "      <td>0.048272</td>\n",
       "      <td>0.002032</td>\n",
       "      <td>0.000091</td>\n",
       "      <td>0.000231</td>\n",
       "      <td>0.000024</td>\n",
       "      <td>0.000003</td>\n",
       "      <td>5</td>\n",
       "    </tr>\n",
       "    <tr>\n",
       "      <th>1</th>\n",
       "      <td>2.7195</td>\n",
       "      <td>1405.30</td>\n",
       "      <td>825380.0</td>\n",
       "      <td>-0.17655</td>\n",
       "      <td>-0.17773</td>\n",
       "      <td>-0.16174</td>\n",
       "      <td>-0.14458</td>\n",
       "      <td>-0.14691</td>\n",
       "      <td>-0.15324</td>\n",
       "      <td>-0.14155</td>\n",
       "      <td>...</td>\n",
       "      <td>5.1372</td>\n",
       "      <td>5.7044</td>\n",
       "      <td>3.18450</td>\n",
       "      <td>0.085800</td>\n",
       "      <td>0.005959</td>\n",
       "      <td>0.001122</td>\n",
       "      <td>0.003869</td>\n",
       "      <td>0.000779</td>\n",
       "      <td>0.000041</td>\n",
       "      <td>1</td>\n",
       "    </tr>\n",
       "    <tr>\n",
       "      <th>2</th>\n",
       "      <td>2.5351</td>\n",
       "      <td>601.09</td>\n",
       "      <td>686240.0</td>\n",
       "      <td>-0.13940</td>\n",
       "      <td>-0.11486</td>\n",
       "      <td>-0.10936</td>\n",
       "      <td>-0.12948</td>\n",
       "      <td>-0.12599</td>\n",
       "      <td>-0.12750</td>\n",
       "      <td>-0.13485</td>\n",
       "      <td>...</td>\n",
       "      <td>3.8047</td>\n",
       "      <td>3.7870</td>\n",
       "      <td>0.31701</td>\n",
       "      <td>0.044132</td>\n",
       "      <td>0.002766</td>\n",
       "      <td>0.000358</td>\n",
       "      <td>0.000211</td>\n",
       "      <td>0.000038</td>\n",
       "      <td>0.000002</td>\n",
       "      <td>5</td>\n",
       "    </tr>\n",
       "    <tr>\n",
       "      <th>3</th>\n",
       "      <td>2.4465</td>\n",
       "      <td>637.73</td>\n",
       "      <td>122580.0</td>\n",
       "      <td>-0.14995</td>\n",
       "      <td>-0.13800</td>\n",
       "      <td>-0.12340</td>\n",
       "      <td>-0.12010</td>\n",
       "      <td>-0.12907</td>\n",
       "      <td>-0.12677</td>\n",
       "      <td>-0.13761</td>\n",
       "      <td>...</td>\n",
       "      <td>5.2128</td>\n",
       "      <td>5.4222</td>\n",
       "      <td>1.74920</td>\n",
       "      <td>0.035492</td>\n",
       "      <td>0.002503</td>\n",
       "      <td>0.000356</td>\n",
       "      <td>0.000118</td>\n",
       "      <td>0.000045</td>\n",
       "      <td>0.000006</td>\n",
       "      <td>3</td>\n",
       "    </tr>\n",
       "    <tr>\n",
       "      <th>4</th>\n",
       "      <td>2.5657</td>\n",
       "      <td>776.86</td>\n",
       "      <td>124010.0</td>\n",
       "      <td>-0.16863</td>\n",
       "      <td>-0.15935</td>\n",
       "      <td>-0.13002</td>\n",
       "      <td>-0.13167</td>\n",
       "      <td>-0.13584</td>\n",
       "      <td>-0.13075</td>\n",
       "      <td>-0.11369</td>\n",
       "      <td>...</td>\n",
       "      <td>5.9162</td>\n",
       "      <td>6.4966</td>\n",
       "      <td>4.32160</td>\n",
       "      <td>0.046871</td>\n",
       "      <td>0.002703</td>\n",
       "      <td>0.000302</td>\n",
       "      <td>0.000606</td>\n",
       "      <td>0.000152</td>\n",
       "      <td>0.000029</td>\n",
       "      <td>3</td>\n",
       "    </tr>\n",
       "  </tbody>\n",
       "</table>\n",
       "<p>5 rows × 145 columns</p>\n",
       "</div>"
      ],
      "text/plain": [
       "   PAR_TC   PAR_SC  PAR_SC_V  PAR_ASE1  PAR_ASE3  PAR_ASE6  PAR_ASE8  \\\n",
       "0  2.5788   481.45   76989.0  -0.12334  -0.11176  -0.11026  -0.12465   \n",
       "1  2.7195  1405.30  825380.0  -0.17655  -0.17773  -0.16174  -0.14458   \n",
       "2  2.5351   601.09  686240.0  -0.13940  -0.11486  -0.10936  -0.12948   \n",
       "3  2.4465   637.73  122580.0  -0.14995  -0.13800  -0.12340  -0.12010   \n",
       "4  2.5657   776.86  124010.0  -0.16863  -0.15935  -0.13002  -0.13167   \n",
       "\n",
       "   PAR_ASE9  PAR_ASE10  PAR_ASE12  ...    PAR_PEAK_RMS_TOT  \\\n",
       "0  -0.13659   -0.13951   -0.13893  ...              3.9295   \n",
       "1  -0.14691   -0.15324   -0.14155  ...              5.1372   \n",
       "2  -0.12599   -0.12750   -0.13485  ...              3.8047   \n",
       "3  -0.12907   -0.12677   -0.13761  ...              5.2128   \n",
       "4  -0.13584   -0.13075   -0.11369  ...              5.9162   \n",
       "\n",
       "   PAR_PEAK_RMS10FR_MEAN  PAR_PEAK_RMS10FR_VAR  PAR_1RMS_TCD  PAR_3RMS_TCD  \\\n",
       "0                 4.0001               0.32300      0.048272      0.002032   \n",
       "1                 5.7044               3.18450      0.085800      0.005959   \n",
       "2                 3.7870               0.31701      0.044132      0.002766   \n",
       "3                 5.4222               1.74920      0.035492      0.002503   \n",
       "4                 6.4966               4.32160      0.046871      0.002703   \n",
       "\n",
       "   PAR_ZCD_10FR_VAR  PAR_1RMS_TCD_10FR_VAR  PAR_2RMS_TCD_10FR_VAR  \\\n",
       "0          0.000091               0.000231               0.000024   \n",
       "1          0.001122               0.003869               0.000779   \n",
       "2          0.000358               0.000211               0.000038   \n",
       "3          0.000356               0.000118               0.000045   \n",
       "4          0.000302               0.000606               0.000152   \n",
       "\n",
       "   PAR_3RMS_TCD_10FR_VAR  GENRE  \n",
       "0               0.000003      5  \n",
       "1               0.000041      1  \n",
       "2               0.000002      5  \n",
       "3               0.000006      3  \n",
       "4               0.000029      3  \n",
       "\n",
       "[5 rows x 145 columns]"
      ]
     },
     "execution_count": 82,
     "metadata": {},
     "output_type": "execute_result"
    }
   ],
   "source": [
    "df_train_drop.head()"
   ]
  },
  {
   "cell_type": "code",
   "execution_count": 83,
   "metadata": {},
   "outputs": [],
   "source": [
    "# DUDAS ==== PAR_SFMV24\n",
    "col_scalar = [\"PAR_TC\", \"PAR_ASC\", \"PAR_ASS\", \"PAR_PEAK_RMS_TOT\", \"PAR_PEAK_RMS10FR_MEAN\",\n",
    "              \"PAR_SC\",\"PAR_SC_V\", ]\n",
    "#col_outliers = [\"PAR_SC\",\"PAR_SC_V\", \"PAR_PEAK_RMS10FR_VAR\"]"
   ]
  },
  {
   "cell_type": "code",
   "execution_count": 84,
   "metadata": {},
   "outputs": [],
   "source": [
    "def column_scale(df, l_cols):\n",
    "    \"\"\"\n",
    "    df: DataFrame de entrada\n",
    "    l_cols: lista de columnas a escalar\n",
    "    return: retorna un df con las columnas estandarizadas así:\n",
    "    (X - mean(X))/(max(X)-min(X))\n",
    "    \"\"\"\n",
    "    for col in l_cols:\n",
    "        #se cambia cada columna\n",
    "        df[col] = (df[col] - np.mean(df[col]))/(max(df[col]) - min(df[col]))\n",
    "        #df[col] = (df[col] - min(df[col]))/((max(df[col]) - min(df[col])))\n",
    "    return df"
   ]
  },
  {
   "cell_type": "code",
   "execution_count": 85,
   "metadata": {},
   "outputs": [],
   "source": [
    "y_trdrop = df_train_drop[\"GENRE\"]\n",
    "X_trdrop = df_train_drop.drop(\"GENRE\",axis=1)\n",
    "\n",
    "X_trdrop = column_scale(X_trdrop, col_scalar)\n",
    "X_testdrop = df_test_drop\n",
    "X_testdrop = column_scale(X_testdrop, col_scalar)\n",
    "\n",
    "X_trdrop = X_trdrop.drop(col_outliers, axis=1)\n",
    "\n",
    "X_testdrop = X_testdrop.drop(col_outliers, axis=1)"
   ]
  },
  {
   "cell_type": "code",
   "execution_count": 86,
   "metadata": {},
   "outputs": [
    {
     "name": "stdout",
     "output_type": "stream",
     "text": [
      "clase 1:  12.773109243697478\n",
      "clase 2:  27.563025210084035\n",
      "clase 3:  24.03361344537815\n",
      "clase 4:  7.394957983193278\n",
      "clase 5:  12.605042016806722\n",
      "clase 6:  15.630252100840336\n"
     ]
    }
   ],
   "source": [
    "print(\"clase 1: \",np.mean(y_trdrop==1)*100)\n",
    "print(\"clase 2: \",np.mean(y_trdrop==2)*100)\n",
    "print(\"clase 3: \",np.mean(y_trdrop==3)*100)\n",
    "print(\"clase 4: \",np.mean(y_trdrop==4)*100)\n",
    "print(\"clase 5: \",np.mean(y_trdrop==5)*100)\n",
    "print(\"clase 6: \",np.mean(y_trdrop==6)*100)"
   ]
  },
  {
   "cell_type": "code",
   "execution_count": 11,
   "metadata": {},
   "outputs": [
    {
     "name": "stderr",
     "output_type": "stream",
     "text": [
      "/home/ejrueda/anaconda3/lib/python3.6/site-packages/sklearn/preprocessing/label.py:151: DeprecationWarning: The truth value of an empty array is ambiguous. Returning False, but in future this will result in an error. Use `array.size > 0` to check that an array is not empty.\n",
      "  if diff:\n",
      "/home/ejrueda/anaconda3/lib/python3.6/site-packages/sklearn/preprocessing/label.py:151: DeprecationWarning: The truth value of an empty array is ambiguous. Returning False, but in future this will result in an error. Use `array.size > 0` to check that an array is not empty.\n",
      "  if diff:\n"
     ]
    },
    {
     "name": "stdout",
     "output_type": "stream",
     "text": [
      "0.9991996798719488\n"
     ]
    },
    {
     "name": "stderr",
     "output_type": "stream",
     "text": [
      "/home/ejrueda/anaconda3/lib/python3.6/site-packages/sklearn/preprocessing/label.py:151: DeprecationWarning: The truth value of an empty array is ambiguous. Returning False, but in future this will result in an error. Use `array.size > 0` to check that an array is not empty.\n",
      "  if diff:\n",
      "/home/ejrueda/anaconda3/lib/python3.6/site-packages/sklearn/preprocessing/label.py:151: DeprecationWarning: The truth value of an empty array is ambiguous. Returning False, but in future this will result in an error. Use `array.size > 0` to check that an array is not empty.\n",
      "  if diff:\n"
     ]
    }
   ],
   "source": [
    "from sklearn.ensemble import RandomForestClassifier, VotingClassifier\n",
    "from sklearn.tree import DecisionTreeClassifier\n",
    "from sklearn.neighbors import KNeighborsClassifier\n",
    "import xgboost as xgb\n",
    "\n",
    "clf1 = RandomForestClassifier(n_estimators=750, class_weight=\"balanced_subsample\")\n",
    "clf2 = KNeighborsClassifier(n_neighbors=12, p=1)\n",
    "clf3 = GradientBoostingClassifier(n_estimators=120, learning_rate=0.2)\n",
    "clf4 = xgb.XGBClassifier(n_estimators=250, objective='multi:softprob', n_jobs=1)\n",
    "clf5 = DecisionTreeClassifier()\n",
    "\n",
    "eclf1 = VotingClassifier(estimators=[\n",
    "        ('rfc', clf1), ('knn', clf2), ('gbc', clf3), ('xgb', clf4), ('dtc', clf5)], voting='hard')\n",
    "eclf1 = eclf1.fit(X_trdrop, y_trdrop)\n",
    "\n",
    "print(eclf1.score(X_trdrop, y_trdrop))\n",
    "\n",
    "predict = eclf1.predict(X_testdrop)"
   ]
  },
  {
   "cell_type": "code",
   "execution_count": 12,
   "metadata": {},
   "outputs": [],
   "source": [
    "result = pd.DataFrame(data=predict.astype(int), index=np.arange(1, data_test.shape[0]+1), columns=['Genres'])\n",
    "result.index.name = \"Id\"\n",
    "result.to_csv('./results/submission_test_141.csv')"
   ]
  },
  {
   "cell_type": "code",
   "execution_count": 13,
   "metadata": {},
   "outputs": [
    {
     "name": "stdout",
     "output_type": "stream",
     "text": [
      "clase 1:  7.84688995215311\n",
      "clase 2:  24.76555023923445\n",
      "clase 3:  34.50717703349282\n",
      "clase 4:  1.9330143540669857\n",
      "clase 5:  10.641148325358852\n",
      "clase 6:  20.30622009569378\n"
     ]
    }
   ],
   "source": [
    "print(\"clase 1: \",np.mean(predict==1)*100)\n",
    "print(\"clase 2: \",np.mean(predict==2)*100)\n",
    "print(\"clase 3: \",np.mean(predict==3)*100)\n",
    "print(\"clase 4: \",np.mean(predict==4)*100)\n",
    "print(\"clase 5: \",np.mean(predict==5)*100)\n",
    "print(\"clase 6: \",np.mean(predict==6)*100)"
   ]
  },
  {
   "cell_type": "code",
   "execution_count": 14,
   "metadata": {},
   "outputs": [
    {
     "name": "stderr",
     "output_type": "stream",
     "text": [
      "/home/ejrueda/anaconda3/lib/python3.6/site-packages/sklearn/preprocessing/label.py:151: DeprecationWarning: The truth value of an empty array is ambiguous. Returning False, but in future this will result in an error. Use `array.size > 0` to check that an array is not empty.\n",
      "  if diff:\n"
     ]
    }
   ],
   "source": [
    "r_class = eclf1.transform(X_testdrop)"
   ]
  },
  {
   "cell_type": "code",
   "execution_count": 13,
   "metadata": {},
   "outputs": [
    {
     "data": {
      "text/plain": [
       "array([[0, 5, 0, 0, 0],\n",
       "       [1, 1, 1, 1, 2],\n",
       "       [1, 2, 1, 1, 1],\n",
       "       ...,\n",
       "       [5, 5, 5, 5, 5],\n",
       "       [4, 4, 4, 4, 0],\n",
       "       [5, 2, 5, 5, 5]])"
      ]
     },
     "execution_count": 13,
     "metadata": {},
     "output_type": "execute_result"
    }
   ],
   "source": [
    "r_class"
   ]
  },
  {
   "cell_type": "code",
   "execution_count": 15,
   "metadata": {},
   "outputs": [],
   "source": [
    "new_data_index = []\n",
    "new_class = []\n",
    "index = 0\n",
    "for i in r_class:\n",
    "    if np.mean(i) == i[0]:\n",
    "        if int(np.mean(i))+1 == 4 or int(np.mean(i))+1 == 1 or int(np.mean(i))+1 == 5: #para escoger solo los de la clase 4\n",
    "            new_data_index.append(index)\n",
    "            new_class.append(int(np.mean(i))+1)\n",
    "    index += 1"
   ]
  },
  {
   "cell_type": "code",
   "execution_count": 15,
   "metadata": {},
   "outputs": [
    {
     "data": {
      "text/plain": [
       "(264, 264)"
      ]
     },
     "execution_count": 15,
     "metadata": {},
     "output_type": "execute_result"
    }
   ],
   "source": [
    "len(new_class), len(new_data_index)"
   ]
  },
  {
   "cell_type": "code",
   "execution_count": 16,
   "metadata": {},
   "outputs": [],
   "source": [
    "X_trdrop = pd.concat((X_trdrop, X_testdrop.loc[new_data_index]))\n",
    "y_trdrop = pd.concat((y_trdrop, pd.Series(new_class)))"
   ]
  },
  {
   "cell_type": "code",
   "execution_count": 17,
   "metadata": {},
   "outputs": [
    {
     "name": "stderr",
     "output_type": "stream",
     "text": [
      "/home/ejrueda/anaconda3/lib/python3.6/site-packages/sklearn/preprocessing/label.py:151: DeprecationWarning: The truth value of an empty array is ambiguous. Returning False, but in future this will result in an error. Use `array.size > 0` to check that an array is not empty.\n",
      "  if diff:\n",
      "/home/ejrueda/anaconda3/lib/python3.6/site-packages/sklearn/preprocessing/label.py:151: DeprecationWarning: The truth value of an empty array is ambiguous. Returning False, but in future this will result in an error. Use `array.size > 0` to check that an array is not empty.\n",
      "  if diff:\n"
     ]
    },
    {
     "name": "stdout",
     "output_type": "stream",
     "text": [
      "0.943327239488117\n"
     ]
    },
    {
     "name": "stderr",
     "output_type": "stream",
     "text": [
      "/home/ejrueda/anaconda3/lib/python3.6/site-packages/sklearn/preprocessing/label.py:151: DeprecationWarning: The truth value of an empty array is ambiguous. Returning False, but in future this will result in an error. Use `array.size > 0` to check that an array is not empty.\n",
      "  if diff:\n",
      "/home/ejrueda/anaconda3/lib/python3.6/site-packages/sklearn/preprocessing/label.py:151: DeprecationWarning: The truth value of an empty array is ambiguous. Returning False, but in future this will result in an error. Use `array.size > 0` to check that an array is not empty.\n",
      "  if diff:\n"
     ]
    }
   ],
   "source": [
    "from sklearn.ensemble import RandomForestClassifier, VotingClassifier\n",
    "from sklearn.tree import DecisionTreeClassifier\n",
    "from sklearn.neighbors import KNeighborsClassifier\n",
    "from sklearn.naive_bayes import GaussianNB\n",
    "import xgboost as xgb\n",
    "from sklearn.discriminant_analysis import LinearDiscriminantAnalysis\n",
    "\n",
    "clf1 = RandomForestClassifier(n_estimators=750, class_weight=\"balanced_subsample\")\n",
    "clf2 = KNeighborsClassifier(n_neighbors=12, p=1)\n",
    "clf3 = GradientBoostingClassifier(n_estimators=120, learning_rate=0.2)\n",
    "clf4 = xgb.XGBClassifier(n_estimators=250, objective='multi:softprob', n_jobs=1)\n",
    "clf5 = DecisionTreeClassifier()\n",
    "clf6 = GaussianNB()\n",
    "clf7 = LinearDiscriminantAnalysis(solver=\"lsqr\",n_components=1)\n",
    "\n",
    "eclf1 = VotingClassifier(estimators=[\n",
    "        ('rfc', clf1), ('knn', clf2), ('gbc', clf3), ('xgb', clf4), ('dtc', clf5), ('gnb',clf6),('lda',clf7)],\n",
    "                         voting='hard')\n",
    "\n",
    "X_train, X_test, y_train, y_test = train_test_split(X_trdrop, y_trdrop, test_size=0.3, random_state=42)\n",
    "eclf1 = eclf1.fit(X_train, y_train)\n",
    "\n",
    "#score = cross_val_score(eclf1, X_trdrop, y_trdrop, cv=10, n_jobs=2)\n",
    "\n",
    "print(eclf1.score(X_test, y_test))\n",
    "\n",
    "predict = eclf1.predict(X_test)\n",
    "#result = pd.DataFrame(data=predict.astype(int), index=np.arange(1, data_test.shape[0]+1), columns=['Genres'])\n",
    "#result.index.name = \"Id\"\n",
    "#result.to_csv('./results/submission_test_142.csv')"
   ]
  },
  {
   "cell_type": "code",
   "execution_count": 18,
   "metadata": {},
   "outputs": [
    {
     "data": {
      "text/plain": [
       "array([0.94453125, 0.940625  , 0.93119625, 0.92241379, 0.94196078,\n",
       "       0.94509804, 0.94745098, 0.94980392, 0.95133438, 0.95918367])"
      ]
     },
     "execution_count": 18,
     "metadata": {},
     "output_type": "execute_result"
    }
   ],
   "source": [
    "score"
   ]
  },
  {
   "cell_type": "code",
   "execution_count": 92,
   "metadata": {},
   "outputs": [
    {
     "data": {
      "text/plain": [
       "0.009863"
      ]
     },
     "execution_count": 92,
     "metadata": {},
     "output_type": "execute_result"
    }
   ],
   "source": [
    "np.round(np.std(np.array([0.94453125, 0.940625  , 0.93119625, 0.92241379, 0.94196078,\n",
    "       0.94509804, 0.94745098, 0.94980392, 0.95133438, 0.95918367])),6)"
   ]
  },
  {
   "cell_type": "code",
   "execution_count": 43,
   "metadata": {},
   "outputs": [
    {
     "data": {
      "image/png": "[encoded data removed]",
      "text/plain": [
       "<Figure size 504x288 with 1 Axes>"
      ]
     },
     "metadata": {},
     "output_type": "display_data"
    }
   ],
   "source": [
    "plt.figure(figsize=(7,4))\n",
    "plt.grid()\n",
    "plt.ylabel(\"Score\", fontsize=13.5)\n",
    "plt.xlabel(\"k-fold\", fontsize=13.5)\n",
    "plt.xticks(range(1,11),range(1,11))\n",
    "plt.plot(range(1,11), score, label=\"score\",linewidth=2)\n",
    "plt.plot(range(1,11), np.ones(10)*np.mean(score), color=\"red\", alpha=1, linestyle='--')\n",
    "plt.legend();"
   ]
  },
  {
   "cell_type": "code",
   "execution_count": null,
   "metadata": {},
   "outputs": [],
   "source": []
  },
  {
   "cell_type": "code",
   "execution_count": 18,
   "metadata": {},
   "outputs": [
    {
     "name": "stdout",
     "output_type": "stream",
     "text": [
      "clase 1:  13.42\n",
      "clase 2:  28.6\n",
      "clase 3:  21.78\n",
      "clase 4:  7.42\n",
      "clase 5:  14.02\n",
      "clase 6:  14.76\n"
     ]
    }
   ],
   "source": [
    "print(\"clase 1: \",np.round(np.mean(predict==1)*100, 2))\n",
    "print(\"clase 2: \",np.round(np.mean(predict==2)*100, 2))\n",
    "print(\"clase 3: \",np.round(np.mean(predict==3)*100, 2))\n",
    "print(\"clase 4: \",np.round(np.mean(predict==4)*100, 2))\n",
    "print(\"clase 5: \",np.round(np.mean(predict==5)*100, 2))\n",
    "print(\"clase 6: \",np.round(np.mean(predict==6)*100, 2))"
   ]
  },
  {
   "cell_type": "code",
   "execution_count": 32,
   "metadata": {},
   "outputs": [
    {
     "data": {
      "text/plain": [
       "array([[ 496,    0,    1,    0,    2,    2],\n",
       "       [   0, 1004,   17,    0,    0,    0],\n",
       "       [   1,   87,  780,    0,    0,    3],\n",
       "       [  10,    0,    2,  272,    5,    8],\n",
       "       [   7,    0,    2,    4,  520,   12],\n",
       "       [   0,    4,   32,    8,   10,  540]])"
      ]
     },
     "execution_count": 32,
     "metadata": {},
     "output_type": "execute_result"
    }
   ],
   "source": [
    "from sklearn.metrics import confusion_matrix\n",
    "\n",
    "mc = confusion_matrix(y_test, predict)\n",
    "mc"
   ]
  },
  {
   "cell_type": "code",
   "execution_count": 4,
   "metadata": {},
   "outputs": [],
   "source": [
    "mc = np.array([[ 496,    0,    1,    0,    2,    2],\n",
    "       [   0, 1004,   17,    0,    0,    0],\n",
    "       [   1,   87,  780,    0,    0,    3],\n",
    "       [  10,    0,    2,  272,    5,    8],\n",
    "       [   7,    0,    2,    4,  520,   12],\n",
    "       [   0,    4,   32,    8,   10,  540]])"
   ]
  },
  {
   "cell_type": "code",
   "execution_count": 7,
   "metadata": {},
   "outputs": [
    {
     "data": {
      "image/png": "[encoded data removed]",
      "text/plain": [
       "<Figure size 432x288 with 2 Axes>"
      ]
     },
     "metadata": {},
     "output_type": "display_data"
    }
   ],
   "source": [
    "plt.imshow(mc, interpolation='nearest', cmap=plt.get_cmap('Blues'))\n",
    "plt.title(\"matriz de confução\", size=13)\n",
    "plt.xlabel(\"classes\")\n",
    "plt.ylabel(\"classes\")\n",
    "plt.xticks(range(0,6),range(1,7))\n",
    "plt.yticks(range(0,6),range(1,7))\n",
    "plt.colorbar();"
   ]
  },
  {
   "cell_type": "code",
   "execution_count": null,
   "metadata": {},
   "outputs": [],
   "source": []
  },
  {
   "cell_type": "code",
   "execution_count": null,
   "metadata": {},
   "outputs": [],
   "source": []
  },
  {
   "cell_type": "code",
   "execution_count": null,
   "metadata": {},
   "outputs": [],
   "source": []
  },
  {
   "cell_type": "code",
   "execution_count": null,
   "metadata": {},
   "outputs": [],
   "source": [
    "#PAR_THR_3RMS_10FR_VAR"
   ]
  },
  {
   "cell_type": "code",
   "execution_count": 24,
   "metadata": {},
   "outputs": [],
   "source": [
    "X_trdrop = X_trdrop.drop(\"PAR_THR_3RMS_10FR_VAR\", axis=1)\n",
    "X_testdrop = X_testdrop.drop(\"PAR_THR_3RMS_10FR_VAR\", axis=1)"
   ]
  },
  {
   "cell_type": "code",
   "execution_count": 25,
   "metadata": {},
   "outputs": [
    {
     "name": "stderr",
     "output_type": "stream",
     "text": [
      "/home/ejrueda/anaconda3/lib/python3.6/site-packages/sklearn/preprocessing/label.py:151: DeprecationWarning: The truth value of an empty array is ambiguous. Returning False, but in future this will result in an error. Use `array.size > 0` to check that an array is not empty.\n",
      "  if diff:\n",
      "/home/ejrueda/anaconda3/lib/python3.6/site-packages/sklearn/preprocessing/label.py:151: DeprecationWarning: The truth value of an empty array is ambiguous. Returning False, but in future this will result in an error. Use `array.size > 0` to check that an array is not empty.\n",
      "  if diff:\n"
     ]
    },
    {
     "name": "stdout",
     "output_type": "stream",
     "text": [
      "0.9959241260385641\n"
     ]
    },
    {
     "name": "stderr",
     "output_type": "stream",
     "text": [
      "/home/ejrueda/anaconda3/lib/python3.6/site-packages/sklearn/preprocessing/label.py:151: DeprecationWarning: The truth value of an empty array is ambiguous. Returning False, but in future this will result in an error. Use `array.size > 0` to check that an array is not empty.\n",
      "  if diff:\n",
      "/home/ejrueda/anaconda3/lib/python3.6/site-packages/sklearn/preprocessing/label.py:151: DeprecationWarning: The truth value of an empty array is ambiguous. Returning False, but in future this will result in an error. Use `array.size > 0` to check that an array is not empty.\n",
      "  if diff:\n"
     ]
    }
   ],
   "source": [
    "from sklearn.ensemble import RandomForestClassifier, VotingClassifier\n",
    "from sklearn.tree import DecisionTreeClassifier\n",
    "from sklearn.neighbors import KNeighborsClassifier\n",
    "from sklearn.naive_bayes import GaussianNB\n",
    "import xgboost as xgb\n",
    "from sklearn.discriminant_analysis import LinearDiscriminantAnalysis\n",
    "\n",
    "clf1 = RandomForestClassifier(n_estimators=750, class_weight=\"balanced_subsample\")\n",
    "clf2 = KNeighborsClassifier(n_neighbors=12, p=1)\n",
    "clf3 = GradientBoostingClassifier(n_estimators=120, learning_rate=0.2)\n",
    "clf4 = xgb.XGBClassifier(n_estimators=250, objective='multi:softprob', n_jobs=1)\n",
    "clf5 = DecisionTreeClassifier()\n",
    "clf6 = GaussianNB()\n",
    "clf7 = LinearDiscriminantAnalysis(solver=\"lsqr\",n_components=1)\n",
    "\n",
    "eclf1 = VotingClassifier(estimators=[\n",
    "        ('rfc', clf1), ('knn', clf2), ('gbc', clf3), ('xgb', clf4), ('dtc', clf5), ('gnb',clf6),('lda',clf7)],\n",
    "                         voting='hard')\n",
    "eclf1 = eclf1.fit(X_trdrop, y_trdrop)\n",
    "\n",
    "print(eclf1.score(X_trdrop, y_trdrop))\n",
    "\n",
    "predict = eclf1.predict(X_testdrop)\n",
    "result = pd.DataFrame(data=predict.astype(int), index=np.arange(1, data_test.shape[0]+1), columns=['Genres'])\n",
    "result.index.name = \"Id\"\n",
    "result.to_csv('./results/submission_test_143.csv')"
   ]
  },
  {
   "cell_type": "code",
   "execution_count": 26,
   "metadata": {},
   "outputs": [
    {
     "name": "stdout",
     "output_type": "stream",
     "text": [
      "clase 1:  7.291866028708134\n",
      "clase 2:  25.014354066985646\n",
      "clase 3:  34.25837320574163\n",
      "clase 4:  2.0095693779904304\n",
      "clase 5:  11.942583732057416\n",
      "clase 6:  19.483253588516746\n"
     ]
    }
   ],
   "source": [
    "print(\"clase 1: \",np.mean(predict==1)*100)\n",
    "print(\"clase 2: \",np.mean(predict==2)*100)\n",
    "print(\"clase 3: \",np.mean(predict==3)*100)\n",
    "print(\"clase 4: \",np.mean(predict==4)*100)\n",
    "print(\"clase 5: \",np.mean(predict==5)*100)\n",
    "print(\"clase 6: \",np.mean(predict==6)*100)"
   ]
  },
  {
   "cell_type": "code",
   "execution_count": 27,
   "metadata": {},
   "outputs": [],
   "source": [
    "import pickle\n",
    "\n",
    "filename = 'model_0.78621.sav'\n",
    "pickle.dump(eclf1, open(filename, 'wb'))"
   ]
  },
  {
   "cell_type": "code",
   "execution_count": null,
   "metadata": {},
   "outputs": [],
   "source": []
  }
 ],
 "metadata": {
  "kernelspec": {
   "display_name": "Python 3",
   "language": "python",
   "name": "python3"
  },
  "language_info": {
   "codemirror_mode": {
    "name": "ipython",
    "version": 3
   },
   "file_extension": ".py",
   "mimetype": "text/x-python",
   "name": "python",
   "nbconvert_exporter": "python",
   "pygments_lexer": "ipython3",
   "version": "3.6.5"
  }
 },
 "nbformat": 4,
 "nbformat_minor": 2
}
