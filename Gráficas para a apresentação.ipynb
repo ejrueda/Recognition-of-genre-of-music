{
 "cells": [
  {
   "cell_type": "code",
   "execution_count": 1,
   "metadata": {},
   "outputs": [],
   "source": [
    "import pandas as pd\n",
    "import numpy as np\n",
    "from sklearn.ensemble import RandomForestClassifier\n",
    "from sklearn.ensemble import GradientBoostingClassifier\n",
    "from sklearn.discriminant_analysis import LinearDiscriminantAnalysis\n",
    "from sklearn.preprocessing import minmax_scale\n",
    "from sklearn.model_selection import cross_val_score\n",
    "from sklearn.model_selection import train_test_split\n",
    "import matplotlib.pyplot as plt"
   ]
  },
  {
   "cell_type": "code",
   "execution_count": 2,
   "metadata": {},
   "outputs": [
    {
     "data": {
      "text/html": [
       "<div>\n",
       "<style scoped>\n",
       "    .dataframe tbody tr th:only-of-type {\n",
       "        vertical-align: middle;\n",
       "    }\n",
       "\n",
       "    .dataframe tbody tr th {\n",
       "        vertical-align: top;\n",
       "    }\n",
       "\n",
       "    .dataframe thead th {\n",
       "        text-align: right;\n",
       "    }\n",
       "</style>\n",
       "<table border=\"1\" class=\"dataframe\">\n",
       "  <thead>\n",
       "    <tr style=\"text-align: right;\">\n",
       "      <th></th>\n",
       "      <th>PAR_TC</th>\n",
       "      <th>PAR_SC</th>\n",
       "      <th>PAR_SC_V</th>\n",
       "      <th>PAR_ASE1</th>\n",
       "      <th>PAR_ASE2</th>\n",
       "      <th>PAR_ASE3</th>\n",
       "      <th>PAR_ASE4</th>\n",
       "      <th>PAR_ASE5</th>\n",
       "      <th>PAR_ASE6</th>\n",
       "      <th>PAR_ASE7</th>\n",
       "      <th>...</th>\n",
       "      <th>PAR_3RMS_TCD</th>\n",
       "      <th>PAR_ZCD_10FR_MEAN</th>\n",
       "      <th>PAR_ZCD_10FR_VAR</th>\n",
       "      <th>PAR_1RMS_TCD_10FR_MEAN</th>\n",
       "      <th>PAR_1RMS_TCD_10FR_VAR</th>\n",
       "      <th>PAR_2RMS_TCD_10FR_MEAN</th>\n",
       "      <th>PAR_2RMS_TCD_10FR_VAR</th>\n",
       "      <th>PAR_3RMS_TCD_10FR_MEAN</th>\n",
       "      <th>PAR_3RMS_TCD_10FR_VAR</th>\n",
       "      <th>GENRE</th>\n",
       "    </tr>\n",
       "  </thead>\n",
       "  <tbody>\n",
       "    <tr>\n",
       "      <th>0</th>\n",
       "      <td>2.5788</td>\n",
       "      <td>481.45</td>\n",
       "      <td>76989.0</td>\n",
       "      <td>-0.12334</td>\n",
       "      <td>-0.11578</td>\n",
       "      <td>-0.11176</td>\n",
       "      <td>-0.10412</td>\n",
       "      <td>-0.106100</td>\n",
       "      <td>-0.11026</td>\n",
       "      <td>-0.11375</td>\n",
       "      <td>...</td>\n",
       "      <td>0.002032</td>\n",
       "      <td>0.041056</td>\n",
       "      <td>0.000091</td>\n",
       "      <td>0.049627</td>\n",
       "      <td>0.000231</td>\n",
       "      <td>0.011265</td>\n",
       "      <td>0.000024</td>\n",
       "      <td>0.002177</td>\n",
       "      <td>0.000003</td>\n",
       "      <td>Pop</td>\n",
       "    </tr>\n",
       "    <tr>\n",
       "      <th>1</th>\n",
       "      <td>2.7195</td>\n",
       "      <td>1405.30</td>\n",
       "      <td>825380.0</td>\n",
       "      <td>-0.17655</td>\n",
       "      <td>-0.18323</td>\n",
       "      <td>-0.17773</td>\n",
       "      <td>-0.17057</td>\n",
       "      <td>-0.166440</td>\n",
       "      <td>-0.16174</td>\n",
       "      <td>-0.15371</td>\n",
       "      <td>...</td>\n",
       "      <td>0.005959</td>\n",
       "      <td>0.082830</td>\n",
       "      <td>0.001122</td>\n",
       "      <td>0.093622</td>\n",
       "      <td>0.003869</td>\n",
       "      <td>0.031467</td>\n",
       "      <td>0.000779</td>\n",
       "      <td>0.006716</td>\n",
       "      <td>0.000041</td>\n",
       "      <td>Blues</td>\n",
       "    </tr>\n",
       "    <tr>\n",
       "      <th>2</th>\n",
       "      <td>2.5351</td>\n",
       "      <td>601.09</td>\n",
       "      <td>686240.0</td>\n",
       "      <td>-0.13940</td>\n",
       "      <td>-0.13251</td>\n",
       "      <td>-0.11486</td>\n",
       "      <td>-0.10173</td>\n",
       "      <td>-0.099342</td>\n",
       "      <td>-0.10936</td>\n",
       "      <td>-0.12668</td>\n",
       "      <td>...</td>\n",
       "      <td>0.002766</td>\n",
       "      <td>0.043652</td>\n",
       "      <td>0.000358</td>\n",
       "      <td>0.045415</td>\n",
       "      <td>0.000211</td>\n",
       "      <td>0.013850</td>\n",
       "      <td>0.000038</td>\n",
       "      <td>0.003069</td>\n",
       "      <td>0.000002</td>\n",
       "      <td>Pop</td>\n",
       "    </tr>\n",
       "    <tr>\n",
       "      <th>3</th>\n",
       "      <td>2.4465</td>\n",
       "      <td>637.73</td>\n",
       "      <td>122580.0</td>\n",
       "      <td>-0.14995</td>\n",
       "      <td>-0.14802</td>\n",
       "      <td>-0.13800</td>\n",
       "      <td>-0.12927</td>\n",
       "      <td>-0.125150</td>\n",
       "      <td>-0.12340</td>\n",
       "      <td>-0.12159</td>\n",
       "      <td>...</td>\n",
       "      <td>0.002503</td>\n",
       "      <td>0.045159</td>\n",
       "      <td>0.000356</td>\n",
       "      <td>0.037388</td>\n",
       "      <td>0.000118</td>\n",
       "      <td>0.011897</td>\n",
       "      <td>0.000045</td>\n",
       "      <td>0.002645</td>\n",
       "      <td>0.000006</td>\n",
       "      <td>Jazz</td>\n",
       "    </tr>\n",
       "    <tr>\n",
       "      <th>4</th>\n",
       "      <td>2.5657</td>\n",
       "      <td>776.86</td>\n",
       "      <td>124010.0</td>\n",
       "      <td>-0.16863</td>\n",
       "      <td>-0.16112</td>\n",
       "      <td>-0.15935</td>\n",
       "      <td>-0.15120</td>\n",
       "      <td>-0.140340</td>\n",
       "      <td>-0.13002</td>\n",
       "      <td>-0.12804</td>\n",
       "      <td>...</td>\n",
       "      <td>0.002703</td>\n",
       "      <td>0.047347</td>\n",
       "      <td>0.000302</td>\n",
       "      <td>0.049469</td>\n",
       "      <td>0.000606</td>\n",
       "      <td>0.014052</td>\n",
       "      <td>0.000152</td>\n",
       "      <td>0.003244</td>\n",
       "      <td>0.000029</td>\n",
       "      <td>Jazz</td>\n",
       "    </tr>\n",
       "  </tbody>\n",
       "</table>\n",
       "<p>5 rows × 192 columns</p>\n",
       "</div>"
      ],
      "text/plain": [
       "   PAR_TC   PAR_SC  PAR_SC_V  PAR_ASE1  PAR_ASE2  PAR_ASE3  PAR_ASE4  \\\n",
       "0  2.5788   481.45   76989.0  -0.12334  -0.11578  -0.11176  -0.10412   \n",
       "1  2.7195  1405.30  825380.0  -0.17655  -0.18323  -0.17773  -0.17057   \n",
       "2  2.5351   601.09  686240.0  -0.13940  -0.13251  -0.11486  -0.10173   \n",
       "3  2.4465   637.73  122580.0  -0.14995  -0.14802  -0.13800  -0.12927   \n",
       "4  2.5657   776.86  124010.0  -0.16863  -0.16112  -0.15935  -0.15120   \n",
       "\n",
       "   PAR_ASE5  PAR_ASE6  PAR_ASE7  ...    PAR_3RMS_TCD  PAR_ZCD_10FR_MEAN  \\\n",
       "0 -0.106100  -0.11026  -0.11375  ...        0.002032           0.041056   \n",
       "1 -0.166440  -0.16174  -0.15371  ...        0.005959           0.082830   \n",
       "2 -0.099342  -0.10936  -0.12668  ...        0.002766           0.043652   \n",
       "3 -0.125150  -0.12340  -0.12159  ...        0.002503           0.045159   \n",
       "4 -0.140340  -0.13002  -0.12804  ...        0.002703           0.047347   \n",
       "\n",
       "   PAR_ZCD_10FR_VAR  PAR_1RMS_TCD_10FR_MEAN  PAR_1RMS_TCD_10FR_VAR  \\\n",
       "0          0.000091                0.049627               0.000231   \n",
       "1          0.001122                0.093622               0.003869   \n",
       "2          0.000358                0.045415               0.000211   \n",
       "3          0.000356                0.037388               0.000118   \n",
       "4          0.000302                0.049469               0.000606   \n",
       "\n",
       "   PAR_2RMS_TCD_10FR_MEAN  PAR_2RMS_TCD_10FR_VAR  PAR_3RMS_TCD_10FR_MEAN  \\\n",
       "0                0.011265               0.000024                0.002177   \n",
       "1                0.031467               0.000779                0.006716   \n",
       "2                0.013850               0.000038                0.003069   \n",
       "3                0.011897               0.000045                0.002645   \n",
       "4                0.014052               0.000152                0.003244   \n",
       "\n",
       "   PAR_3RMS_TCD_10FR_VAR  GENRE  \n",
       "0               0.000003    Pop  \n",
       "1               0.000041  Blues  \n",
       "2               0.000002    Pop  \n",
       "3               0.000006   Jazz  \n",
       "4               0.000029   Jazz  \n",
       "\n",
       "[5 rows x 192 columns]"
      ]
     },
     "execution_count": 2,
     "metadata": {},
     "output_type": "execute_result"
    }
   ],
   "source": [
    "data_train = pd.read_csv(\"./data/genresTrain.csv\")\n",
    "data_train.head()"
   ]
  },
  {
   "cell_type": "code",
   "execution_count": 3,
   "metadata": {},
   "outputs": [],
   "source": [
    "data_train.loc[data_train.loc[:,\"GENRE\"]==\"Blues\", \"GENRE\"] = 1\n",
    "data_train.loc[data_train.loc[:,\"GENRE\"]==\"Classical\", \"GENRE\"] = 2\n",
    "data_train.loc[data_train.loc[:,\"GENRE\"]==\"Jazz\", \"GENRE\"] = 3\n",
    "data_train.loc[data_train.loc[:,\"GENRE\"]==\"Metal\", \"GENRE\"] = 4\n",
    "data_train.loc[data_train.loc[:,\"GENRE\"]==\"Pop\", \"GENRE\"] = 5\n",
    "data_train.loc[data_train.loc[:,\"GENRE\"]==\"Rock\", \"GENRE\"] = 6"
   ]
  },
  {
   "cell_type": "code",
   "execution_count": 20,
   "metadata": {},
   "outputs": [],
   "source": [
    "score = []\n",
    "m_cor = data_train.corr()\n",
    "dict_l = {}\n",
    "for idx_cor in [.6, .65, .7, .75, .8, .82, .84, .85, .87, .89, .9, .91, .95]:\n",
    "    for i in m_cor.index:\n",
    "        dict_l.update({i:m_cor[m_cor[i]>idx_cor].index})\n",
    "    cols_drop = []\n",
    "    for idx in dict_l:\n",
    "        if not (idx in cols_drop): #si ya está para eliminar no se revisa\n",
    "            for j in range(len(dict_l[idx])):\n",
    "                if idx != dict_l[idx][j]: #el se quiere mantener\n",
    "                    if not (dict_l[idx][j] in cols_drop): #si no se a eliminado se puede eliminar\n",
    "                        cols_drop.append(dict_l[idx][j])\n",
    "\n",
    "    df_train_drop = data_train\n",
    "    for idx in np.unique(cols_drop):\n",
    "        df_train_drop = df_train_drop.drop(idx,axis=1)\n",
    "    \n",
    "    clf = RandomForestClassifier(n_estimators=750, class_weight=\"balanced_subsample\")\n",
    "    y  = df_train_drop[\"GENRE\"]\n",
    "    X = df_train_drop.drop(\"GENRE\",axis=1)\n",
    "    score.append(np.mean(cross_val_score(clf, X,y, n_jobs=2)))"
   ]
  },
  {
   "cell_type": "code",
   "execution_count": 21,
   "metadata": {},
   "outputs": [
    {
     "data": {
      "text/plain": [
       "[0.9293317326930772,\n",
       " 0.9295718287314926,\n",
       " 0.9310124049619848,\n",
       " 0.9310924369747898,\n",
       " 0.9313325330132054,\n",
       " 0.9326930772308923,\n",
       " 0.9345338135254102,\n",
       " 0.9341336534613845,\n",
       " 0.9338935574229691,\n",
       " 0.933813525410164,\n",
       " 0.9344537815126049,\n",
       " 0.9336534613845539,\n",
       " 0.9346138455382152]"
      ]
     },
     "execution_count": 21,
     "metadata": {},
     "output_type": "execute_result"
    }
   ],
   "source": [
    "score"
   ]
  },
  {
   "cell_type": "code",
   "execution_count": 3,
   "metadata": {},
   "outputs": [
    {
     "data": {
      "image/png": "[encoded data removed]",
      "text/plain": [
       "<Figure size 504x288 with 1 Axes>"
      ]
     },
     "metadata": {},
     "output_type": "display_data"
    }
   ],
   "source": [
    "plt.figure(figsize=(7,4))\n",
    "plt.title(\"score de acordo com a correlação\")\n",
    "plt.xlabel(\"indice de Correlação dos dados\")\n",
    "plt.ylabel(\"score cross-validation\")\n",
    "plt.grid()\n",
    "plt.plot([.6, .65, .7, .75, .8, .82, .84, .85, .87, .89, .9, .91, .95], score, label=\"score\", linewidth=2, color=\"green\")\n",
    "plt.legend();"
   ]
  },
  {
   "cell_type": "code",
   "execution_count": null,
   "metadata": {},
   "outputs": [],
   "source": []
  },
  {
   "cell_type": "code",
   "execution_count": null,
   "metadata": {},
   "outputs": [],
   "source": []
  },
  {
   "cell_type": "code",
   "execution_count": 5,
   "metadata": {},
   "outputs": [],
   "source": [
    "sc = np.array([0.94453125, 0.940625  , 0.93119625, 0.92241379, 0.94196078,\n",
    "       0.94509804, 0.94745098, 0.94980392, 0.95133438, 0.95918367])"
   ]
  },
  {
   "cell_type": "code",
   "execution_count": 15,
   "metadata": {},
   "outputs": [
    {
     "data": {
      "image/png": "[encoded data removed]",
      "text/plain": [
       "<Figure size 504x288 with 1 Axes>"
      ]
     },
     "metadata": {},
     "output_type": "display_data"
    }
   ],
   "source": [
    "plt.figure(figsize=(7,4))\n",
    "plt.grid()\n",
    "plt.title(\"Score do comité de clasificação\")\n",
    "plt.ylabel(\"Score\", fontsize=13.5)\n",
    "plt.xlabel(\"k-fold\", fontsize=13.5)\n",
    "plt.xticks(range(1,11),range(1,11))\n",
    "plt.plot(range(1,11), sc, label=\"score\",linewidth=2)\n",
    "#plt.plot(range(1,11), np.ones(10)*np.mean(sc), color=\"red\", alpha=1, linestyle='--')\n",
    "plt.fill_between(range(1,11), sc - np.std(sc), sc + np.std(sc),color='gray', alpha=0.2, label=\"std\")\n",
    "plt.legend(loc=4);"
   ]
  },
  {
   "cell_type": "code",
   "execution_count": null,
   "metadata": {},
   "outputs": [],
   "source": []
  }
 ],
 "metadata": {
  "kernelspec": {
   "display_name": "Python 3",
   "language": "python",
   "name": "python3"
  },
  "language_info": {
   "codemirror_mode": {
    "name": "ipython",
    "version": 3
   },
   "file_extension": ".py",
   "mimetype": "text/x-python",
   "name": "python",
   "nbconvert_exporter": "python",
   "pygments_lexer": "ipython3",
   "version": "3.6.5"
  }
 },
 "nbformat": 4,
 "nbformat_minor": 2
}
