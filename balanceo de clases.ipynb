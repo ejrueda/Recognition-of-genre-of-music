{
 "cells": [
  {
   "cell_type": "code",
   "execution_count": 52,
   "metadata": {},
   "outputs": [],
   "source": [
    "import pandas as pd\n",
    "import numpy as np\n",
    "from sklearn.ensemble import RandomForestClassifier\n",
    "from sklearn.ensemble import GradientBoostingClassifier\n",
    "from sklearn.preprocessing import minmax_scale\n",
    "from sklearn.model_selection import cross_val_score\n",
    "from sklearn.model_selection import train_test_split\n",
    "from sklearn.neighbors import NearestNeighbors\n",
    "from sklearn.metrics import confusion_matrix\n",
    "import matplotlib.pyplot as plt"
   ]
  },
  {
   "cell_type": "code",
   "execution_count": 53,
   "metadata": {},
   "outputs": [
    {
     "data": {
      "text/html": [
       "<div>\n",
       "<style scoped>\n",
       "    .dataframe tbody tr th:only-of-type {\n",
       "        vertical-align: middle;\n",
       "    }\n",
       "\n",
       "    .dataframe tbody tr th {\n",
       "        vertical-align: top;\n",
       "    }\n",
       "\n",
       "    .dataframe thead th {\n",
       "        text-align: right;\n",
       "    }\n",
       "</style>\n",
       "<table border=\"1\" class=\"dataframe\">\n",
       "  <thead>\n",
       "    <tr style=\"text-align: right;\">\n",
       "      <th></th>\n",
       "      <th>PAR_TC</th>\n",
       "      <th>PAR_SC</th>\n",
       "      <th>PAR_SC_V</th>\n",
       "      <th>PAR_ASE1</th>\n",
       "      <th>PAR_ASE2</th>\n",
       "      <th>PAR_ASE3</th>\n",
       "      <th>PAR_ASE4</th>\n",
       "      <th>PAR_ASE5</th>\n",
       "      <th>PAR_ASE6</th>\n",
       "      <th>PAR_ASE7</th>\n",
       "      <th>...</th>\n",
       "      <th>PAR_3RMS_TCD</th>\n",
       "      <th>PAR_ZCD_10FR_MEAN</th>\n",
       "      <th>PAR_ZCD_10FR_VAR</th>\n",
       "      <th>PAR_1RMS_TCD_10FR_MEAN</th>\n",
       "      <th>PAR_1RMS_TCD_10FR_VAR</th>\n",
       "      <th>PAR_2RMS_TCD_10FR_MEAN</th>\n",
       "      <th>PAR_2RMS_TCD_10FR_VAR</th>\n",
       "      <th>PAR_3RMS_TCD_10FR_MEAN</th>\n",
       "      <th>PAR_3RMS_TCD_10FR_VAR</th>\n",
       "      <th>GENRE</th>\n",
       "    </tr>\n",
       "  </thead>\n",
       "  <tbody>\n",
       "    <tr>\n",
       "      <th>0</th>\n",
       "      <td>2.5788</td>\n",
       "      <td>481.45</td>\n",
       "      <td>76989.0</td>\n",
       "      <td>-0.12334</td>\n",
       "      <td>-0.11578</td>\n",
       "      <td>-0.11176</td>\n",
       "      <td>-0.10412</td>\n",
       "      <td>-0.106100</td>\n",
       "      <td>-0.11026</td>\n",
       "      <td>-0.11375</td>\n",
       "      <td>...</td>\n",
       "      <td>0.002032</td>\n",
       "      <td>0.041056</td>\n",
       "      <td>0.000091</td>\n",
       "      <td>0.049627</td>\n",
       "      <td>0.000231</td>\n",
       "      <td>0.011265</td>\n",
       "      <td>0.000024</td>\n",
       "      <td>0.002177</td>\n",
       "      <td>0.000003</td>\n",
       "      <td>Pop</td>\n",
       "    </tr>\n",
       "    <tr>\n",
       "      <th>1</th>\n",
       "      <td>2.7195</td>\n",
       "      <td>1405.30</td>\n",
       "      <td>825380.0</td>\n",
       "      <td>-0.17655</td>\n",
       "      <td>-0.18323</td>\n",
       "      <td>-0.17773</td>\n",
       "      <td>-0.17057</td>\n",
       "      <td>-0.166440</td>\n",
       "      <td>-0.16174</td>\n",
       "      <td>-0.15371</td>\n",
       "      <td>...</td>\n",
       "      <td>0.005959</td>\n",
       "      <td>0.082830</td>\n",
       "      <td>0.001122</td>\n",
       "      <td>0.093622</td>\n",
       "      <td>0.003869</td>\n",
       "      <td>0.031467</td>\n",
       "      <td>0.000779</td>\n",
       "      <td>0.006716</td>\n",
       "      <td>0.000041</td>\n",
       "      <td>Blues</td>\n",
       "    </tr>\n",
       "    <tr>\n",
       "      <th>2</th>\n",
       "      <td>2.5351</td>\n",
       "      <td>601.09</td>\n",
       "      <td>686240.0</td>\n",
       "      <td>-0.13940</td>\n",
       "      <td>-0.13251</td>\n",
       "      <td>-0.11486</td>\n",
       "      <td>-0.10173</td>\n",
       "      <td>-0.099342</td>\n",
       "      <td>-0.10936</td>\n",
       "      <td>-0.12668</td>\n",
       "      <td>...</td>\n",
       "      <td>0.002766</td>\n",
       "      <td>0.043652</td>\n",
       "      <td>0.000358</td>\n",
       "      <td>0.045415</td>\n",
       "      <td>0.000211</td>\n",
       "      <td>0.013850</td>\n",
       "      <td>0.000038</td>\n",
       "      <td>0.003069</td>\n",
       "      <td>0.000002</td>\n",
       "      <td>Pop</td>\n",
       "    </tr>\n",
       "    <tr>\n",
       "      <th>3</th>\n",
       "      <td>2.4465</td>\n",
       "      <td>637.73</td>\n",
       "      <td>122580.0</td>\n",
       "      <td>-0.14995</td>\n",
       "      <td>-0.14802</td>\n",
       "      <td>-0.13800</td>\n",
       "      <td>-0.12927</td>\n",
       "      <td>-0.125150</td>\n",
       "      <td>-0.12340</td>\n",
       "      <td>-0.12159</td>\n",
       "      <td>...</td>\n",
       "      <td>0.002503</td>\n",
       "      <td>0.045159</td>\n",
       "      <td>0.000356</td>\n",
       "      <td>0.037388</td>\n",
       "      <td>0.000118</td>\n",
       "      <td>0.011897</td>\n",
       "      <td>0.000045</td>\n",
       "      <td>0.002645</td>\n",
       "      <td>0.000006</td>\n",
       "      <td>Jazz</td>\n",
       "    </tr>\n",
       "    <tr>\n",
       "      <th>4</th>\n",
       "      <td>2.5657</td>\n",
       "      <td>776.86</td>\n",
       "      <td>124010.0</td>\n",
       "      <td>-0.16863</td>\n",
       "      <td>-0.16112</td>\n",
       "      <td>-0.15935</td>\n",
       "      <td>-0.15120</td>\n",
       "      <td>-0.140340</td>\n",
       "      <td>-0.13002</td>\n",
       "      <td>-0.12804</td>\n",
       "      <td>...</td>\n",
       "      <td>0.002703</td>\n",
       "      <td>0.047347</td>\n",
       "      <td>0.000302</td>\n",
       "      <td>0.049469</td>\n",
       "      <td>0.000606</td>\n",
       "      <td>0.014052</td>\n",
       "      <td>0.000152</td>\n",
       "      <td>0.003244</td>\n",
       "      <td>0.000029</td>\n",
       "      <td>Jazz</td>\n",
       "    </tr>\n",
       "  </tbody>\n",
       "</table>\n",
       "<p>5 rows × 192 columns</p>\n",
       "</div>"
      ],
      "text/plain": [
       "   PAR_TC   PAR_SC  PAR_SC_V  PAR_ASE1  PAR_ASE2  PAR_ASE3  PAR_ASE4  \\\n",
       "0  2.5788   481.45   76989.0  -0.12334  -0.11578  -0.11176  -0.10412   \n",
       "1  2.7195  1405.30  825380.0  -0.17655  -0.18323  -0.17773  -0.17057   \n",
       "2  2.5351   601.09  686240.0  -0.13940  -0.13251  -0.11486  -0.10173   \n",
       "3  2.4465   637.73  122580.0  -0.14995  -0.14802  -0.13800  -0.12927   \n",
       "4  2.5657   776.86  124010.0  -0.16863  -0.16112  -0.15935  -0.15120   \n",
       "\n",
       "   PAR_ASE5  PAR_ASE6  PAR_ASE7  ...    PAR_3RMS_TCD  PAR_ZCD_10FR_MEAN  \\\n",
       "0 -0.106100  -0.11026  -0.11375  ...        0.002032           0.041056   \n",
       "1 -0.166440  -0.16174  -0.15371  ...        0.005959           0.082830   \n",
       "2 -0.099342  -0.10936  -0.12668  ...        0.002766           0.043652   \n",
       "3 -0.125150  -0.12340  -0.12159  ...        0.002503           0.045159   \n",
       "4 -0.140340  -0.13002  -0.12804  ...        0.002703           0.047347   \n",
       "\n",
       "   PAR_ZCD_10FR_VAR  PAR_1RMS_TCD_10FR_MEAN  PAR_1RMS_TCD_10FR_VAR  \\\n",
       "0          0.000091                0.049627               0.000231   \n",
       "1          0.001122                0.093622               0.003869   \n",
       "2          0.000358                0.045415               0.000211   \n",
       "3          0.000356                0.037388               0.000118   \n",
       "4          0.000302                0.049469               0.000606   \n",
       "\n",
       "   PAR_2RMS_TCD_10FR_MEAN  PAR_2RMS_TCD_10FR_VAR  PAR_3RMS_TCD_10FR_MEAN  \\\n",
       "0                0.011265               0.000024                0.002177   \n",
       "1                0.031467               0.000779                0.006716   \n",
       "2                0.013850               0.000038                0.003069   \n",
       "3                0.011897               0.000045                0.002645   \n",
       "4                0.014052               0.000152                0.003244   \n",
       "\n",
       "   PAR_3RMS_TCD_10FR_VAR  GENRE  \n",
       "0               0.000003    Pop  \n",
       "1               0.000041  Blues  \n",
       "2               0.000002    Pop  \n",
       "3               0.000006   Jazz  \n",
       "4               0.000029   Jazz  \n",
       "\n",
       "[5 rows x 192 columns]"
      ]
     },
     "execution_count": 53,
     "metadata": {},
     "output_type": "execute_result"
    }
   ],
   "source": [
    "data_train = pd.read_csv(\"./data/genresTrain.csv\")\n",
    "data_train.head()"
   ]
  },
  {
   "cell_type": "code",
   "execution_count": 54,
   "metadata": {},
   "outputs": [],
   "source": [
    "data_train.loc[data_train.loc[:,\"GENRE\"]==\"Blues\", \"GENRE\"] = 1\n",
    "data_train.loc[data_train.loc[:,\"GENRE\"]==\"Classical\", \"GENRE\"] = 2\n",
    "data_train.loc[data_train.loc[:,\"GENRE\"]==\"Jazz\", \"GENRE\"] = 3\n",
    "data_train.loc[data_train.loc[:,\"GENRE\"]==\"Metal\", \"GENRE\"] = 4\n",
    "data_train.loc[data_train.loc[:,\"GENRE\"]==\"Pop\", \"GENRE\"] = 5\n",
    "data_train.loc[data_train.loc[:,\"GENRE\"]==\"Rock\", \"GENRE\"] = 6"
   ]
  },
  {
   "cell_type": "code",
   "execution_count": 55,
   "metadata": {},
   "outputs": [
    {
     "data": {
      "text/html": [
       "<div>\n",
       "<style scoped>\n",
       "    .dataframe tbody tr th:only-of-type {\n",
       "        vertical-align: middle;\n",
       "    }\n",
       "\n",
       "    .dataframe tbody tr th {\n",
       "        vertical-align: top;\n",
       "    }\n",
       "\n",
       "    .dataframe thead th {\n",
       "        text-align: right;\n",
       "    }\n",
       "</style>\n",
       "<table border=\"1\" class=\"dataframe\">\n",
       "  <thead>\n",
       "    <tr style=\"text-align: right;\">\n",
       "      <th></th>\n",
       "      <th>PAR_TC</th>\n",
       "      <th>PAR_SC</th>\n",
       "      <th>PAR_SC_V</th>\n",
       "      <th>PAR_ASE1</th>\n",
       "      <th>PAR_ASE2</th>\n",
       "      <th>PAR_ASE3</th>\n",
       "      <th>PAR_ASE4</th>\n",
       "      <th>PAR_ASE5</th>\n",
       "      <th>PAR_ASE6</th>\n",
       "      <th>PAR_ASE7</th>\n",
       "      <th>...</th>\n",
       "      <th>PAR_2RMS_TCD</th>\n",
       "      <th>PAR_3RMS_TCD</th>\n",
       "      <th>PAR_ZCD_10FR_MEAN</th>\n",
       "      <th>PAR_ZCD_10FR_VAR</th>\n",
       "      <th>PAR_1RMS_TCD_10FR_MEAN</th>\n",
       "      <th>PAR_1RMS_TCD_10FR_VAR</th>\n",
       "      <th>PAR_2RMS_TCD_10FR_MEAN</th>\n",
       "      <th>PAR_2RMS_TCD_10FR_VAR</th>\n",
       "      <th>PAR_3RMS_TCD_10FR_MEAN</th>\n",
       "      <th>PAR_3RMS_TCD_10FR_VAR</th>\n",
       "    </tr>\n",
       "  </thead>\n",
       "  <tbody>\n",
       "    <tr>\n",
       "      <th>0</th>\n",
       "      <td>2.5851</td>\n",
       "      <td>887.72</td>\n",
       "      <td>203130.0</td>\n",
       "      <td>-0.17260</td>\n",
       "      <td>-0.16509</td>\n",
       "      <td>-0.15114</td>\n",
       "      <td>-0.14272</td>\n",
       "      <td>-0.13747</td>\n",
       "      <td>-0.13437</td>\n",
       "      <td>-0.12990</td>\n",
       "      <td>...</td>\n",
       "      <td>0.014458</td>\n",
       "      <td>0.003283</td>\n",
       "      <td>0.060789</td>\n",
       "      <td>0.000173</td>\n",
       "      <td>0.049469</td>\n",
       "      <td>0.000209</td>\n",
       "      <td>0.014727</td>\n",
       "      <td>0.000058</td>\n",
       "      <td>0.003690</td>\n",
       "      <td>0.000007</td>\n",
       "    </tr>\n",
       "    <tr>\n",
       "      <th>1</th>\n",
       "      <td>2.4621</td>\n",
       "      <td>370.86</td>\n",
       "      <td>4835.0</td>\n",
       "      <td>-0.16553</td>\n",
       "      <td>-0.16676</td>\n",
       "      <td>-0.16022</td>\n",
       "      <td>-0.15304</td>\n",
       "      <td>-0.14354</td>\n",
       "      <td>-0.13443</td>\n",
       "      <td>-0.12450</td>\n",
       "      <td>...</td>\n",
       "      <td>0.007165</td>\n",
       "      <td>0.001832</td>\n",
       "      <td>0.019472</td>\n",
       "      <td>0.000006</td>\n",
       "      <td>0.021197</td>\n",
       "      <td>0.000100</td>\n",
       "      <td>0.008136</td>\n",
       "      <td>0.000055</td>\n",
       "      <td>0.002112</td>\n",
       "      <td>0.000006</td>\n",
       "    </tr>\n",
       "    <tr>\n",
       "      <th>2</th>\n",
       "      <td>2.5894</td>\n",
       "      <td>536.33</td>\n",
       "      <td>59175.0</td>\n",
       "      <td>-0.14433</td>\n",
       "      <td>-0.15838</td>\n",
       "      <td>-0.15151</td>\n",
       "      <td>-0.13966</td>\n",
       "      <td>-0.12591</td>\n",
       "      <td>-0.11795</td>\n",
       "      <td>-0.11744</td>\n",
       "      <td>...</td>\n",
       "      <td>0.009742</td>\n",
       "      <td>0.002032</td>\n",
       "      <td>0.037165</td>\n",
       "      <td>0.000158</td>\n",
       "      <td>0.037856</td>\n",
       "      <td>0.000123</td>\n",
       "      <td>0.009627</td>\n",
       "      <td>0.000068</td>\n",
       "      <td>0.001916</td>\n",
       "      <td>0.000004</td>\n",
       "    </tr>\n",
       "    <tr>\n",
       "      <th>3</th>\n",
       "      <td>2.4876</td>\n",
       "      <td>1053.70</td>\n",
       "      <td>147250.0</td>\n",
       "      <td>-0.12813</td>\n",
       "      <td>-0.11979</td>\n",
       "      <td>-0.12223</td>\n",
       "      <td>-0.11881</td>\n",
       "      <td>-0.12020</td>\n",
       "      <td>-0.12702</td>\n",
       "      <td>-0.13608</td>\n",
       "      <td>...</td>\n",
       "      <td>0.020571</td>\n",
       "      <td>0.002458</td>\n",
       "      <td>0.074786</td>\n",
       "      <td>0.000113</td>\n",
       "      <td>0.088109</td>\n",
       "      <td>0.000152</td>\n",
       "      <td>0.021083</td>\n",
       "      <td>0.000071</td>\n",
       "      <td>0.002590</td>\n",
       "      <td>0.000006</td>\n",
       "    </tr>\n",
       "    <tr>\n",
       "      <th>4</th>\n",
       "      <td>2.7968</td>\n",
       "      <td>354.90</td>\n",
       "      <td>7610.9</td>\n",
       "      <td>-0.16335</td>\n",
       "      <td>-0.16976</td>\n",
       "      <td>-0.17196</td>\n",
       "      <td>-0.16772</td>\n",
       "      <td>-0.16637</td>\n",
       "      <td>-0.15903</td>\n",
       "      <td>-0.13995</td>\n",
       "      <td>...</td>\n",
       "      <td>0.004825</td>\n",
       "      <td>0.001905</td>\n",
       "      <td>0.017377</td>\n",
       "      <td>0.000015</td>\n",
       "      <td>0.010852</td>\n",
       "      <td>0.000153</td>\n",
       "      <td>0.004702</td>\n",
       "      <td>0.000044</td>\n",
       "      <td>0.002101</td>\n",
       "      <td>0.000008</td>\n",
       "    </tr>\n",
       "  </tbody>\n",
       "</table>\n",
       "<p>5 rows × 191 columns</p>\n",
       "</div>"
      ],
      "text/plain": [
       "   PAR_TC   PAR_SC  PAR_SC_V  PAR_ASE1  PAR_ASE2  PAR_ASE3  PAR_ASE4  \\\n",
       "0  2.5851   887.72  203130.0  -0.17260  -0.16509  -0.15114  -0.14272   \n",
       "1  2.4621   370.86    4835.0  -0.16553  -0.16676  -0.16022  -0.15304   \n",
       "2  2.5894   536.33   59175.0  -0.14433  -0.15838  -0.15151  -0.13966   \n",
       "3  2.4876  1053.70  147250.0  -0.12813  -0.11979  -0.12223  -0.11881   \n",
       "4  2.7968   354.90    7610.9  -0.16335  -0.16976  -0.17196  -0.16772   \n",
       "\n",
       "   PAR_ASE5  PAR_ASE6  PAR_ASE7          ...            PAR_2RMS_TCD  \\\n",
       "0  -0.13747  -0.13437  -0.12990          ...                0.014458   \n",
       "1  -0.14354  -0.13443  -0.12450          ...                0.007165   \n",
       "2  -0.12591  -0.11795  -0.11744          ...                0.009742   \n",
       "3  -0.12020  -0.12702  -0.13608          ...                0.020571   \n",
       "4  -0.16637  -0.15903  -0.13995          ...                0.004825   \n",
       "\n",
       "   PAR_3RMS_TCD  PAR_ZCD_10FR_MEAN  PAR_ZCD_10FR_VAR  PAR_1RMS_TCD_10FR_MEAN  \\\n",
       "0      0.003283           0.060789          0.000173                0.049469   \n",
       "1      0.001832           0.019472          0.000006                0.021197   \n",
       "2      0.002032           0.037165          0.000158                0.037856   \n",
       "3      0.002458           0.074786          0.000113                0.088109   \n",
       "4      0.001905           0.017377          0.000015                0.010852   \n",
       "\n",
       "   PAR_1RMS_TCD_10FR_VAR  PAR_2RMS_TCD_10FR_MEAN  PAR_2RMS_TCD_10FR_VAR  \\\n",
       "0               0.000209                0.014727               0.000058   \n",
       "1               0.000100                0.008136               0.000055   \n",
       "2               0.000123                0.009627               0.000068   \n",
       "3               0.000152                0.021083               0.000071   \n",
       "4               0.000153                0.004702               0.000044   \n",
       "\n",
       "   PAR_3RMS_TCD_10FR_MEAN  PAR_3RMS_TCD_10FR_VAR  \n",
       "0                0.003690               0.000007  \n",
       "1                0.002112               0.000006  \n",
       "2                0.001916               0.000004  \n",
       "3                0.002590               0.000006  \n",
       "4                0.002101               0.000008  \n",
       "\n",
       "[5 rows x 191 columns]"
      ]
     },
     "execution_count": 55,
     "metadata": {},
     "output_type": "execute_result"
    }
   ],
   "source": [
    "data_test = pd.read_csv(\"./data/genresTest.csv\")\n",
    "data_test.head()"
   ]
  },
  {
   "cell_type": "code",
   "execution_count": 56,
   "metadata": {},
   "outputs": [],
   "source": [
    "m_cor = data_train.corr()\n",
    "\n",
    "dict_l = {}\n",
    "for i in m_cor.index:\n",
    "    dict_l.update({i:m_cor[m_cor[i]>0.9].index})\n",
    "    \n",
    "cols_drop = []\n",
    "for idx in dict_l:\n",
    "    for j in range(len(dict_l[idx])):\n",
    "        if idx != dict_l[idx][j]: #si tiene mas de un valor, el mismo no cuenta\n",
    "            cols_drop.append(dict_l[idx][j])\n",
    "            #print(idx, dict_l[idx][j])"
   ]
  },
  {
   "cell_type": "code",
   "execution_count": 57,
   "metadata": {},
   "outputs": [],
   "source": [
    "df_train_drop = data_train\n",
    "df_test_drop = data_test\n",
    "for idx in np.unique(cols_drop):\n",
    "    df_train_drop = df_train_drop.drop(idx,axis=1)\n",
    "    df_test_drop = df_test_drop.drop(idx,axis=1)"
   ]
  },
  {
   "cell_type": "code",
   "execution_count": 58,
   "metadata": {},
   "outputs": [
    {
     "name": "stdout",
     "output_type": "stream",
     "text": [
      "PAR_SC_V\n"
     ]
    }
   ],
   "source": [
    "for i in df_train_drop.columns:\n",
    "    if sum(df_train_drop[i] > 100) > (df_train_drop.shape[0]/2):\n",
    "        print(i)\n",
    "        df_train_drop = df_train_drop.drop(i, axis=1)\n",
    "        df_test_drop = df_test_drop.drop(i, axis=1)"
   ]
  },
  {
   "cell_type": "code",
   "execution_count": 59,
   "metadata": {},
   "outputs": [],
   "source": [
    "col_scalar = [\"PAR_TC\", \"PAR_ASC\", \"PAR_ASS\", \"PAR_PEAK_RMS_TOT\", \"PAR_PEAK_RMS10FR_MEAN\"]\n",
    "col_outliers = [\"PAR_ASC_V\", \"PAR_PEAK_RMS10FR_VAR\"]"
   ]
  },
  {
   "cell_type": "code",
   "execution_count": 60,
   "metadata": {},
   "outputs": [],
   "source": [
    "def column_scale(df, l_cols):\n",
    "    \"\"\"\n",
    "    df: DataFrame de entrada\n",
    "    l_cols: lista de columnas a escalar\n",
    "    return: retorna un df con las columnas estandarizadas así:\n",
    "    (X - mean(X))/(max(X)-min(X))\n",
    "    \"\"\"\n",
    "    for col in l_cols:\n",
    "        #se cambia cada columna\n",
    "        df[col] = (df[col] - np.mean(df[col]))/(max(df[col]) - min(df[col]))\n",
    "        #df[col] = (df[col] - min(df[col]))/((max(df[col]) - min(df[col])))\n",
    "    return df"
   ]
  },
  {
   "cell_type": "code",
   "execution_count": 61,
   "metadata": {},
   "outputs": [],
   "source": [
    "y_trdrop = df_train_drop[\"GENRE\"]\n",
    "X_trdrop = df_train_drop.drop(\"GENRE\",axis=1)\n",
    "\n",
    "X_trdrop = column_scale(X_trdrop, col_scalar)\n",
    "X_testdrop = df_test_drop\n",
    "X_testdrop = column_scale(X_testdrop, col_scalar)\n",
    "\n",
    "X_trdrop = X_trdrop.drop(col_outliers, axis=1)\n",
    "\n",
    "X_testdrop = X_testdrop.drop(col_outliers, axis=1)"
   ]
  },
  {
   "cell_type": "code",
   "execution_count": null,
   "metadata": {},
   "outputs": [],
   "source": [
    "from sklearn.ensemble import RandomForestClassifier, VotingClassifier\n",
    "from sklearn.tree import DecisionTreeClassifier\n",
    "\n",
    "clf1 = RandomForestClassifier(n_estimators=50, class_weight=\"balanced_subsample\")\n",
    "clf2 = DecisionTreeClassifier()\n",
    "clf3 = GradientBoostingClassifier(n_estimators=120, learning_rate=0.2)\n",
    "\n",
    "\n",
    "eclf1 = VotingClassifier(estimators=[('rfc', clf1), ('dtc', clf2), ('gbc', clf3)], voting='hard')\n",
    "eclf1 = eclf1.fit(X_trdrop, y_trdrop)\n",
    "\n",
    "print(eclf1.score(X_trdrop, y_trdrop))\n",
    "\n",
    "predict = eclf1.predict(X_testdrop)\n",
    "result = pd.DataFrame(data=predict, index=np.arange(1, data_test.shape[0]+1), columns=['Genres'])\n",
    "result.index.name = \"Id\"\n",
    "result.to_csv('./results/submission_test_71.csv')"
   ]
  },
  {
   "cell_type": "code",
   "execution_count": 62,
   "metadata": {},
   "outputs": [
    {
     "name": "stdout",
     "output_type": "stream",
     "text": [
      "clase 1:  12.773109243697478\n",
      "clase 2:  27.563025210084035\n",
      "clase 3:  24.03361344537815\n",
      "clase 4:  7.394957983193278\n",
      "clase 5:  12.605042016806722\n",
      "clase 6:  15.630252100840336\n"
     ]
    }
   ],
   "source": [
    "print(\"clase 1: \",np.mean(y_trdrop==1)*100)\n",
    "print(\"clase 2: \",np.mean(y_trdrop==2)*100)\n",
    "print(\"clase 3: \",np.mean(y_trdrop==3)*100)\n",
    "print(\"clase 4: \",np.mean(y_trdrop==4)*100)\n",
    "print(\"clase 5: \",np.mean(y_trdrop==5)*100)\n",
    "print(\"clase 6: \",np.mean(y_trdrop==6)*100)"
   ]
  },
  {
   "cell_type": "code",
   "execution_count": null,
   "metadata": {},
   "outputs": [],
   "source": []
  },
  {
   "cell_type": "code",
   "execution_count": 12,
   "metadata": {},
   "outputs": [],
   "source": [
    "def generation_data(X, N, k):\n",
    "    \"\"\"\n",
    "    Retorna nuevos datos generados a partir de los pasados en X.\n",
    "\n",
    "    Parameters\n",
    "    ----------\n",
    "    X : dataframe con los datos minoritarios.\n",
    "    N : (0-1] porcentaje de nuevos datos a generar.\n",
    "    k : int. número de vecinos a utilizar.\n",
    "\n",
    "    Returns\n",
    "    -------\n",
    "    S : array, shape = [N * n_minority_samples, n_features]\n",
    "    \"\"\"    \n",
    "    n_minority_samples, n_features = X.shape\n",
    "\n",
    "    if (N<=0 or N>1): raise ValueError(\"N debe estar entre (0,1]\")\n",
    "\n",
    "    n_synthetic_samples = int(N * n_minority_samples)\n",
    "    S = np.zeros(shape=(n_synthetic_samples, n_features))\n",
    "    aux = np.zeros(shape=X.shape)\n",
    "    #Learn nearest neighbours\n",
    "    neigh = NearestNeighbors(n_neighbors = k)\n",
    "    neigh.fit(X)\n",
    "\n",
    "    #Calculate synthetic samples\n",
    "    for i in range(n_minority_samples):\n",
    "        nn = neigh.kneighbors(np.array(X.iloc[i]).reshape(1,-1), return_distance=False)\n",
    "        for n in np.arange(N):\n",
    "            nn_index = np.random.choice(nn[0])\n",
    "            #NOTE: nn includes T[i], we don't want to select it \n",
    "            while nn_index == i:\n",
    "                nn_index = np.random.choice(nn[0])\n",
    "\n",
    "            dif = X.iloc[nn_index] - X.iloc[i]\n",
    "            gap = np.random.random()\n",
    "            aux[i] = X.iloc[i,:] + gap * dif[:]\n",
    "    S = aux[np.random.choice(np.arange(aux.shape[0]),S.shape[0],replace=False),:]\n",
    "    return S"
   ]
  },
  {
   "cell_type": "code",
   "execution_count": 13,
   "metadata": {},
   "outputs": [],
   "source": [
    "#5,1,4\n",
    "clase = 4\n",
    "X_aux = generation_data(X_trdrop.loc[data_train[\"GENRE\"]==clase], 1, 60)\n",
    "X_aux = pd.DataFrame(X_aux, columns=X_trdrop.columns)\n",
    "X_new = pd.concat([X_trdrop, X_aux])\n",
    "y_new = np.concatenate((y_trdrop,np.ones(X_aux.shape[0])*clase))\n",
    "y_new = y_new.astype(int)"
   ]
  },
  {
   "cell_type": "code",
   "execution_count": 14,
   "metadata": {},
   "outputs": [
    {
     "name": "stdout",
     "output_type": "stream",
     "text": [
      "clase 1:  11.89358372456964\n",
      "clase 2:  25.665101721439747\n",
      "clase 3:  22.37871674491393\n",
      "clase 4:  13.77151799687011\n",
      "clase 5:  11.737089201877934\n",
      "clase 6:  14.553990610328638\n"
     ]
    }
   ],
   "source": [
    "print(\"clase 1: \",np.mean(y_new==1)*100)\n",
    "print(\"clase 2: \",np.mean(y_new==2)*100)\n",
    "print(\"clase 3: \",np.mean(y_new==3)*100)\n",
    "print(\"clase 4: \",np.mean(y_new==4)*100)\n",
    "print(\"clase 5: \",np.mean(y_new==5)*100)\n",
    "print(\"clase 6: \",np.mean(y_new==6)*100)"
   ]
  },
  {
   "cell_type": "code",
   "execution_count": 75,
   "metadata": {},
   "outputs": [
    {
     "data": {
      "image/png": "[encoded data removed]",
      "text/plain": [
       "<Figure size 360x504 with 2 Axes>"
      ]
     },
     "metadata": {},
     "output_type": "display_data"
    }
   ],
   "source": [
    "row = np.random.randint(0, X_trdrop.shape[1])\n",
    "plt.figure(figsize=(5,7))\n",
    "plt.subplot(2,1,1)\n",
    "plt.title(\"Real: \" + X_trdrop.iloc[:,row].name)\n",
    "plt.hist(X_aux.iloc[:,row],30, color=\"brown\")\n",
    "plt.subplot(2,1,2)\n",
    "plt.title(\"Gerada: \" + X_trdrop.iloc[:,row].name)\n",
    "plt.hist(X_trdrop.loc[data_train[\"GENRE\"]==4].iloc[:,row],30,color=\"brown\");"
   ]
  },
  {
   "cell_type": "code",
   "execution_count": 39,
   "metadata": {},
   "outputs": [
    {
     "data": {
      "text/plain": [
       "((13419, 114), (13419,))"
      ]
     },
     "execution_count": 39,
     "metadata": {},
     "output_type": "execute_result"
    }
   ],
   "source": [
    "X_new.shape, y_new.shape"
   ]
  },
  {
   "cell_type": "code",
   "execution_count": 40,
   "metadata": {},
   "outputs": [
    {
     "name": "stderr",
     "output_type": "stream",
     "text": [
      "/home/ejrueda/anaconda3/lib/python3.6/site-packages/sklearn/preprocessing/label.py:151: DeprecationWarning: The truth value of an empty array is ambiguous. Returning False, but in future this will result in an error. Use `array.size > 0` to check that an array is not empty.\n",
      "  if diff:\n",
      "/home/ejrueda/anaconda3/lib/python3.6/site-packages/sklearn/preprocessing/label.py:151: DeprecationWarning: The truth value of an empty array is ambiguous. Returning False, but in future this will result in an error. Use `array.size > 0` to check that an array is not empty.\n",
      "  if diff:\n",
      "/home/ejrueda/anaconda3/lib/python3.6/site-packages/sklearn/preprocessing/label.py:151: DeprecationWarning: The truth value of an empty array is ambiguous. Returning False, but in future this will result in an error. Use `array.size > 0` to check that an array is not empty.\n",
      "  if diff:\n",
      "/home/ejrueda/anaconda3/lib/python3.6/site-packages/sklearn/preprocessing/label.py:151: DeprecationWarning: The truth value of an empty array is ambiguous. Returning False, but in future this will result in an error. Use `array.size > 0` to check that an array is not empty.\n",
      "  if diff:\n",
      "/home/ejrueda/anaconda3/lib/python3.6/site-packages/sklearn/preprocessing/label.py:151: DeprecationWarning: The truth value of an empty array is ambiguous. Returning False, but in future this will result in an error. Use `array.size > 0` to check that an array is not empty.\n",
      "  if diff:\n",
      "/home/ejrueda/anaconda3/lib/python3.6/site-packages/sklearn/preprocessing/label.py:151: DeprecationWarning: The truth value of an empty array is ambiguous. Returning False, but in future this will result in an error. Use `array.size > 0` to check that an array is not empty.\n",
      "  if diff:\n",
      "/home/ejrueda/anaconda3/lib/python3.6/site-packages/sklearn/preprocessing/label.py:151: DeprecationWarning: The truth value of an empty array is ambiguous. Returning False, but in future this will result in an error. Use `array.size > 0` to check that an array is not empty.\n",
      "  if diff:\n",
      "/home/ejrueda/anaconda3/lib/python3.6/site-packages/sklearn/preprocessing/label.py:151: DeprecationWarning: The truth value of an empty array is ambiguous. Returning False, but in future this will result in an error. Use `array.size > 0` to check that an array is not empty.\n",
      "  if diff:\n",
      "/home/ejrueda/anaconda3/lib/python3.6/site-packages/sklearn/preprocessing/label.py:151: DeprecationWarning: The truth value of an empty array is ambiguous. Returning False, but in future this will result in an error. Use `array.size > 0` to check that an array is not empty.\n",
      "  if diff:\n",
      "/home/ejrueda/anaconda3/lib/python3.6/site-packages/sklearn/preprocessing/label.py:151: DeprecationWarning: The truth value of an empty array is ambiguous. Returning False, but in future this will result in an error. Use `array.size > 0` to check that an array is not empty.\n",
      "  if diff:\n"
     ]
    }
   ],
   "source": [
    "from sklearn.ensemble import RandomForestClassifier, VotingClassifier\n",
    "from sklearn.tree import DecisionTreeClassifier\n",
    "\n",
    "clf1 = RandomForestClassifier(n_estimators=50, class_weight=\"balanced_subsample\")\n",
    "clf2 = DecisionTreeClassifier()\n",
    "clf3 = GradientBoostingClassifier(n_estimators=120, learning_rate=0.2)\n",
    "\n",
    "\n",
    "eclf1 = VotingClassifier(estimators=[('rfc', clf1), ('dtc', clf2), ('gbc', clf3)], voting='hard')\n",
    "eclf1 = eclf1.fit(X_new, y_new)\n",
    "\n",
    "score = cross_val_score(eclf1, X_trdrop, y_trdrop, cv=10, n_jobs=2)\n"
   ]
  },
  {
   "cell_type": "code",
   "execution_count": 41,
   "metadata": {},
   "outputs": [
    {
     "data": {
      "text/plain": [
       "array([0.93535515, 0.92817239, 0.93136472, 0.92326139, 0.93114492,\n",
       "       0.93830128, 0.94226143, 0.92943063, 0.9414595 , 0.9446672 ])"
      ]
     },
     "execution_count": 41,
     "metadata": {},
     "output_type": "execute_result"
    }
   ],
   "source": [
    "score"
   ]
  },
  {
   "cell_type": "code",
   "execution_count": 50,
   "metadata": {},
   "outputs": [
    {
     "data": {
      "image/png": "[encoded data removed]",
      "text/plain": [
       "<Figure size 504x288 with 1 Axes>"
      ]
     },
     "metadata": {},
     "output_type": "display_data"
    }
   ],
   "source": [
    "plt.figure(figsize=(7,4))\n",
    "plt.grid()\n",
    "plt.ylabel(\"Score\", fontsize=13.5)\n",
    "plt.xlabel(\"k-fold\", fontsize=13.5)\n",
    "plt.xticks(range(1,11),range(1,11))\n",
    "plt.plot(range(1,11), score, label=\"score\",linewidth=2)\n",
    "plt.plot(range(1,11), np.ones(10)*np.mean(score), color=\"red\", alpha=1, linestyle='--')\n",
    "plt.legend();"
   ]
  },
  {
   "cell_type": "code",
   "execution_count": null,
   "metadata": {},
   "outputs": [],
   "source": []
  },
  {
   "cell_type": "code",
   "execution_count": null,
   "metadata": {},
   "outputs": [],
   "source": []
  },
  {
   "cell_type": "code",
   "execution_count": 27,
   "metadata": {},
   "outputs": [
    {
     "name": "stdout",
     "output_type": "stream",
     "text": [
      "1.0\n"
     ]
    },
    {
     "name": "stderr",
     "output_type": "stream",
     "text": [
      "/home/ejrueda/anaconda3/lib/python3.6/site-packages/sklearn/preprocessing/label.py:151: DeprecationWarning: The truth value of an empty array is ambiguous. Returning False, but in future this will result in an error. Use `array.size > 0` to check that an array is not empty.\n",
      "  if diff:\n",
      "/home/ejrueda/anaconda3/lib/python3.6/site-packages/sklearn/preprocessing/label.py:151: DeprecationWarning: The truth value of an empty array is ambiguous. Returning False, but in future this will result in an error. Use `array.size > 0` to check that an array is not empty.\n",
      "  if diff:\n"
     ]
    }
   ],
   "source": [
    "from sklearn.ensemble import RandomForestClassifier, VotingClassifier\n",
    "from sklearn.tree import DecisionTreeClassifier\n",
    "\n",
    "clf1 = RandomForestClassifier(n_estimators=50, class_weight=\"balanced_subsample\")\n",
    "clf2 = DecisionTreeClassifier()\n",
    "clf3 = GradientBoostingClassifier(n_estimators=120, learning_rate=0.2)\n",
    "\n",
    "\n",
    "eclf1 = VotingClassifier(estimators=[('rfc', clf1), ('dtc', clf2), ('gbc', clf3)], voting='hard')\n",
    "eclf1 = eclf1.fit(X_new, y_new)\n",
    "\n",
    "predict = eclf1.predict(X_testdrop)\n",
    "result = pd.DataFrame(data=predict, index=np.arange(1, data_test.shape[0]+1), columns=['Genres'])\n",
    "result.index.name = \"Id\"\n",
    "result.to_csv('./results/submission_test_73.csv')"
   ]
  },
  {
   "cell_type": "code",
   "execution_count": 28,
   "metadata": {},
   "outputs": [
    {
     "data": {
      "text/html": [
       "<div>\n",
       "<style scoped>\n",
       "    .dataframe tbody tr th:only-of-type {\n",
       "        vertical-align: middle;\n",
       "    }\n",
       "\n",
       "    .dataframe tbody tr th {\n",
       "        vertical-align: top;\n",
       "    }\n",
       "\n",
       "    .dataframe thead th {\n",
       "        text-align: right;\n",
       "    }\n",
       "</style>\n",
       "<table border=\"1\" class=\"dataframe\">\n",
       "  <thead>\n",
       "    <tr style=\"text-align: right;\">\n",
       "      <th></th>\n",
       "      <th>Genres</th>\n",
       "    </tr>\n",
       "    <tr>\n",
       "      <th>Id</th>\n",
       "      <th></th>\n",
       "    </tr>\n",
       "  </thead>\n",
       "  <tbody>\n",
       "    <tr>\n",
       "      <th>1</th>\n",
       "      <td>1</td>\n",
       "    </tr>\n",
       "    <tr>\n",
       "      <th>2</th>\n",
       "      <td>2</td>\n",
       "    </tr>\n",
       "    <tr>\n",
       "      <th>3</th>\n",
       "      <td>2</td>\n",
       "    </tr>\n",
       "    <tr>\n",
       "      <th>4</th>\n",
       "      <td>6</td>\n",
       "    </tr>\n",
       "    <tr>\n",
       "      <th>5</th>\n",
       "      <td>2</td>\n",
       "    </tr>\n",
       "  </tbody>\n",
       "</table>\n",
       "</div>"
      ],
      "text/plain": [
       "    Genres\n",
       "Id        \n",
       "1        1\n",
       "2        2\n",
       "3        2\n",
       "4        6\n",
       "5        2"
      ]
     },
     "execution_count": 28,
     "metadata": {},
     "output_type": "execute_result"
    }
   ],
   "source": [
    "result.head()"
   ]
  },
  {
   "cell_type": "code",
   "execution_count": 29,
   "metadata": {},
   "outputs": [
    {
     "name": "stdout",
     "output_type": "stream",
     "text": [
      "clase 1:  7.464114832535886\n",
      "clase 2:  23.598086124401917\n",
      "clase 3:  35.61722488038278\n",
      "clase 4:  2.77511961722488\n",
      "clase 5:  12.382775119617225\n",
      "clase 6:  18.162679425837318\n"
     ]
    }
   ],
   "source": [
    "print(\"clase 1: \",np.mean(predict==1)*100)\n",
    "print(\"clase 2: \",np.mean(predict==2)*100)\n",
    "print(\"clase 3: \",np.mean(predict==3)*100)\n",
    "print(\"clase 4: \",np.mean(predict==4)*100)\n",
    "print(\"clase 5: \",np.mean(predict==5)*100)\n",
    "print(\"clase 6: \",np.mean(predict==6)*100)"
   ]
  },
  {
   "cell_type": "code",
   "execution_count": 30,
   "metadata": {},
   "outputs": [
    {
     "name": "stdout",
     "output_type": "stream",
     "text": [
      "0.995774808724449\n"
     ]
    }
   ],
   "source": [
    "clf = GradientBoostingClassifier(n_estimators=120, learning_rate=0.2)\n",
    "clf.fit(X_new, y_new)\n",
    "print(clf.score(X_new, y_new))\n",
    "\n",
    "predict = clf.predict(X_testdrop)\n",
    "result = pd.DataFrame(data=predict, index=np.arange(1, data_test.shape[0]+1), columns=['Genres'])\n",
    "result.index.name = \"Id\"\n",
    "result.to_csv('./results/submission_test_74.csv')"
   ]
  },
  {
   "cell_type": "code",
   "execution_count": 31,
   "metadata": {},
   "outputs": [
    {
     "name": "stdout",
     "output_type": "stream",
     "text": [
      "clase 1:  6.583732057416268\n",
      "clase 2:  24.229665071770334\n",
      "clase 3:  34.622009569377994\n",
      "clase 4:  2.909090909090909\n",
      "clase 5:  11.866028708133971\n",
      "clase 6:  19.789473684210527\n"
     ]
    }
   ],
   "source": [
    "print(\"clase 1: \",np.mean(predict==1)*100)\n",
    "print(\"clase 2: \",np.mean(predict==2)*100)\n",
    "print(\"clase 3: \",np.mean(predict==3)*100)\n",
    "print(\"clase 4: \",np.mean(predict==4)*100)\n",
    "print(\"clase 5: \",np.mean(predict==5)*100)\n",
    "print(\"clase 6: \",np.mean(predict==6)*100)"
   ]
  },
  {
   "cell_type": "code",
   "execution_count": null,
   "metadata": {},
   "outputs": [],
   "source": []
  }
 ],
 "metadata": {
  "kernelspec": {
   "display_name": "Python 3",
   "language": "python",
   "name": "python3"
  },
  "language_info": {
   "codemirror_mode": {
    "name": "ipython",
    "version": 3
   },
   "file_extension": ".py",
   "mimetype": "text/x-python",
   "name": "python",
   "nbconvert_exporter": "python",
   "pygments_lexer": "ipython3",
   "version": "3.6.5"
  }
 },
 "nbformat": 4,
 "nbformat_minor": 2
}
