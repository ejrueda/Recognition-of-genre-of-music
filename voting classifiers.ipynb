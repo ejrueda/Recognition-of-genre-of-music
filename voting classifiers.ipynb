{
 "cells": [
  {
   "cell_type": "code",
   "execution_count": 1,
   "metadata": {},
   "outputs": [],
   "source": [
    "import pandas as pd\n",
    "import numpy as np\n",
    "from sklearn.ensemble import RandomForestClassifier\n",
    "from sklearn.ensemble import GradientBoostingClassifier\n",
    "from sklearn.preprocessing import minmax_scale\n",
    "from sklearn.model_selection import cross_val_score\n",
    "from sklearn.model_selection import train_test_split\n",
    "import matplotlib.pyplot as plt"
   ]
  },
  {
   "cell_type": "code",
   "execution_count": 2,
   "metadata": {},
   "outputs": [
    {
     "data": {
      "text/html": [
       "<div>\n",
       "<style scoped>\n",
       "    .dataframe tbody tr th:only-of-type {\n",
       "        vertical-align: middle;\n",
       "    }\n",
       "\n",
       "    .dataframe tbody tr th {\n",
       "        vertical-align: top;\n",
       "    }\n",
       "\n",
       "    .dataframe thead th {\n",
       "        text-align: right;\n",
       "    }\n",
       "</style>\n",
       "<table border=\"1\" class=\"dataframe\">\n",
       "  <thead>\n",
       "    <tr style=\"text-align: right;\">\n",
       "      <th></th>\n",
       "      <th>PAR_TC</th>\n",
       "      <th>PAR_SC</th>\n",
       "      <th>PAR_SC_V</th>\n",
       "      <th>PAR_ASE1</th>\n",
       "      <th>PAR_ASE2</th>\n",
       "      <th>PAR_ASE3</th>\n",
       "      <th>PAR_ASE4</th>\n",
       "      <th>PAR_ASE5</th>\n",
       "      <th>PAR_ASE6</th>\n",
       "      <th>PAR_ASE7</th>\n",
       "      <th>...</th>\n",
       "      <th>PAR_3RMS_TCD</th>\n",
       "      <th>PAR_ZCD_10FR_MEAN</th>\n",
       "      <th>PAR_ZCD_10FR_VAR</th>\n",
       "      <th>PAR_1RMS_TCD_10FR_MEAN</th>\n",
       "      <th>PAR_1RMS_TCD_10FR_VAR</th>\n",
       "      <th>PAR_2RMS_TCD_10FR_MEAN</th>\n",
       "      <th>PAR_2RMS_TCD_10FR_VAR</th>\n",
       "      <th>PAR_3RMS_TCD_10FR_MEAN</th>\n",
       "      <th>PAR_3RMS_TCD_10FR_VAR</th>\n",
       "      <th>GENRE</th>\n",
       "    </tr>\n",
       "  </thead>\n",
       "  <tbody>\n",
       "    <tr>\n",
       "      <th>0</th>\n",
       "      <td>2.5788</td>\n",
       "      <td>481.45</td>\n",
       "      <td>76989.0</td>\n",
       "      <td>-0.12334</td>\n",
       "      <td>-0.11578</td>\n",
       "      <td>-0.11176</td>\n",
       "      <td>-0.10412</td>\n",
       "      <td>-0.106100</td>\n",
       "      <td>-0.11026</td>\n",
       "      <td>-0.11375</td>\n",
       "      <td>...</td>\n",
       "      <td>0.002032</td>\n",
       "      <td>0.041056</td>\n",
       "      <td>0.000091</td>\n",
       "      <td>0.049627</td>\n",
       "      <td>0.000231</td>\n",
       "      <td>0.011265</td>\n",
       "      <td>0.000024</td>\n",
       "      <td>0.002177</td>\n",
       "      <td>0.000003</td>\n",
       "      <td>Pop</td>\n",
       "    </tr>\n",
       "    <tr>\n",
       "      <th>1</th>\n",
       "      <td>2.7195</td>\n",
       "      <td>1405.30</td>\n",
       "      <td>825380.0</td>\n",
       "      <td>-0.17655</td>\n",
       "      <td>-0.18323</td>\n",
       "      <td>-0.17773</td>\n",
       "      <td>-0.17057</td>\n",
       "      <td>-0.166440</td>\n",
       "      <td>-0.16174</td>\n",
       "      <td>-0.15371</td>\n",
       "      <td>...</td>\n",
       "      <td>0.005959</td>\n",
       "      <td>0.082830</td>\n",
       "      <td>0.001122</td>\n",
       "      <td>0.093622</td>\n",
       "      <td>0.003869</td>\n",
       "      <td>0.031467</td>\n",
       "      <td>0.000779</td>\n",
       "      <td>0.006716</td>\n",
       "      <td>0.000041</td>\n",
       "      <td>Blues</td>\n",
       "    </tr>\n",
       "    <tr>\n",
       "      <th>2</th>\n",
       "      <td>2.5351</td>\n",
       "      <td>601.09</td>\n",
       "      <td>686240.0</td>\n",
       "      <td>-0.13940</td>\n",
       "      <td>-0.13251</td>\n",
       "      <td>-0.11486</td>\n",
       "      <td>-0.10173</td>\n",
       "      <td>-0.099342</td>\n",
       "      <td>-0.10936</td>\n",
       "      <td>-0.12668</td>\n",
       "      <td>...</td>\n",
       "      <td>0.002766</td>\n",
       "      <td>0.043652</td>\n",
       "      <td>0.000358</td>\n",
       "      <td>0.045415</td>\n",
       "      <td>0.000211</td>\n",
       "      <td>0.013850</td>\n",
       "      <td>0.000038</td>\n",
       "      <td>0.003069</td>\n",
       "      <td>0.000002</td>\n",
       "      <td>Pop</td>\n",
       "    </tr>\n",
       "    <tr>\n",
       "      <th>3</th>\n",
       "      <td>2.4465</td>\n",
       "      <td>637.73</td>\n",
       "      <td>122580.0</td>\n",
       "      <td>-0.14995</td>\n",
       "      <td>-0.14802</td>\n",
       "      <td>-0.13800</td>\n",
       "      <td>-0.12927</td>\n",
       "      <td>-0.125150</td>\n",
       "      <td>-0.12340</td>\n",
       "      <td>-0.12159</td>\n",
       "      <td>...</td>\n",
       "      <td>0.002503</td>\n",
       "      <td>0.045159</td>\n",
       "      <td>0.000356</td>\n",
       "      <td>0.037388</td>\n",
       "      <td>0.000118</td>\n",
       "      <td>0.011897</td>\n",
       "      <td>0.000045</td>\n",
       "      <td>0.002645</td>\n",
       "      <td>0.000006</td>\n",
       "      <td>Jazz</td>\n",
       "    </tr>\n",
       "    <tr>\n",
       "      <th>4</th>\n",
       "      <td>2.5657</td>\n",
       "      <td>776.86</td>\n",
       "      <td>124010.0</td>\n",
       "      <td>-0.16863</td>\n",
       "      <td>-0.16112</td>\n",
       "      <td>-0.15935</td>\n",
       "      <td>-0.15120</td>\n",
       "      <td>-0.140340</td>\n",
       "      <td>-0.13002</td>\n",
       "      <td>-0.12804</td>\n",
       "      <td>...</td>\n",
       "      <td>0.002703</td>\n",
       "      <td>0.047347</td>\n",
       "      <td>0.000302</td>\n",
       "      <td>0.049469</td>\n",
       "      <td>0.000606</td>\n",
       "      <td>0.014052</td>\n",
       "      <td>0.000152</td>\n",
       "      <td>0.003244</td>\n",
       "      <td>0.000029</td>\n",
       "      <td>Jazz</td>\n",
       "    </tr>\n",
       "  </tbody>\n",
       "</table>\n",
       "<p>5 rows × 192 columns</p>\n",
       "</div>"
      ],
      "text/plain": [
       "   PAR_TC   PAR_SC  PAR_SC_V  PAR_ASE1  PAR_ASE2  PAR_ASE3  PAR_ASE4  \\\n",
       "0  2.5788   481.45   76989.0  -0.12334  -0.11578  -0.11176  -0.10412   \n",
       "1  2.7195  1405.30  825380.0  -0.17655  -0.18323  -0.17773  -0.17057   \n",
       "2  2.5351   601.09  686240.0  -0.13940  -0.13251  -0.11486  -0.10173   \n",
       "3  2.4465   637.73  122580.0  -0.14995  -0.14802  -0.13800  -0.12927   \n",
       "4  2.5657   776.86  124010.0  -0.16863  -0.16112  -0.15935  -0.15120   \n",
       "\n",
       "   PAR_ASE5  PAR_ASE6  PAR_ASE7  ...    PAR_3RMS_TCD  PAR_ZCD_10FR_MEAN  \\\n",
       "0 -0.106100  -0.11026  -0.11375  ...        0.002032           0.041056   \n",
       "1 -0.166440  -0.16174  -0.15371  ...        0.005959           0.082830   \n",
       "2 -0.099342  -0.10936  -0.12668  ...        0.002766           0.043652   \n",
       "3 -0.125150  -0.12340  -0.12159  ...        0.002503           0.045159   \n",
       "4 -0.140340  -0.13002  -0.12804  ...        0.002703           0.047347   \n",
       "\n",
       "   PAR_ZCD_10FR_VAR  PAR_1RMS_TCD_10FR_MEAN  PAR_1RMS_TCD_10FR_VAR  \\\n",
       "0          0.000091                0.049627               0.000231   \n",
       "1          0.001122                0.093622               0.003869   \n",
       "2          0.000358                0.045415               0.000211   \n",
       "3          0.000356                0.037388               0.000118   \n",
       "4          0.000302                0.049469               0.000606   \n",
       "\n",
       "   PAR_2RMS_TCD_10FR_MEAN  PAR_2RMS_TCD_10FR_VAR  PAR_3RMS_TCD_10FR_MEAN  \\\n",
       "0                0.011265               0.000024                0.002177   \n",
       "1                0.031467               0.000779                0.006716   \n",
       "2                0.013850               0.000038                0.003069   \n",
       "3                0.011897               0.000045                0.002645   \n",
       "4                0.014052               0.000152                0.003244   \n",
       "\n",
       "   PAR_3RMS_TCD_10FR_VAR  GENRE  \n",
       "0               0.000003    Pop  \n",
       "1               0.000041  Blues  \n",
       "2               0.000002    Pop  \n",
       "3               0.000006   Jazz  \n",
       "4               0.000029   Jazz  \n",
       "\n",
       "[5 rows x 192 columns]"
      ]
     },
     "execution_count": 2,
     "metadata": {},
     "output_type": "execute_result"
    }
   ],
   "source": [
    "data_train = pd.read_csv(\"./data/genresTrain.csv\")\n",
    "data_train.head()"
   ]
  },
  {
   "cell_type": "code",
   "execution_count": 3,
   "metadata": {},
   "outputs": [],
   "source": [
    "data_train.loc[data_train.loc[:,\"GENRE\"]==\"Blues\", \"GENRE\"] = 1\n",
    "data_train.loc[data_train.loc[:,\"GENRE\"]==\"Classical\", \"GENRE\"] = 2\n",
    "data_train.loc[data_train.loc[:,\"GENRE\"]==\"Jazz\", \"GENRE\"] = 3\n",
    "data_train.loc[data_train.loc[:,\"GENRE\"]==\"Metal\", \"GENRE\"] = 4\n",
    "data_train.loc[data_train.loc[:,\"GENRE\"]==\"Pop\", \"GENRE\"] = 5\n",
    "data_train.loc[data_train.loc[:,\"GENRE\"]==\"Rock\", \"GENRE\"] = 6"
   ]
  },
  {
   "cell_type": "code",
   "execution_count": 4,
   "metadata": {},
   "outputs": [
    {
     "data": {
      "text/html": [
       "<div>\n",
       "<style scoped>\n",
       "    .dataframe tbody tr th:only-of-type {\n",
       "        vertical-align: middle;\n",
       "    }\n",
       "\n",
       "    .dataframe tbody tr th {\n",
       "        vertical-align: top;\n",
       "    }\n",
       "\n",
       "    .dataframe thead th {\n",
       "        text-align: right;\n",
       "    }\n",
       "</style>\n",
       "<table border=\"1\" class=\"dataframe\">\n",
       "  <thead>\n",
       "    <tr style=\"text-align: right;\">\n",
       "      <th></th>\n",
       "      <th>PAR_TC</th>\n",
       "      <th>PAR_SC</th>\n",
       "      <th>PAR_SC_V</th>\n",
       "      <th>PAR_ASE1</th>\n",
       "      <th>PAR_ASE2</th>\n",
       "      <th>PAR_ASE3</th>\n",
       "      <th>PAR_ASE4</th>\n",
       "      <th>PAR_ASE5</th>\n",
       "      <th>PAR_ASE6</th>\n",
       "      <th>PAR_ASE7</th>\n",
       "      <th>...</th>\n",
       "      <th>PAR_2RMS_TCD</th>\n",
       "      <th>PAR_3RMS_TCD</th>\n",
       "      <th>PAR_ZCD_10FR_MEAN</th>\n",
       "      <th>PAR_ZCD_10FR_VAR</th>\n",
       "      <th>PAR_1RMS_TCD_10FR_MEAN</th>\n",
       "      <th>PAR_1RMS_TCD_10FR_VAR</th>\n",
       "      <th>PAR_2RMS_TCD_10FR_MEAN</th>\n",
       "      <th>PAR_2RMS_TCD_10FR_VAR</th>\n",
       "      <th>PAR_3RMS_TCD_10FR_MEAN</th>\n",
       "      <th>PAR_3RMS_TCD_10FR_VAR</th>\n",
       "    </tr>\n",
       "  </thead>\n",
       "  <tbody>\n",
       "    <tr>\n",
       "      <th>0</th>\n",
       "      <td>2.5851</td>\n",
       "      <td>887.72</td>\n",
       "      <td>203130.0</td>\n",
       "      <td>-0.17260</td>\n",
       "      <td>-0.16509</td>\n",
       "      <td>-0.15114</td>\n",
       "      <td>-0.14272</td>\n",
       "      <td>-0.13747</td>\n",
       "      <td>-0.13437</td>\n",
       "      <td>-0.12990</td>\n",
       "      <td>...</td>\n",
       "      <td>0.014458</td>\n",
       "      <td>0.003283</td>\n",
       "      <td>0.060789</td>\n",
       "      <td>0.000173</td>\n",
       "      <td>0.049469</td>\n",
       "      <td>0.000209</td>\n",
       "      <td>0.014727</td>\n",
       "      <td>0.000058</td>\n",
       "      <td>0.003690</td>\n",
       "      <td>0.000007</td>\n",
       "    </tr>\n",
       "    <tr>\n",
       "      <th>1</th>\n",
       "      <td>2.4621</td>\n",
       "      <td>370.86</td>\n",
       "      <td>4835.0</td>\n",
       "      <td>-0.16553</td>\n",
       "      <td>-0.16676</td>\n",
       "      <td>-0.16022</td>\n",
       "      <td>-0.15304</td>\n",
       "      <td>-0.14354</td>\n",
       "      <td>-0.13443</td>\n",
       "      <td>-0.12450</td>\n",
       "      <td>...</td>\n",
       "      <td>0.007165</td>\n",
       "      <td>0.001832</td>\n",
       "      <td>0.019472</td>\n",
       "      <td>0.000006</td>\n",
       "      <td>0.021197</td>\n",
       "      <td>0.000100</td>\n",
       "      <td>0.008136</td>\n",
       "      <td>0.000055</td>\n",
       "      <td>0.002112</td>\n",
       "      <td>0.000006</td>\n",
       "    </tr>\n",
       "    <tr>\n",
       "      <th>2</th>\n",
       "      <td>2.5894</td>\n",
       "      <td>536.33</td>\n",
       "      <td>59175.0</td>\n",
       "      <td>-0.14433</td>\n",
       "      <td>-0.15838</td>\n",
       "      <td>-0.15151</td>\n",
       "      <td>-0.13966</td>\n",
       "      <td>-0.12591</td>\n",
       "      <td>-0.11795</td>\n",
       "      <td>-0.11744</td>\n",
       "      <td>...</td>\n",
       "      <td>0.009742</td>\n",
       "      <td>0.002032</td>\n",
       "      <td>0.037165</td>\n",
       "      <td>0.000158</td>\n",
       "      <td>0.037856</td>\n",
       "      <td>0.000123</td>\n",
       "      <td>0.009627</td>\n",
       "      <td>0.000068</td>\n",
       "      <td>0.001916</td>\n",
       "      <td>0.000004</td>\n",
       "    </tr>\n",
       "    <tr>\n",
       "      <th>3</th>\n",
       "      <td>2.4876</td>\n",
       "      <td>1053.70</td>\n",
       "      <td>147250.0</td>\n",
       "      <td>-0.12813</td>\n",
       "      <td>-0.11979</td>\n",
       "      <td>-0.12223</td>\n",
       "      <td>-0.11881</td>\n",
       "      <td>-0.12020</td>\n",
       "      <td>-0.12702</td>\n",
       "      <td>-0.13608</td>\n",
       "      <td>...</td>\n",
       "      <td>0.020571</td>\n",
       "      <td>0.002458</td>\n",
       "      <td>0.074786</td>\n",
       "      <td>0.000113</td>\n",
       "      <td>0.088109</td>\n",
       "      <td>0.000152</td>\n",
       "      <td>0.021083</td>\n",
       "      <td>0.000071</td>\n",
       "      <td>0.002590</td>\n",
       "      <td>0.000006</td>\n",
       "    </tr>\n",
       "    <tr>\n",
       "      <th>4</th>\n",
       "      <td>2.7968</td>\n",
       "      <td>354.90</td>\n",
       "      <td>7610.9</td>\n",
       "      <td>-0.16335</td>\n",
       "      <td>-0.16976</td>\n",
       "      <td>-0.17196</td>\n",
       "      <td>-0.16772</td>\n",
       "      <td>-0.16637</td>\n",
       "      <td>-0.15903</td>\n",
       "      <td>-0.13995</td>\n",
       "      <td>...</td>\n",
       "      <td>0.004825</td>\n",
       "      <td>0.001905</td>\n",
       "      <td>0.017377</td>\n",
       "      <td>0.000015</td>\n",
       "      <td>0.010852</td>\n",
       "      <td>0.000153</td>\n",
       "      <td>0.004702</td>\n",
       "      <td>0.000044</td>\n",
       "      <td>0.002101</td>\n",
       "      <td>0.000008</td>\n",
       "    </tr>\n",
       "  </tbody>\n",
       "</table>\n",
       "<p>5 rows × 191 columns</p>\n",
       "</div>"
      ],
      "text/plain": [
       "   PAR_TC   PAR_SC  PAR_SC_V  PAR_ASE1  PAR_ASE2  PAR_ASE3  PAR_ASE4  \\\n",
       "0  2.5851   887.72  203130.0  -0.17260  -0.16509  -0.15114  -0.14272   \n",
       "1  2.4621   370.86    4835.0  -0.16553  -0.16676  -0.16022  -0.15304   \n",
       "2  2.5894   536.33   59175.0  -0.14433  -0.15838  -0.15151  -0.13966   \n",
       "3  2.4876  1053.70  147250.0  -0.12813  -0.11979  -0.12223  -0.11881   \n",
       "4  2.7968   354.90    7610.9  -0.16335  -0.16976  -0.17196  -0.16772   \n",
       "\n",
       "   PAR_ASE5  PAR_ASE6  PAR_ASE7          ...            PAR_2RMS_TCD  \\\n",
       "0  -0.13747  -0.13437  -0.12990          ...                0.014458   \n",
       "1  -0.14354  -0.13443  -0.12450          ...                0.007165   \n",
       "2  -0.12591  -0.11795  -0.11744          ...                0.009742   \n",
       "3  -0.12020  -0.12702  -0.13608          ...                0.020571   \n",
       "4  -0.16637  -0.15903  -0.13995          ...                0.004825   \n",
       "\n",
       "   PAR_3RMS_TCD  PAR_ZCD_10FR_MEAN  PAR_ZCD_10FR_VAR  PAR_1RMS_TCD_10FR_MEAN  \\\n",
       "0      0.003283           0.060789          0.000173                0.049469   \n",
       "1      0.001832           0.019472          0.000006                0.021197   \n",
       "2      0.002032           0.037165          0.000158                0.037856   \n",
       "3      0.002458           0.074786          0.000113                0.088109   \n",
       "4      0.001905           0.017377          0.000015                0.010852   \n",
       "\n",
       "   PAR_1RMS_TCD_10FR_VAR  PAR_2RMS_TCD_10FR_MEAN  PAR_2RMS_TCD_10FR_VAR  \\\n",
       "0               0.000209                0.014727               0.000058   \n",
       "1               0.000100                0.008136               0.000055   \n",
       "2               0.000123                0.009627               0.000068   \n",
       "3               0.000152                0.021083               0.000071   \n",
       "4               0.000153                0.004702               0.000044   \n",
       "\n",
       "   PAR_3RMS_TCD_10FR_MEAN  PAR_3RMS_TCD_10FR_VAR  \n",
       "0                0.003690               0.000007  \n",
       "1                0.002112               0.000006  \n",
       "2                0.001916               0.000004  \n",
       "3                0.002590               0.000006  \n",
       "4                0.002101               0.000008  \n",
       "\n",
       "[5 rows x 191 columns]"
      ]
     },
     "execution_count": 4,
     "metadata": {},
     "output_type": "execute_result"
    }
   ],
   "source": [
    "data_test = pd.read_csv(\"./data/genresTest.csv\")\n",
    "data_test.head()"
   ]
  },
  {
   "cell_type": "markdown",
   "metadata": {},
   "source": [
    "0.75 no dió buen resultado <br>\n",
    "0.9 no dió un buen resultado <br>\n",
    "0.85 mejor resultado hasta ahora <br>"
   ]
  },
  {
   "cell_type": "code",
   "execution_count": 5,
   "metadata": {
    "scrolled": true
   },
   "outputs": [],
   "source": [
    "m_cor = data_train.corr()\n",
    "\n",
    "dict_l = {}\n",
    "for i in m_cor.index:\n",
    "    dict_l.update({i:m_cor[m_cor[i]>.85].index})\n"
   ]
  },
  {
   "cell_type": "code",
   "execution_count": 6,
   "metadata": {},
   "outputs": [
    {
     "name": "stdout",
     "output_type": "stream",
     "text": [
      "47\n",
      "['PAR_ZCD', 'PAR_2RMS_TCD', 'PAR_ZCD_10FR_MEAN', 'PAR_ASE2', 'PAR_ASE4', 'PAR_ASE5', 'PAR_ASE7', 'PAR_ASE11', 'PAR_ASE24', 'PAR_ASE26', 'PAR_ASE28', 'PAR_ASE30', 'PAR_ASEV2', 'PAR_ASEV3', 'PAR_ASEV5', 'PAR_ASEV7', 'PAR_SFM10', 'PAR_SFM12', 'PAR_SFM14', 'PAR_SFM15', 'PAR_SFM_M', 'PAR_SFM17', 'PAR_SFM19', 'PAR_SFMV20', 'PAR_MFCCV1', 'PAR_MFCCV2', 'PAR_MFCCV3', 'PAR_MFCCV4', 'PAR_MFCCV5', 'PAR_MFCCV6', 'PAR_MFCCV7', 'PAR_MFCCV8', 'PAR_MFCCV9', 'PAR_MFCCV10', 'PAR_MFCCV11', 'PAR_MFCCV12', 'PAR_MFCCV13', 'PAR_MFCCV14', 'PAR_MFCCV15', 'PAR_MFCCV16', 'PAR_MFCCV17', 'PAR_MFCCV18', 'PAR_MFCCV19', 'PAR_MFCCV20', 'PAR_1RMS_TCD_10FR_MEAN', 'PAR_2RMS_TCD_10FR_MEAN', 'PAR_3RMS_TCD_10FR_MEAN']\n"
     ]
    }
   ],
   "source": [
    "cols_drop = []\n",
    "for idx in dict_l:\n",
    "    if not (idx in cols_drop): #si ya está para eliminar no se revisa\n",
    "        for j in range(len(dict_l[idx])):\n",
    "            if idx != dict_l[idx][j]: #el se quiere mantener\n",
    "                if not (dict_l[idx][j] in cols_drop): #si no se a eliminado se puede eliminar\n",
    "                    cols_drop.append(dict_l[idx][j])\n",
    "                    #print(idx, dict_l[idx][j])\n",
    "\n",
    "print(len(cols_drop))\n",
    "print(cols_drop)"
   ]
  },
  {
   "cell_type": "code",
   "execution_count": 7,
   "metadata": {},
   "outputs": [],
   "source": [
    "df_train_drop = data_train\n",
    "df_test_drop = data_test\n",
    "for idx in np.unique(cols_drop):\n",
    "    df_train_drop = df_train_drop.drop(idx,axis=1)\n",
    "    df_test_drop = df_test_drop.drop(idx,axis=1)"
   ]
  },
  {
   "cell_type": "code",
   "execution_count": 8,
   "metadata": {},
   "outputs": [
    {
     "name": "stdout",
     "output_type": "stream",
     "text": [
      "PAR_SC\n",
      "PAR_SC_V\n"
     ]
    }
   ],
   "source": [
    "for i in df_train_drop.columns:\n",
    "    if sum(df_train_drop[i] > 100) > (df_train_drop.shape[0]/2):\n",
    "        print(i)\n",
    "        df_train_drop = df_train_drop.drop(i, axis=1)\n",
    "        df_test_drop = df_test_drop.drop(i, axis=1)"
   ]
  },
  {
   "cell_type": "code",
   "execution_count": 9,
   "metadata": {},
   "outputs": [],
   "source": [
    "col_scalar = [\"PAR_TC\", \"PAR_ASC\", \"PAR_ASS\", \"PAR_PEAK_RMS_TOT\", \"PAR_PEAK_RMS10FR_MEAN\"]\n",
    "#col_scalar = [\"PAR_TC\", \"PAR_ASC\", \"PAR_ASS\", \"PAR_PEAK_RMS_TOT\", \"PAR_PEAK_RMS10FR_MEAN\", \"PAR_SC\",\"PAR_SC_V\"]\n",
    "col_outliers = [\"PAR_ASC_V\"]"
   ]
  },
  {
   "cell_type": "code",
   "execution_count": 10,
   "metadata": {},
   "outputs": [],
   "source": [
    "def column_scale(df, l_cols):\n",
    "    \"\"\"\n",
    "    df: DataFrame de entrada\n",
    "    l_cols: lista de columnas a escalar\n",
    "    return: retorna un df con las columnas estandarizadas así:\n",
    "    (X - mean(X))/(max(X)-min(X))\n",
    "    \"\"\"\n",
    "    for col in l_cols:\n",
    "        #se cambia cada columna\n",
    "        df[col] = (df[col] - np.mean(df[col]))/(max(df[col]) - min(df[col]))\n",
    "        #df[col] = (df[col] - min(df[col]))/((max(df[col]) - min(df[col])))\n",
    "        ####### PROBAR ###########\n",
    "        #df[col] = (df[col] - np.mean(df[col]))/(np.std(df[col]))\n",
    "    return df"
   ]
  },
  {
   "cell_type": "code",
   "execution_count": 11,
   "metadata": {},
   "outputs": [],
   "source": [
    "y_trdrop = df_train_drop[\"GENRE\"]\n",
    "X_trdrop = df_train_drop.drop(\"GENRE\",axis=1)\n",
    "\n",
    "X_trdrop = column_scale(X_trdrop, col_scalar)\n",
    "X_testdrop = df_test_drop\n",
    "X_testdrop = column_scale(X_testdrop, col_scalar)\n",
    "\n",
    "X_trdrop = X_trdrop.drop(col_outliers, axis=1)\n",
    "\n",
    "X_testdrop = X_testdrop.drop(col_outliers, axis=1)"
   ]
  },
  {
   "cell_type": "code",
   "execution_count": 12,
   "metadata": {},
   "outputs": [
    {
     "name": "stdout",
     "output_type": "stream",
     "text": [
      "0.9988795518207283\n"
     ]
    }
   ],
   "source": [
    "from sklearn.ensemble import RandomForestClassifier, VotingClassifier\n",
    "from sklearn.tree import DecisionTreeClassifier\n",
    "\n",
    "clf = GradientBoostingClassifier(n_estimators=120, learning_rate=0.2)\n",
    "clf.fit(X_trdrop, y_trdrop)\n",
    "print(clf.score(X_trdrop, y_trdrop))\n",
    "\n",
    "predict = clf.predict(X_testdrop)\n",
    "result = pd.DataFrame(data=predict, index=np.arange(1, data_test.shape[0]+1), columns=['Genres'])\n",
    "result.index.name = \"Id\"\n",
    "result.to_csv('./results/submission_test_87.csv')"
   ]
  },
  {
   "cell_type": "code",
   "execution_count": null,
   "metadata": {},
   "outputs": [],
   "source": []
  },
  {
   "cell_type": "code",
   "execution_count": null,
   "metadata": {},
   "outputs": [],
   "source": []
  },
  {
   "cell_type": "code",
   "execution_count": 13,
   "metadata": {},
   "outputs": [
    {
     "name": "stdout",
     "output_type": "stream",
     "text": [
      "clase 1:  6.698564593301436\n",
      "clase 2:  23.655502392344495\n",
      "clase 3:  35.63636363636364\n",
      "clase 4:  2.373205741626794\n",
      "clase 5:  11.138755980861244\n",
      "clase 6:  20.497607655502392\n"
     ]
    }
   ],
   "source": [
    "print(\"clase 1: \",np.mean(predict==1)*100)\n",
    "print(\"clase 2: \",np.mean(predict==2)*100)\n",
    "print(\"clase 3: \",np.mean(predict==3)*100)\n",
    "print(\"clase 4: \",np.mean(predict==4)*100)\n",
    "print(\"clase 5: \",np.mean(predict==5)*100)\n",
    "print(\"clase 6: \",np.mean(predict==6)*100)"
   ]
  },
  {
   "cell_type": "code",
   "execution_count": 18,
   "metadata": {},
   "outputs": [
    {
     "name": "stdout",
     "output_type": "stream",
     "text": [
      "0.9793517406962785\n"
     ]
    }
   ],
   "source": [
    "from sklearn.ensemble import RandomForestClassifier, VotingClassifier\n",
    "from sklearn.tree import DecisionTreeClassifier\n",
    "\n",
    "clf = GradientBoostingClassifier(n_estimators=120, learning_rate=0.1)\n",
    "clf.fit(X_trdrop, y_trdrop)\n",
    "print(clf.score(X_trdrop, y_trdrop))\n",
    "\n",
    "predict = clf.predict(X_testdrop)\n",
    "result = pd.DataFrame(data=predict, index=np.arange(1, data_test.shape[0]+1), columns=['Genres'])\n",
    "result.index.name = \"Id\"\n",
    "result.to_csv('./results/submission_test_86.csv')"
   ]
  },
  {
   "cell_type": "code",
   "execution_count": 19,
   "metadata": {},
   "outputs": [
    {
     "name": "stdout",
     "output_type": "stream",
     "text": [
      "clase 1:  7.215311004784689\n",
      "clase 2:  24.114832535885167\n",
      "clase 3:  35.25358851674641\n",
      "clase 4:  1.875598086124402\n",
      "clase 5:  10.909090909090908\n",
      "clase 6:  20.63157894736842\n"
     ]
    }
   ],
   "source": [
    "print(\"clase 1: \",np.mean(predict==1)*100)\n",
    "print(\"clase 2: \",np.mean(predict==2)*100)\n",
    "print(\"clase 3: \",np.mean(predict==3)*100)\n",
    "print(\"clase 4: \",np.mean(predict==4)*100)\n",
    "print(\"clase 5: \",np.mean(predict==5)*100)\n",
    "print(\"clase 6: \",np.mean(predict==6)*100)"
   ]
  },
  {
   "cell_type": "code",
   "execution_count": 14,
   "metadata": {},
   "outputs": [
    {
     "name": "stderr",
     "output_type": "stream",
     "text": [
      "/home/ejrueda/anaconda3/lib/python3.6/site-packages/sklearn/preprocessing/label.py:151: DeprecationWarning: The truth value of an empty array is ambiguous. Returning False, but in future this will result in an error. Use `array.size > 0` to check that an array is not empty.\n",
      "  if diff:\n"
     ]
    },
    {
     "name": "stdout",
     "output_type": "stream",
     "text": [
      "1.0\n"
     ]
    },
    {
     "name": "stderr",
     "output_type": "stream",
     "text": [
      "/home/ejrueda/anaconda3/lib/python3.6/site-packages/sklearn/preprocessing/label.py:151: DeprecationWarning: The truth value of an empty array is ambiguous. Returning False, but in future this will result in an error. Use `array.size > 0` to check that an array is not empty.\n",
      "  if diff:\n"
     ]
    }
   ],
   "source": [
    "from sklearn.ensemble import RandomForestClassifier, VotingClassifier\n",
    "from sklearn.tree import DecisionTreeClassifier\n",
    "\n",
    "clf1 = RandomForestClassifier(n_estimators=350, class_weight=\"balanced_subsample\")\n",
    "clf2 = DecisionTreeClassifier()\n",
    "clf3 = GradientBoostingClassifier(n_estimators=120, learning_rate=0.2)\n",
    "\n",
    "\n",
    "eclf1 = VotingClassifier(estimators=[\n",
    "        ('rfc', clf1), ('dtc', clf2), ('gbc', clf3)], voting='hard')\n",
    "eclf1 = eclf1.fit(X_trdrop, y_trdrop)\n",
    "\n",
    "print(eclf1.score(X_trdrop, y_trdrop))\n",
    "\n",
    "predict = eclf1.predict(X_testdrop)\n",
    "result = pd.DataFrame(data=predict, index=np.arange(1, data_test.shape[0]+1), columns=['Genres'])\n",
    "result.index.name = \"Id\"\n",
    "result.to_csv('./results/submission_test_87.csv')"
   ]
  },
  {
   "cell_type": "code",
   "execution_count": 15,
   "metadata": {},
   "outputs": [
    {
     "name": "stdout",
     "output_type": "stream",
     "text": [
      "clase 1:  8.440191387559809\n",
      "clase 2:  24.038277511961724\n",
      "clase 3:  35.59808612440191\n",
      "clase 4:  1.875598086124402\n",
      "clase 5:  10.583732057416267\n",
      "clase 6:  19.464114832535888\n"
     ]
    }
   ],
   "source": [
    "print(\"clase 1: \",np.mean(predict==1)*100)\n",
    "print(\"clase 2: \",np.mean(predict==2)*100)\n",
    "print(\"clase 3: \",np.mean(predict==3)*100)\n",
    "print(\"clase 4: \",np.mean(predict==4)*100)\n",
    "print(\"clase 5: \",np.mean(predict==5)*100)\n",
    "print(\"clase 6: \",np.mean(predict==6)*100)"
   ]
  },
  {
   "cell_type": "code",
   "execution_count": 19,
   "metadata": {},
   "outputs": [],
   "source": [
    "import pickle\n",
    "\n",
    "filename = 'model_0.76005.sav'\n",
    "pickle.dump(eclf1, open(filename, 'wb'))"
   ]
  },
  {
   "cell_type": "markdown",
   "metadata": {},
   "source": [
    "### Cargar el modelo\n",
    "\n",
    "###### load the model from disk\n",
    "loaded_model = pickle.load(open(filename, 'rb')) <br>\n",
    "result = loaded_model.score(X_test, Y_test)<br>\n",
    "print(result)"
   ]
  },
  {
   "cell_type": "code",
   "execution_count": null,
   "metadata": {},
   "outputs": [],
   "source": []
  },
  {
   "cell_type": "code",
   "execution_count": 20,
   "metadata": {},
   "outputs": [
    {
     "name": "stderr",
     "output_type": "stream",
     "text": [
      "/home/ejrueda/anaconda3/lib/python3.6/site-packages/sklearn/preprocessing/label.py:151: DeprecationWarning: The truth value of an empty array is ambiguous. Returning False, but in future this will result in an error. Use `array.size > 0` to check that an array is not empty.\n",
      "  if diff:\n"
     ]
    },
    {
     "name": "stdout",
     "output_type": "stream",
     "text": [
      "1.0\n"
     ]
    },
    {
     "name": "stderr",
     "output_type": "stream",
     "text": [
      "/home/ejrueda/anaconda3/lib/python3.6/site-packages/sklearn/preprocessing/label.py:151: DeprecationWarning: The truth value of an empty array is ambiguous. Returning False, but in future this will result in an error. Use `array.size > 0` to check that an array is not empty.\n",
      "  if diff:\n"
     ]
    }
   ],
   "source": [
    "from sklearn.ensemble import RandomForestClassifier, VotingClassifier\n",
    "from sklearn.tree import DecisionTreeClassifier\n",
    "\n",
    "clf1 = RandomForestClassifier(n_estimators=650, class_weight=\"balanced_subsample\")\n",
    "clf2 = DecisionTreeClassifier()\n",
    "clf3 = GradientBoostingClassifier(n_estimators=120, learning_rate=0.2)\n",
    "\n",
    "\n",
    "eclf1 = VotingClassifier(estimators=[\n",
    "        ('rfc', clf1), ('dtc', clf2), ('gbc', clf3)], voting='hard')\n",
    "eclf1 = eclf1.fit(X_trdrop, y_trdrop)\n",
    "\n",
    "print(eclf1.score(X_trdrop, y_trdrop))\n",
    "\n",
    "predict = eclf1.predict(X_testdrop)\n",
    "result = pd.DataFrame(data=predict, index=np.arange(1, data_test.shape[0]+1), columns=['Genres'])\n",
    "result.index.name = \"Id\"\n",
    "result.to_csv('./results/submission_test_88.csv')"
   ]
  },
  {
   "cell_type": "code",
   "execution_count": 21,
   "metadata": {},
   "outputs": [
    {
     "name": "stdout",
     "output_type": "stream",
     "text": [
      "clase 1:  8.516746411483252\n",
      "clase 2:  24.13397129186603\n",
      "clase 3:  35.42583732057416\n",
      "clase 4:  1.7607655502392343\n",
      "clase 5:  10.717703349282298\n",
      "clase 6:  19.444976076555022\n"
     ]
    }
   ],
   "source": [
    "print(\"clase 1: \",np.mean(predict==1)*100)\n",
    "print(\"clase 2: \",np.mean(predict==2)*100)\n",
    "print(\"clase 3: \",np.mean(predict==3)*100)\n",
    "print(\"clase 4: \",np.mean(predict==4)*100)\n",
    "print(\"clase 5: \",np.mean(predict==5)*100)\n",
    "print(\"clase 6: \",np.mean(predict==6)*100)"
   ]
  },
  {
   "cell_type": "code",
   "execution_count": 22,
   "metadata": {},
   "outputs": [],
   "source": [
    "filename = 'model_0.76451.sav'\n",
    "pickle.dump(eclf1, open(filename, 'wb'))"
   ]
  },
  {
   "cell_type": "code",
   "execution_count": null,
   "metadata": {},
   "outputs": [],
   "source": []
  },
  {
   "cell_type": "code",
   "execution_count": 12,
   "metadata": {},
   "outputs": [
    {
     "name": "stderr",
     "output_type": "stream",
     "text": [
      "/home/ejrueda/anaconda3/lib/python3.6/site-packages/sklearn/preprocessing/label.py:151: DeprecationWarning: The truth value of an empty array is ambiguous. Returning False, but in future this will result in an error. Use `array.size > 0` to check that an array is not empty.\n",
      "  if diff:\n"
     ]
    },
    {
     "name": "stdout",
     "output_type": "stream",
     "text": [
      "1.0\n"
     ]
    },
    {
     "name": "stderr",
     "output_type": "stream",
     "text": [
      "/home/ejrueda/anaconda3/lib/python3.6/site-packages/sklearn/preprocessing/label.py:151: DeprecationWarning: The truth value of an empty array is ambiguous. Returning False, but in future this will result in an error. Use `array.size > 0` to check that an array is not empty.\n",
      "  if diff:\n"
     ]
    }
   ],
   "source": [
    "from sklearn.ensemble import RandomForestClassifier, VotingClassifier\n",
    "from sklearn.tree import DecisionTreeClassifier\n",
    "\n",
    "clf1 = RandomForestClassifier(n_estimators=650, class_weight=\"balanced_subsample\")\n",
    "clf2 = DecisionTreeClassifier()\n",
    "clf3 = GradientBoostingClassifier(n_estimators=120, learning_rate=0.2)\n",
    "clf4 = GradientBoostingClassifier(n_estimators=300, learning_rate=0.1)\n",
    "\n",
    "eclf1 = VotingClassifier(estimators=[\n",
    "        ('rfc', clf1), ('dtc', clf2), ('gbc1', clf3),('gbc2', clf4)], voting='hard')\n",
    "eclf1 = eclf1.fit(X_trdrop, y_trdrop)\n",
    "\n",
    "print(eclf1.score(X_trdrop, y_trdrop))\n",
    "\n",
    "predict = eclf1.predict(X_testdrop)\n",
    "result = pd.DataFrame(data=predict, index=np.arange(1, data_test.shape[0]+1), columns=['Genres'])\n",
    "result.index.name = \"Id\"\n",
    "result.to_csv('./results/submission_test_89.csv')"
   ]
  },
  {
   "cell_type": "code",
   "execution_count": 14,
   "metadata": {},
   "outputs": [],
   "source": [
    "import pickle\n",
    "\n",
    "filename = 'model_0xxxx.sav'\n",
    "pickle.dump(eclf1, open(filename, 'wb'))"
   ]
  },
  {
   "cell_type": "code",
   "execution_count": null,
   "metadata": {},
   "outputs": [],
   "source": []
  },
  {
   "cell_type": "code",
   "execution_count": 12,
   "metadata": {},
   "outputs": [
    {
     "name": "stderr",
     "output_type": "stream",
     "text": [
      "/home/ejrueda/anaconda3/lib/python3.6/site-packages/sklearn/preprocessing/label.py:151: DeprecationWarning: The truth value of an empty array is ambiguous. Returning False, but in future this will result in an error. Use `array.size > 0` to check that an array is not empty.\n",
      "  if diff:\n"
     ]
    },
    {
     "name": "stdout",
     "output_type": "stream",
     "text": [
      "1.0\n"
     ]
    },
    {
     "name": "stderr",
     "output_type": "stream",
     "text": [
      "/home/ejrueda/anaconda3/lib/python3.6/site-packages/sklearn/preprocessing/label.py:151: DeprecationWarning: The truth value of an empty array is ambiguous. Returning False, but in future this will result in an error. Use `array.size > 0` to check that an array is not empty.\n",
      "  if diff:\n"
     ]
    }
   ],
   "source": [
    "from sklearn.ensemble import RandomForestClassifier, VotingClassifier\n",
    "from sklearn.tree import DecisionTreeClassifier\n",
    "\n",
    "clf1 = RandomForestClassifier(n_estimators=750, class_weight=\"balanced_subsample\")\n",
    "clf2 = DecisionTreeClassifier()\n",
    "clf3 = GradientBoostingClassifier(n_estimators=120, learning_rate=0.2)\n",
    "\n",
    "\n",
    "eclf1 = VotingClassifier(estimators=[\n",
    "        ('rfc', clf1), ('dtc', clf2), ('gbc', clf3)], voting='hard')\n",
    "eclf1 = eclf1.fit(X_trdrop, y_trdrop)\n",
    "\n",
    "print(eclf1.score(X_trdrop, y_trdrop))\n",
    "\n",
    "predict = eclf1.predict(X_testdrop)\n",
    "result = pd.DataFrame(data=predict, index=np.arange(1, data_test.shape[0]+1), columns=['Genres'])\n",
    "result.index.name = \"Id\"\n",
    "result.to_csv('./results/submission_test_90.csv')"
   ]
  },
  {
   "cell_type": "code",
   "execution_count": 13,
   "metadata": {},
   "outputs": [
    {
     "name": "stdout",
     "output_type": "stream",
     "text": [
      "clase 1:  8.401913875598085\n",
      "clase 2:  24.17224880382775\n",
      "clase 3:  35.291866028708135\n",
      "clase 4:  1.8564593301435406\n",
      "clase 5:  10.813397129186603\n",
      "clase 6:  19.464114832535888\n"
     ]
    }
   ],
   "source": [
    "print(\"clase 1: \",np.mean(predict==1)*100)\n",
    "print(\"clase 2: \",np.mean(predict==2)*100)\n",
    "print(\"clase 3: \",np.mean(predict==3)*100)\n",
    "print(\"clase 4: \",np.mean(predict==4)*100)\n",
    "print(\"clase 5: \",np.mean(predict==5)*100)\n",
    "print(\"clase 6: \",np.mean(predict==6)*100)"
   ]
  },
  {
   "cell_type": "code",
   "execution_count": 14,
   "metadata": {},
   "outputs": [],
   "source": [
    "import pickle\n",
    "\n",
    "filename = 'model_0759.sav'\n",
    "pickle.dump(eclf1, open(filename, 'wb'))"
   ]
  },
  {
   "cell_type": "code",
   "execution_count": null,
   "metadata": {},
   "outputs": [],
   "source": []
  },
  {
   "cell_type": "code",
   "execution_count": 15,
   "metadata": {},
   "outputs": [
    {
     "name": "stderr",
     "output_type": "stream",
     "text": [
      "/home/ejrueda/anaconda3/lib/python3.6/site-packages/sklearn/preprocessing/label.py:151: DeprecationWarning: The truth value of an empty array is ambiguous. Returning False, but in future this will result in an error. Use `array.size > 0` to check that an array is not empty.\n",
      "  if diff:\n"
     ]
    },
    {
     "name": "stdout",
     "output_type": "stream",
     "text": [
      "1.0\n"
     ]
    },
    {
     "name": "stderr",
     "output_type": "stream",
     "text": [
      "/home/ejrueda/anaconda3/lib/python3.6/site-packages/sklearn/preprocessing/label.py:151: DeprecationWarning: The truth value of an empty array is ambiguous. Returning False, but in future this will result in an error. Use `array.size > 0` to check that an array is not empty.\n",
      "  if diff:\n"
     ]
    }
   ],
   "source": [
    "from sklearn.ensemble import RandomForestClassifier, VotingClassifier\n",
    "from sklearn.tree import DecisionTreeClassifier\n",
    "\n",
    "clf1 = RandomForestClassifier(n_estimators=750, class_weight=\"balanced_subsample\",n_jobs=2)\n",
    "clf2 = DecisionTreeClassifier()\n",
    "clf3 = GradientBoostingClassifier(n_estimators=220, learning_rate=0.2)\n",
    "\n",
    "\n",
    "eclf1 = VotingClassifier(estimators=[\n",
    "        ('rfc', clf1), ('dtc', clf2), ('gbc', clf3)], voting='hard')\n",
    "eclf1 = eclf1.fit(X_trdrop, y_trdrop)\n",
    "\n",
    "print(eclf1.score(X_trdrop, y_trdrop))\n",
    "\n",
    "predict = eclf1.predict(X_testdrop)\n",
    "result = pd.DataFrame(data=predict, index=np.arange(1, data_test.shape[0]+1), columns=['Genres'])\n",
    "result.index.name = \"Id\"\n",
    "result.to_csv('./results/submission_test_91.csv')"
   ]
  },
  {
   "cell_type": "code",
   "execution_count": 16,
   "metadata": {},
   "outputs": [
    {
     "name": "stdout",
     "output_type": "stream",
     "text": [
      "clase 1:  8.363636363636363\n",
      "clase 2:  24.114832535885167\n",
      "clase 3:  35.291866028708135\n",
      "clase 4:  1.9138755980861244\n",
      "clase 5:  10.717703349282298\n",
      "clase 6:  19.598086124401913\n"
     ]
    }
   ],
   "source": [
    "print(\"clase 1: \",np.mean(predict==1)*100)\n",
    "print(\"clase 2: \",np.mean(predict==2)*100)\n",
    "print(\"clase 3: \",np.mean(predict==3)*100)\n",
    "print(\"clase 4: \",np.mean(predict==4)*100)\n",
    "print(\"clase 5: \",np.mean(predict==5)*100)\n",
    "print(\"clase 6: \",np.mean(predict==6)*100)"
   ]
  },
  {
   "cell_type": "code",
   "execution_count": 17,
   "metadata": {},
   "outputs": [],
   "source": [
    "import pickle\n",
    "\n",
    "filename = 'model_075749.sav'\n",
    "pickle.dump(eclf1, open(filename, 'wb'))"
   ]
  },
  {
   "cell_type": "code",
   "execution_count": null,
   "metadata": {},
   "outputs": [],
   "source": []
  },
  {
   "cell_type": "code",
   "execution_count": 19,
   "metadata": {},
   "outputs": [
    {
     "name": "stderr",
     "output_type": "stream",
     "text": [
      "/home/ejrueda/anaconda3/lib/python3.6/site-packages/sklearn/preprocessing/label.py:151: DeprecationWarning: The truth value of an empty array is ambiguous. Returning False, but in future this will result in an error. Use `array.size > 0` to check that an array is not empty.\n",
      "  if diff:\n"
     ]
    },
    {
     "name": "stdout",
     "output_type": "stream",
     "text": [
      "1.0\n"
     ]
    },
    {
     "name": "stderr",
     "output_type": "stream",
     "text": [
      "/home/ejrueda/anaconda3/lib/python3.6/site-packages/sklearn/preprocessing/label.py:151: DeprecationWarning: The truth value of an empty array is ambiguous. Returning False, but in future this will result in an error. Use `array.size > 0` to check that an array is not empty.\n",
      "  if diff:\n"
     ]
    }
   ],
   "source": [
    "from sklearn.ensemble import RandomForestClassifier, VotingClassifier\n",
    "from sklearn.tree import DecisionTreeClassifier\n",
    "\n",
    "clf1 = RandomForestClassifier(n_estimators=950, class_weight=\"balanced_subsample\",n_jobs=2)\n",
    "clf2 = DecisionTreeClassifier()\n",
    "clf3 = GradientBoostingClassifier(n_estimators=120, learning_rate=0.2)\n",
    "\n",
    "\n",
    "eclf1 = VotingClassifier(estimators=[\n",
    "        ('rfc', clf1), ('dtc', clf2), ('gbc', clf3)], voting='hard')\n",
    "eclf1 = eclf1.fit(X_trdrop, y_trdrop)\n",
    "\n",
    "print(eclf1.score(X_trdrop, y_trdrop))\n",
    "\n",
    "predict = eclf1.predict(X_testdrop)\n",
    "result = pd.DataFrame(data=predict, index=np.arange(1, data_test.shape[0]+1), columns=['Genres'])\n",
    "result.index.name = \"Id\"\n",
    "result.to_csv('./results/submission_test_92.csv')"
   ]
  },
  {
   "cell_type": "code",
   "execution_count": 39,
   "metadata": {},
   "outputs": [
    {
     "data": {
      "text/html": [
       "<div>\n",
       "<style scoped>\n",
       "    .dataframe tbody tr th:only-of-type {\n",
       "        vertical-align: middle;\n",
       "    }\n",
       "\n",
       "    .dataframe tbody tr th {\n",
       "        vertical-align: top;\n",
       "    }\n",
       "\n",
       "    .dataframe thead th {\n",
       "        text-align: right;\n",
       "    }\n",
       "</style>\n",
       "<table border=\"1\" class=\"dataframe\">\n",
       "  <thead>\n",
       "    <tr style=\"text-align: right;\">\n",
       "      <th></th>\n",
       "      <th>PAR_TC</th>\n",
       "      <th>PAR_ASE1</th>\n",
       "      <th>PAR_ASE3</th>\n",
       "      <th>PAR_ASE6</th>\n",
       "      <th>PAR_ASE8</th>\n",
       "      <th>PAR_ASE9</th>\n",
       "      <th>PAR_ASE10</th>\n",
       "      <th>PAR_ASE12</th>\n",
       "      <th>PAR_ASE13</th>\n",
       "      <th>PAR_ASE14</th>\n",
       "      <th>...</th>\n",
       "      <th>PAR_THR_3RMS_10FR_VAR</th>\n",
       "      <th>PAR_PEAK_RMS_TOT</th>\n",
       "      <th>PAR_PEAK_RMS10FR_MEAN</th>\n",
       "      <th>PAR_PEAK_RMS10FR_VAR</th>\n",
       "      <th>PAR_1RMS_TCD</th>\n",
       "      <th>PAR_3RMS_TCD</th>\n",
       "      <th>PAR_ZCD_10FR_VAR</th>\n",
       "      <th>PAR_1RMS_TCD_10FR_VAR</th>\n",
       "      <th>PAR_2RMS_TCD_10FR_VAR</th>\n",
       "      <th>PAR_3RMS_TCD_10FR_VAR</th>\n",
       "    </tr>\n",
       "  </thead>\n",
       "  <tbody>\n",
       "    <tr>\n",
       "      <th>0</th>\n",
       "      <td>0.025113</td>\n",
       "      <td>-0.12334</td>\n",
       "      <td>-0.11176</td>\n",
       "      <td>-0.11026</td>\n",
       "      <td>-0.12465</td>\n",
       "      <td>-0.13659</td>\n",
       "      <td>-0.13951</td>\n",
       "      <td>-0.13893</td>\n",
       "      <td>-0.14148</td>\n",
       "      <td>-0.14381</td>\n",
       "      <td>...</td>\n",
       "      <td>4.177900e-06</td>\n",
       "      <td>-0.048844</td>\n",
       "      <td>-0.002902</td>\n",
       "      <td>0.32300</td>\n",
       "      <td>0.048272</td>\n",
       "      <td>0.002032</td>\n",
       "      <td>0.000091</td>\n",
       "      <td>0.000231</td>\n",
       "      <td>0.000024</td>\n",
       "      <td>0.000003</td>\n",
       "    </tr>\n",
       "    <tr>\n",
       "      <th>1</th>\n",
       "      <td>0.064559</td>\n",
       "      <td>-0.17655</td>\n",
       "      <td>-0.17773</td>\n",
       "      <td>-0.16174</td>\n",
       "      <td>-0.14458</td>\n",
       "      <td>-0.14691</td>\n",
       "      <td>-0.15324</td>\n",
       "      <td>-0.14155</td>\n",
       "      <td>-0.15822</td>\n",
       "      <td>-0.11068</td>\n",
       "      <td>...</td>\n",
       "      <td>5.629600e-06</td>\n",
       "      <td>-0.011076</td>\n",
       "      <td>-0.001723</td>\n",
       "      <td>3.18450</td>\n",
       "      <td>0.085800</td>\n",
       "      <td>0.005959</td>\n",
       "      <td>0.001122</td>\n",
       "      <td>0.003869</td>\n",
       "      <td>0.000779</td>\n",
       "      <td>0.000041</td>\n",
       "    </tr>\n",
       "    <tr>\n",
       "      <th>2</th>\n",
       "      <td>0.012861</td>\n",
       "      <td>-0.13940</td>\n",
       "      <td>-0.11486</td>\n",
       "      <td>-0.10936</td>\n",
       "      <td>-0.12948</td>\n",
       "      <td>-0.12599</td>\n",
       "      <td>-0.12750</td>\n",
       "      <td>-0.13485</td>\n",
       "      <td>-0.12867</td>\n",
       "      <td>-0.14073</td>\n",
       "      <td>...</td>\n",
       "      <td>5.601000e-06</td>\n",
       "      <td>-0.052747</td>\n",
       "      <td>-0.003049</td>\n",
       "      <td>0.31701</td>\n",
       "      <td>0.044132</td>\n",
       "      <td>0.002766</td>\n",
       "      <td>0.000358</td>\n",
       "      <td>0.000211</td>\n",
       "      <td>0.000038</td>\n",
       "      <td>0.000002</td>\n",
       "    </tr>\n",
       "    <tr>\n",
       "      <th>3</th>\n",
       "      <td>-0.011978</td>\n",
       "      <td>-0.14995</td>\n",
       "      <td>-0.13800</td>\n",
       "      <td>-0.12340</td>\n",
       "      <td>-0.12010</td>\n",
       "      <td>-0.12907</td>\n",
       "      <td>-0.12677</td>\n",
       "      <td>-0.13761</td>\n",
       "      <td>-0.13426</td>\n",
       "      <td>-0.12630</td>\n",
       "      <td>...</td>\n",
       "      <td>2.591300e-05</td>\n",
       "      <td>-0.008712</td>\n",
       "      <td>-0.001919</td>\n",
       "      <td>1.74920</td>\n",
       "      <td>0.035492</td>\n",
       "      <td>0.002503</td>\n",
       "      <td>0.000356</td>\n",
       "      <td>0.000118</td>\n",
       "      <td>0.000045</td>\n",
       "      <td>0.000006</td>\n",
       "    </tr>\n",
       "    <tr>\n",
       "      <th>4</th>\n",
       "      <td>0.021440</td>\n",
       "      <td>-0.16863</td>\n",
       "      <td>-0.15935</td>\n",
       "      <td>-0.13002</td>\n",
       "      <td>-0.13167</td>\n",
       "      <td>-0.13584</td>\n",
       "      <td>-0.13075</td>\n",
       "      <td>-0.11369</td>\n",
       "      <td>-0.11557</td>\n",
       "      <td>-0.10882</td>\n",
       "      <td>...</td>\n",
       "      <td>9.754300e-07</td>\n",
       "      <td>0.013285</td>\n",
       "      <td>-0.001176</td>\n",
       "      <td>4.32160</td>\n",
       "      <td>0.046871</td>\n",
       "      <td>0.002703</td>\n",
       "      <td>0.000302</td>\n",
       "      <td>0.000606</td>\n",
       "      <td>0.000152</td>\n",
       "      <td>0.000029</td>\n",
       "    </tr>\n",
       "  </tbody>\n",
       "</table>\n",
       "<p>5 rows × 141 columns</p>\n",
       "</div>"
      ],
      "text/plain": [
       "     PAR_TC  PAR_ASE1  PAR_ASE3  PAR_ASE6  PAR_ASE8  PAR_ASE9  PAR_ASE10  \\\n",
       "0  0.025113  -0.12334  -0.11176  -0.11026  -0.12465  -0.13659   -0.13951   \n",
       "1  0.064559  -0.17655  -0.17773  -0.16174  -0.14458  -0.14691   -0.15324   \n",
       "2  0.012861  -0.13940  -0.11486  -0.10936  -0.12948  -0.12599   -0.12750   \n",
       "3 -0.011978  -0.14995  -0.13800  -0.12340  -0.12010  -0.12907   -0.12677   \n",
       "4  0.021440  -0.16863  -0.15935  -0.13002  -0.13167  -0.13584   -0.13075   \n",
       "\n",
       "   PAR_ASE12  PAR_ASE13  PAR_ASE14          ...            \\\n",
       "0   -0.13893   -0.14148   -0.14381          ...             \n",
       "1   -0.14155   -0.15822   -0.11068          ...             \n",
       "2   -0.13485   -0.12867   -0.14073          ...             \n",
       "3   -0.13761   -0.13426   -0.12630          ...             \n",
       "4   -0.11369   -0.11557   -0.10882          ...             \n",
       "\n",
       "   PAR_THR_3RMS_10FR_VAR  PAR_PEAK_RMS_TOT  PAR_PEAK_RMS10FR_MEAN  \\\n",
       "0           4.177900e-06         -0.048844              -0.002902   \n",
       "1           5.629600e-06         -0.011076              -0.001723   \n",
       "2           5.601000e-06         -0.052747              -0.003049   \n",
       "3           2.591300e-05         -0.008712              -0.001919   \n",
       "4           9.754300e-07          0.013285              -0.001176   \n",
       "\n",
       "   PAR_PEAK_RMS10FR_VAR  PAR_1RMS_TCD  PAR_3RMS_TCD  PAR_ZCD_10FR_VAR  \\\n",
       "0               0.32300      0.048272      0.002032          0.000091   \n",
       "1               3.18450      0.085800      0.005959          0.001122   \n",
       "2               0.31701      0.044132      0.002766          0.000358   \n",
       "3               1.74920      0.035492      0.002503          0.000356   \n",
       "4               4.32160      0.046871      0.002703          0.000302   \n",
       "\n",
       "   PAR_1RMS_TCD_10FR_VAR  PAR_2RMS_TCD_10FR_VAR  PAR_3RMS_TCD_10FR_VAR  \n",
       "0               0.000231               0.000024               0.000003  \n",
       "1               0.003869               0.000779               0.000041  \n",
       "2               0.000211               0.000038               0.000002  \n",
       "3               0.000118               0.000045               0.000006  \n",
       "4               0.000606               0.000152               0.000029  \n",
       "\n",
       "[5 rows x 141 columns]"
      ]
     },
     "execution_count": 39,
     "metadata": {},
     "output_type": "execute_result"
    }
   ],
   "source": [
    "X_trdrop.head()"
   ]
  },
  {
   "cell_type": "code",
   "execution_count": 12,
   "metadata": {},
   "outputs": [],
   "source": [
    "import xgboost as xgb"
   ]
  },
  {
   "cell_type": "code",
   "execution_count": 43,
   "metadata": {},
   "outputs": [
    {
     "name": "stdout",
     "output_type": "stream",
     "text": [
      "0.9486994797919168\n"
     ]
    },
    {
     "name": "stderr",
     "output_type": "stream",
     "text": [
      "/home/ejrueda/anaconda3/lib/python3.6/site-packages/sklearn/preprocessing/label.py:151: DeprecationWarning: The truth value of an empty array is ambiguous. Returning False, but in future this will result in an error. Use `array.size > 0` to check that an array is not empty.\n",
      "  if diff:\n",
      "/home/ejrueda/anaconda3/lib/python3.6/site-packages/sklearn/preprocessing/label.py:151: DeprecationWarning: The truth value of an empty array is ambiguous. Returning False, but in future this will result in an error. Use `array.size > 0` to check that an array is not empty.\n",
      "  if diff:\n"
     ]
    }
   ],
   "source": [
    "clf = xgb.XGBClassifier()\n",
    "clf.fit(X_trdrop, y_trdrop)\n",
    "\n",
    "print(clf.score(X_trdrop, y_trdrop))\n",
    "predict = clf.predict(X_testdrop)\n",
    "result = pd.DataFrame(data=predict, index=np.arange(1, data_test.shape[0]+1), columns=['Genres'])\n",
    "result.index.name = \"Id\"\n",
    "result.to_csv('./results/submission_test_93.csv')"
   ]
  },
  {
   "cell_type": "code",
   "execution_count": 44,
   "metadata": {},
   "outputs": [
    {
     "name": "stdout",
     "output_type": "stream",
     "text": [
      "clase 1:  7.444976076555024\n",
      "clase 2:  24.593301435406698\n",
      "clase 3:  34.717703349282296\n",
      "clase 4:  1.8181818181818181\n",
      "clase 5:  10.526315789473683\n",
      "clase 6:  20.89952153110048\n"
     ]
    }
   ],
   "source": [
    "print(\"clase 1: \",np.mean(predict==1)*100)\n",
    "print(\"clase 2: \",np.mean(predict==2)*100)\n",
    "print(\"clase 3: \",np.mean(predict==3)*100)\n",
    "print(\"clase 4: \",np.mean(predict==4)*100)\n",
    "print(\"clase 5: \",np.mean(predict==5)*100)\n",
    "print(\"clase 6: \",np.mean(predict==6)*100)"
   ]
  },
  {
   "cell_type": "code",
   "execution_count": null,
   "metadata": {},
   "outputs": [],
   "source": []
  },
  {
   "cell_type": "code",
   "execution_count": 46,
   "metadata": {},
   "outputs": [
    {
     "name": "stdout",
     "output_type": "stream",
     "text": [
      "0.9717486994797919\n"
     ]
    },
    {
     "name": "stderr",
     "output_type": "stream",
     "text": [
      "/home/ejrueda/anaconda3/lib/python3.6/site-packages/sklearn/preprocessing/label.py:151: DeprecationWarning: The truth value of an empty array is ambiguous. Returning False, but in future this will result in an error. Use `array.size > 0` to check that an array is not empty.\n",
      "  if diff:\n",
      "/home/ejrueda/anaconda3/lib/python3.6/site-packages/sklearn/preprocessing/label.py:151: DeprecationWarning: The truth value of an empty array is ambiguous. Returning False, but in future this will result in an error. Use `array.size > 0` to check that an array is not empty.\n",
      "  if diff:\n"
     ]
    }
   ],
   "source": [
    "clf = xgb.XGBClassifier(n_estimators=150, objective='multi:softprob', n_jobs=2)\n",
    "clf.fit(X_trdrop, y_trdrop)\n",
    "\n",
    "print(clf.score(X_trdrop, y_trdrop))\n",
    "predict = clf.predict(X_testdrop)\n",
    "result = pd.DataFrame(data=predict, index=np.arange(1, data_test.shape[0]+1), columns=['Genres'])\n",
    "result.index.name = \"Id\"\n",
    "result.to_csv('./results/submission_test_94.csv')"
   ]
  },
  {
   "cell_type": "code",
   "execution_count": 48,
   "metadata": {},
   "outputs": [],
   "source": [
    "import pickle\n",
    "\n",
    "filename = 'model_test94.sav'\n",
    "pickle.dump(clf, open(filename, 'wb'))"
   ]
  },
  {
   "cell_type": "code",
   "execution_count": 49,
   "metadata": {},
   "outputs": [
    {
     "name": "stdout",
     "output_type": "stream",
     "text": [
      "clase 1:  7.119617224880383\n",
      "clase 2:  23.84688995215311\n",
      "clase 3:  35.406698564593306\n",
      "clase 4:  1.9904306220095696\n",
      "clase 5:  10.44976076555024\n",
      "clase 6:  21.1866028708134\n"
     ]
    }
   ],
   "source": [
    "print(\"clase 1: \",np.mean(predict==1)*100)\n",
    "print(\"clase 2: \",np.mean(predict==2)*100)\n",
    "print(\"clase 3: \",np.mean(predict==3)*100)\n",
    "print(\"clase 4: \",np.mean(predict==4)*100)\n",
    "print(\"clase 5: \",np.mean(predict==5)*100)\n",
    "print(\"clase 6: \",np.mean(predict==6)*100)"
   ]
  },
  {
   "cell_type": "code",
   "execution_count": null,
   "metadata": {},
   "outputs": [],
   "source": []
  },
  {
   "cell_type": "code",
   "execution_count": 50,
   "metadata": {},
   "outputs": [
    {
     "name": "stderr",
     "output_type": "stream",
     "text": [
      "/home/ejrueda/anaconda3/lib/python3.6/site-packages/sklearn/preprocessing/label.py:151: DeprecationWarning: The truth value of an empty array is ambiguous. Returning False, but in future this will result in an error. Use `array.size > 0` to check that an array is not empty.\n",
      "  if diff:\n",
      "/home/ejrueda/anaconda3/lib/python3.6/site-packages/sklearn/preprocessing/label.py:151: DeprecationWarning: The truth value of an empty array is ambiguous. Returning False, but in future this will result in an error. Use `array.size > 0` to check that an array is not empty.\n",
      "  if diff:\n"
     ]
    },
    {
     "name": "stdout",
     "output_type": "stream",
     "text": [
      "0.9990396158463385\n"
     ]
    },
    {
     "name": "stderr",
     "output_type": "stream",
     "text": [
      "/home/ejrueda/anaconda3/lib/python3.6/site-packages/sklearn/preprocessing/label.py:151: DeprecationWarning: The truth value of an empty array is ambiguous. Returning False, but in future this will result in an error. Use `array.size > 0` to check that an array is not empty.\n",
      "  if diff:\n",
      "/home/ejrueda/anaconda3/lib/python3.6/site-packages/sklearn/preprocessing/label.py:151: DeprecationWarning: The truth value of an empty array is ambiguous. Returning False, but in future this will result in an error. Use `array.size > 0` to check that an array is not empty.\n",
      "  if diff:\n"
     ]
    }
   ],
   "source": [
    "from sklearn.ensemble import RandomForestClassifier, VotingClassifier\n",
    "from sklearn.tree import DecisionTreeClassifier\n",
    "\n",
    "clf1 = RandomForestClassifier(n_estimators=750, class_weight=\"balanced_subsample\")\n",
    "clf2 = DecisionTreeClassifier()\n",
    "clf3 = GradientBoostingClassifier(n_estimators=120, learning_rate=0.2)\n",
    "clf4 = xgb.XGBClassifier(n_estimators=150, objective='multi:softprob', n_jobs=1)\n",
    "\n",
    "eclf1 = VotingClassifier(estimators=[\n",
    "        ('rfc', clf1), ('dtc', clf2), ('gbc', clf3), ('xgb', clf4)], voting='hard')\n",
    "eclf1 = eclf1.fit(X_trdrop, y_trdrop)\n",
    "\n",
    "print(eclf1.score(X_trdrop, y_trdrop))\n",
    "\n",
    "predict = eclf1.predict(X_testdrop)\n",
    "result = pd.DataFrame(data=predict, index=np.arange(1, data_test.shape[0]+1), columns=['Genres'])\n",
    "result.index.name = \"Id\"\n",
    "result.to_csv('./results/submission_test_95.csv')"
   ]
  },
  {
   "cell_type": "code",
   "execution_count": 51,
   "metadata": {},
   "outputs": [
    {
     "name": "stdout",
     "output_type": "stream",
     "text": [
      "clase 1:  8.114832535885167\n",
      "clase 2:  25.358851674641148\n",
      "clase 3:  34.10526315789474\n",
      "clase 4:  1.9712918660287082\n",
      "clase 5:  11.138755980861244\n",
      "clase 6:  19.311004784688997\n"
     ]
    }
   ],
   "source": [
    "print(\"clase 1: \",np.mean(predict==1)*100)\n",
    "print(\"clase 2: \",np.mean(predict==2)*100)\n",
    "print(\"clase 3: \",np.mean(predict==3)*100)\n",
    "print(\"clase 4: \",np.mean(predict==4)*100)\n",
    "print(\"clase 5: \",np.mean(predict==5)*100)\n",
    "print(\"clase 6: \",np.mean(predict==6)*100)"
   ]
  },
  {
   "cell_type": "code",
   "execution_count": 52,
   "metadata": {},
   "outputs": [],
   "source": [
    "import pickle\n",
    "\n",
    "filename = 'model_test95.sav'\n",
    "pickle.dump(clf, open(filename, 'wb'))"
   ]
  },
  {
   "cell_type": "code",
   "execution_count": 13,
   "metadata": {},
   "outputs": [
    {
     "name": "stderr",
     "output_type": "stream",
     "text": [
      "/home/ejrueda/anaconda3/lib/python3.6/site-packages/sklearn/preprocessing/label.py:151: DeprecationWarning: The truth value of an empty array is ambiguous. Returning False, but in future this will result in an error. Use `array.size > 0` to check that an array is not empty.\n",
      "  if diff:\n",
      "/home/ejrueda/anaconda3/lib/python3.6/site-packages/sklearn/preprocessing/label.py:151: DeprecationWarning: The truth value of an empty array is ambiguous. Returning False, but in future this will result in an error. Use `array.size > 0` to check that an array is not empty.\n",
      "  if diff:\n"
     ]
    },
    {
     "name": "stdout",
     "output_type": "stream",
     "text": [
      "0.9989595838335334\n"
     ]
    },
    {
     "name": "stderr",
     "output_type": "stream",
     "text": [
      "/home/ejrueda/anaconda3/lib/python3.6/site-packages/sklearn/preprocessing/label.py:151: DeprecationWarning: The truth value of an empty array is ambiguous. Returning False, but in future this will result in an error. Use `array.size > 0` to check that an array is not empty.\n",
      "  if diff:\n",
      "/home/ejrueda/anaconda3/lib/python3.6/site-packages/sklearn/preprocessing/label.py:151: DeprecationWarning: The truth value of an empty array is ambiguous. Returning False, but in future this will result in an error. Use `array.size > 0` to check that an array is not empty.\n",
      "  if diff:\n"
     ]
    }
   ],
   "source": [
    "from sklearn.ensemble import RandomForestClassifier, VotingClassifier\n",
    "from sklearn.tree import DecisionTreeClassifier\n",
    "\n",
    "clf1 = RandomForestClassifier(n_estimators=750, class_weight=\"balanced_subsample\")\n",
    "clf2 = DecisionTreeClassifier()\n",
    "clf3 = GradientBoostingClassifier(n_estimators=120, learning_rate=0.2)\n",
    "clf4 = xgb.XGBClassifier(n_estimators=250, objective='multi:softprob', n_jobs=1)\n",
    "\n",
    "eclf1 = VotingClassifier(estimators=[\n",
    "        ('rfc', clf1), ('dtc', clf2), ('gbc', clf3), ('xgb', clf4)], voting='hard')\n",
    "eclf1 = eclf1.fit(X_trdrop, y_trdrop)\n",
    "\n",
    "print(eclf1.score(X_trdrop, y_trdrop))\n",
    "\n",
    "predict = eclf1.predict(X_testdrop)\n",
    "result = pd.DataFrame(data=predict, index=np.arange(1, data_test.shape[0]+1), columns=['Genres'])\n",
    "result.index.name = \"Id\"\n",
    "result.to_csv('./results/submission_test_96.csv')"
   ]
  },
  {
   "cell_type": "code",
   "execution_count": 14,
   "metadata": {},
   "outputs": [
    {
     "name": "stdout",
     "output_type": "stream",
     "text": [
      "clase 1:  8.17224880382775\n",
      "clase 2:  24.9377990430622\n",
      "clase 3:  34.39234449760766\n",
      "clase 4:  2.181818181818182\n",
      "clase 5:  10.717703349282298\n",
      "clase 6:  19.598086124401913\n"
     ]
    }
   ],
   "source": [
    "print(\"clase 1: \",np.mean(predict==1)*100)\n",
    "print(\"clase 2: \",np.mean(predict==2)*100)\n",
    "print(\"clase 3: \",np.mean(predict==3)*100)\n",
    "print(\"clase 4: \",np.mean(predict==4)*100)\n",
    "print(\"clase 5: \",np.mean(predict==5)*100)\n",
    "print(\"clase 6: \",np.mean(predict==6)*100)"
   ]
  },
  {
   "cell_type": "code",
   "execution_count": 16,
   "metadata": {},
   "outputs": [],
   "source": [
    "import pickle\n",
    "\n",
    "filename = 'model_076707.sav'\n",
    "pickle.dump(eclf1, open(filename, 'wb'))"
   ]
  },
  {
   "cell_type": "code",
   "execution_count": 19,
   "metadata": {},
   "outputs": [
    {
     "name": "stderr",
     "output_type": "stream",
     "text": [
      "/home/ejrueda/anaconda3/lib/python3.6/site-packages/sklearn/preprocessing/label.py:151: DeprecationWarning: The truth value of an empty array is ambiguous. Returning False, but in future this will result in an error. Use `array.size > 0` to check that an array is not empty.\n",
      "  if diff:\n",
      "/home/ejrueda/anaconda3/lib/python3.6/site-packages/sklearn/preprocessing/label.py:151: DeprecationWarning: The truth value of an empty array is ambiguous. Returning False, but in future this will result in an error. Use `array.size > 0` to check that an array is not empty.\n",
      "  if diff:\n"
     ]
    },
    {
     "name": "stdout",
     "output_type": "stream",
     "text": [
      "0.9809523809523809\n"
     ]
    },
    {
     "name": "stderr",
     "output_type": "stream",
     "text": [
      "/home/ejrueda/anaconda3/lib/python3.6/site-packages/sklearn/preprocessing/label.py:151: DeprecationWarning: The truth value of an empty array is ambiguous. Returning False, but in future this will result in an error. Use `array.size > 0` to check that an array is not empty.\n",
      "  if diff:\n",
      "/home/ejrueda/anaconda3/lib/python3.6/site-packages/sklearn/preprocessing/label.py:151: DeprecationWarning: The truth value of an empty array is ambiguous. Returning False, but in future this will result in an error. Use `array.size > 0` to check that an array is not empty.\n",
      "  if diff:\n"
     ]
    }
   ],
   "source": [
    "from sklearn.ensemble import RandomForestClassifier, VotingClassifier\n",
    "from sklearn.tree import DecisionTreeClassifier\n",
    "\n",
    "clf1 = RandomForestClassifier(n_estimators=50, class_weight=\"balanced_subsample\")\n",
    "clf2 = DecisionTreeClassifier()\n",
    "clf3 = GradientBoostingClassifier(n_estimators=50, learning_rate=0.2)\n",
    "clf4 = xgb.XGBClassifier(n_estimators=50, objective='multi:softprob', n_jobs=1)\n",
    "\n",
    "eclf1 = VotingClassifier(estimators=[\n",
    "        ('rfc', clf1), ('dtc', clf2), ('gbc', clf3), ('xgb', clf4)], voting='hard')\n",
    "eclf1 = eclf1.fit(X_trdrop, y_trdrop)\n",
    "\n",
    "print(eclf1.score(X_trdrop, y_trdrop))\n",
    "\n",
    "predict = eclf1.predict(X_testdrop)\n",
    "result = pd.DataFrame(data=predict, index=np.arange(1, data_test.shape[0]+1), columns=['Genres'])\n",
    "result.index.name = \"Id\"\n",
    "result.to_csv('./results/submission_test_98.csv')"
   ]
  },
  {
   "cell_type": "code",
   "execution_count": 20,
   "metadata": {},
   "outputs": [
    {
     "name": "stdout",
     "output_type": "stream",
     "text": [
      "clase 1:  8.61244019138756\n",
      "clase 2:  25.454545454545453\n",
      "clase 3:  33.933014354066984\n",
      "clase 4:  1.7607655502392343\n",
      "clase 5:  11.157894736842106\n",
      "clase 6:  19.08133971291866\n"
     ]
    }
   ],
   "source": [
    "print(\"clase 1: \",np.mean(predict==1)*100)\n",
    "print(\"clase 2: \",np.mean(predict==2)*100)\n",
    "print(\"clase 3: \",np.mean(predict==3)*100)\n",
    "print(\"clase 4: \",np.mean(predict==4)*100)\n",
    "print(\"clase 5: \",np.mean(predict==5)*100)\n",
    "print(\"clase 6: \",np.mean(predict==6)*100)"
   ]
  },
  {
   "cell_type": "code",
   "execution_count": null,
   "metadata": {},
   "outputs": [],
   "source": []
  },
  {
   "cell_type": "code",
   "execution_count": 13,
   "metadata": {},
   "outputs": [
    {
     "name": "stderr",
     "output_type": "stream",
     "text": [
      "/home/ejrueda/anaconda3/lib/python3.6/site-packages/sklearn/preprocessing/label.py:151: DeprecationWarning: The truth value of an empty array is ambiguous. Returning False, but in future this will result in an error. Use `array.size > 0` to check that an array is not empty.\n",
      "  if diff:\n",
      "/home/ejrueda/anaconda3/lib/python3.6/site-packages/sklearn/preprocessing/label.py:151: DeprecationWarning: The truth value of an empty array is ambiguous. Returning False, but in future this will result in an error. Use `array.size > 0` to check that an array is not empty.\n",
      "  if diff:\n"
     ]
    },
    {
     "name": "stdout",
     "output_type": "stream",
     "text": [
      "0.9994397759103641\n"
     ]
    },
    {
     "name": "stderr",
     "output_type": "stream",
     "text": [
      "/home/ejrueda/anaconda3/lib/python3.6/site-packages/sklearn/preprocessing/label.py:151: DeprecationWarning: The truth value of an empty array is ambiguous. Returning False, but in future this will result in an error. Use `array.size > 0` to check that an array is not empty.\n",
      "  if diff:\n",
      "/home/ejrueda/anaconda3/lib/python3.6/site-packages/sklearn/preprocessing/label.py:151: DeprecationWarning: The truth value of an empty array is ambiguous. Returning False, but in future this will result in an error. Use `array.size > 0` to check that an array is not empty.\n",
      "  if diff:\n"
     ]
    }
   ],
   "source": [
    "import xgboost as xgb\n",
    "from sklearn.ensemble import RandomForestClassifier, VotingClassifier\n",
    "from sklearn.tree import DecisionTreeClassifier\n",
    "\n",
    "clf1 = RandomForestClassifier(n_estimators=750, class_weight=\"balanced_subsample\")\n",
    "clf2 = DecisionTreeClassifier()\n",
    "clf3 = GradientBoostingClassifier(n_estimators=120, learning_rate=0.2)\n",
    "clf4 = xgb.XGBClassifier(n_estimators=350, objective='multi:softprob', n_jobs=1)\n",
    "\n",
    "eclf1 = VotingClassifier(estimators=[\n",
    "        ('rfc', clf1), ('dtc', clf2), ('gbc', clf3), ('xgb', clf4)], voting='hard')\n",
    "eclf1 = eclf1.fit(X_trdrop, y_trdrop)\n",
    "\n",
    "print(eclf1.score(X_trdrop, y_trdrop))\n",
    "\n",
    "predict = eclf1.predict(X_testdrop)\n",
    "result = pd.DataFrame(data=predict, index=np.arange(1, data_test.shape[0]+1), columns=['Genres'])\n",
    "result.index.name = \"Id\"\n",
    "result.to_csv('./results/submission_test_99.csv')"
   ]
  },
  {
   "cell_type": "code",
   "execution_count": 14,
   "metadata": {},
   "outputs": [
    {
     "name": "stdout",
     "output_type": "stream",
     "text": [
      "clase 1:  8.15311004784689\n",
      "clase 2:  25.110047846889955\n",
      "clase 3:  34.27751196172249\n",
      "clase 4:  1.9712918660287082\n",
      "clase 5:  11.330143540669857\n",
      "clase 6:  19.157894736842103\n"
     ]
    }
   ],
   "source": [
    "print(\"clase 1: \",np.mean(predict==1)*100)\n",
    "print(\"clase 2: \",np.mean(predict==2)*100)\n",
    "print(\"clase 3: \",np.mean(predict==3)*100)\n",
    "print(\"clase 4: \",np.mean(predict==4)*100)\n",
    "print(\"clase 5: \",np.mean(predict==5)*100)\n",
    "print(\"clase 6: \",np.mean(predict==6)*100)"
   ]
  },
  {
   "cell_type": "code",
   "execution_count": 15,
   "metadata": {},
   "outputs": [],
   "source": [
    "import pickle\n",
    "\n",
    "filename = 'model_test99.sav'\n",
    "pickle.dump(eclf1, open(filename, 'wb'))"
   ]
  },
  {
   "cell_type": "code",
   "execution_count": null,
   "metadata": {},
   "outputs": [],
   "source": []
  },
  {
   "cell_type": "code",
   "execution_count": null,
   "metadata": {},
   "outputs": [],
   "source": []
  },
  {
   "cell_type": "code",
   "execution_count": null,
   "metadata": {},
   "outputs": [],
   "source": []
  },
  {
   "cell_type": "code",
   "execution_count": null,
   "metadata": {},
   "outputs": [],
   "source": []
  },
  {
   "cell_type": "code",
   "execution_count": null,
   "metadata": {},
   "outputs": [],
   "source": []
  },
  {
   "cell_type": "code",
   "execution_count": null,
   "metadata": {},
   "outputs": [],
   "source": []
  },
  {
   "cell_type": "code",
   "execution_count": null,
   "metadata": {},
   "outputs": [],
   "source": []
  },
  {
   "cell_type": "code",
   "execution_count": null,
   "metadata": {},
   "outputs": [],
   "source": []
  },
  {
   "cell_type": "code",
   "execution_count": null,
   "metadata": {},
   "outputs": [],
   "source": []
  },
  {
   "cell_type": "code",
   "execution_count": null,
   "metadata": {},
   "outputs": [],
   "source": []
  },
  {
   "cell_type": "code",
   "execution_count": null,
   "metadata": {},
   "outputs": [],
   "source": []
  },
  {
   "cell_type": "code",
   "execution_count": null,
   "metadata": {},
   "outputs": [],
   "source": []
  },
  {
   "cell_type": "code",
   "execution_count": null,
   "metadata": {},
   "outputs": [],
   "source": []
  },
  {
   "cell_type": "code",
   "execution_count": null,
   "metadata": {},
   "outputs": [],
   "source": []
  },
  {
   "cell_type": "code",
   "execution_count": null,
   "metadata": {},
   "outputs": [],
   "source": []
  },
  {
   "cell_type": "code",
   "execution_count": null,
   "metadata": {},
   "outputs": [],
   "source": []
  },
  {
   "cell_type": "code",
   "execution_count": null,
   "metadata": {},
   "outputs": [],
   "source": []
  },
  {
   "cell_type": "code",
   "execution_count": null,
   "metadata": {},
   "outputs": [],
   "source": []
  },
  {
   "cell_type": "code",
   "execution_count": 11,
   "metadata": {
    "scrolled": true
   },
   "outputs": [
    {
     "name": "stderr",
     "output_type": "stream",
     "text": [
      "/home/ejrueda/anaconda3/lib/python3.6/site-packages/sklearn/preprocessing/label.py:151: DeprecationWarning: The truth value of an empty array is ambiguous. Returning False, but in future this will result in an error. Use `array.size > 0` to check that an array is not empty.\n",
      "  if diff:\n",
      "/home/ejrueda/anaconda3/lib/python3.6/site-packages/sklearn/preprocessing/label.py:151: DeprecationWarning: The truth value of an empty array is ambiguous. Returning False, but in future this will result in an error. Use `array.size > 0` to check that an array is not empty.\n",
      "  if diff:\n",
      "/home/ejrueda/anaconda3/lib/python3.6/site-packages/sklearn/preprocessing/label.py:151: DeprecationWarning: The truth value of an empty array is ambiguous. Returning False, but in future this will result in an error. Use `array.size > 0` to check that an array is not empty.\n",
      "  if diff:\n"
     ]
    },
    {
     "name": "stdout",
     "output_type": "stream",
     "text": [
      "procesado:  0.4\n"
     ]
    },
    {
     "name": "stderr",
     "output_type": "stream",
     "text": [
      "/home/ejrueda/anaconda3/lib/python3.6/site-packages/sklearn/preprocessing/label.py:151: DeprecationWarning: The truth value of an empty array is ambiguous. Returning False, but in future this will result in an error. Use `array.size > 0` to check that an array is not empty.\n",
      "  if diff:\n",
      "/home/ejrueda/anaconda3/lib/python3.6/site-packages/sklearn/preprocessing/label.py:151: DeprecationWarning: The truth value of an empty array is ambiguous. Returning False, but in future this will result in an error. Use `array.size > 0` to check that an array is not empty.\n",
      "  if diff:\n",
      "/home/ejrueda/anaconda3/lib/python3.6/site-packages/sklearn/preprocessing/label.py:151: DeprecationWarning: The truth value of an empty array is ambiguous. Returning False, but in future this will result in an error. Use `array.size > 0` to check that an array is not empty.\n",
      "  if diff:\n"
     ]
    },
    {
     "name": "stdout",
     "output_type": "stream",
     "text": [
      "procesado:  0.45\n"
     ]
    },
    {
     "name": "stderr",
     "output_type": "stream",
     "text": [
      "/home/ejrueda/anaconda3/lib/python3.6/site-packages/sklearn/preprocessing/label.py:151: DeprecationWarning: The truth value of an empty array is ambiguous. Returning False, but in future this will result in an error. Use `array.size > 0` to check that an array is not empty.\n",
      "  if diff:\n",
      "/home/ejrueda/anaconda3/lib/python3.6/site-packages/sklearn/preprocessing/label.py:151: DeprecationWarning: The truth value of an empty array is ambiguous. Returning False, but in future this will result in an error. Use `array.size > 0` to check that an array is not empty.\n",
      "  if diff:\n",
      "/home/ejrueda/anaconda3/lib/python3.6/site-packages/sklearn/preprocessing/label.py:151: DeprecationWarning: The truth value of an empty array is ambiguous. Returning False, but in future this will result in an error. Use `array.size > 0` to check that an array is not empty.\n",
      "  if diff:\n"
     ]
    },
    {
     "name": "stdout",
     "output_type": "stream",
     "text": [
      "procesado:  0.5\n"
     ]
    },
    {
     "name": "stderr",
     "output_type": "stream",
     "text": [
      "/home/ejrueda/anaconda3/lib/python3.6/site-packages/sklearn/preprocessing/label.py:151: DeprecationWarning: The truth value of an empty array is ambiguous. Returning False, but in future this will result in an error. Use `array.size > 0` to check that an array is not empty.\n",
      "  if diff:\n",
      "/home/ejrueda/anaconda3/lib/python3.6/site-packages/sklearn/preprocessing/label.py:151: DeprecationWarning: The truth value of an empty array is ambiguous. Returning False, but in future this will result in an error. Use `array.size > 0` to check that an array is not empty.\n",
      "  if diff:\n",
      "/home/ejrueda/anaconda3/lib/python3.6/site-packages/sklearn/preprocessing/label.py:151: DeprecationWarning: The truth value of an empty array is ambiguous. Returning False, but in future this will result in an error. Use `array.size > 0` to check that an array is not empty.\n",
      "  if diff:\n"
     ]
    },
    {
     "name": "stdout",
     "output_type": "stream",
     "text": [
      "procesado:  0.55\n"
     ]
    },
    {
     "name": "stderr",
     "output_type": "stream",
     "text": [
      "/home/ejrueda/anaconda3/lib/python3.6/site-packages/sklearn/preprocessing/label.py:151: DeprecationWarning: The truth value of an empty array is ambiguous. Returning False, but in future this will result in an error. Use `array.size > 0` to check that an array is not empty.\n",
      "  if diff:\n",
      "/home/ejrueda/anaconda3/lib/python3.6/site-packages/sklearn/preprocessing/label.py:151: DeprecationWarning: The truth value of an empty array is ambiguous. Returning False, but in future this will result in an error. Use `array.size > 0` to check that an array is not empty.\n",
      "  if diff:\n",
      "/home/ejrueda/anaconda3/lib/python3.6/site-packages/sklearn/preprocessing/label.py:151: DeprecationWarning: The truth value of an empty array is ambiguous. Returning False, but in future this will result in an error. Use `array.size > 0` to check that an array is not empty.\n",
      "  if diff:\n"
     ]
    },
    {
     "name": "stdout",
     "output_type": "stream",
     "text": [
      "procesado:  0.6\n"
     ]
    },
    {
     "name": "stderr",
     "output_type": "stream",
     "text": [
      "/home/ejrueda/anaconda3/lib/python3.6/site-packages/sklearn/preprocessing/label.py:151: DeprecationWarning: The truth value of an empty array is ambiguous. Returning False, but in future this will result in an error. Use `array.size > 0` to check that an array is not empty.\n",
      "  if diff:\n",
      "/home/ejrueda/anaconda3/lib/python3.6/site-packages/sklearn/preprocessing/label.py:151: DeprecationWarning: The truth value of an empty array is ambiguous. Returning False, but in future this will result in an error. Use `array.size > 0` to check that an array is not empty.\n",
      "  if diff:\n",
      "/home/ejrueda/anaconda3/lib/python3.6/site-packages/sklearn/preprocessing/label.py:151: DeprecationWarning: The truth value of an empty array is ambiguous. Returning False, but in future this will result in an error. Use `array.size > 0` to check that an array is not empty.\n",
      "  if diff:\n"
     ]
    },
    {
     "name": "stdout",
     "output_type": "stream",
     "text": [
      "procesado:  0.65\n"
     ]
    },
    {
     "name": "stderr",
     "output_type": "stream",
     "text": [
      "/home/ejrueda/anaconda3/lib/python3.6/site-packages/sklearn/preprocessing/label.py:151: DeprecationWarning: The truth value of an empty array is ambiguous. Returning False, but in future this will result in an error. Use `array.size > 0` to check that an array is not empty.\n",
      "  if diff:\n",
      "/home/ejrueda/anaconda3/lib/python3.6/site-packages/sklearn/preprocessing/label.py:151: DeprecationWarning: The truth value of an empty array is ambiguous. Returning False, but in future this will result in an error. Use `array.size > 0` to check that an array is not empty.\n",
      "  if diff:\n",
      "/home/ejrueda/anaconda3/lib/python3.6/site-packages/sklearn/preprocessing/label.py:151: DeprecationWarning: The truth value of an empty array is ambiguous. Returning False, but in future this will result in an error. Use `array.size > 0` to check that an array is not empty.\n",
      "  if diff:\n"
     ]
    },
    {
     "name": "stdout",
     "output_type": "stream",
     "text": [
      "procesado:  0.7\n"
     ]
    },
    {
     "name": "stderr",
     "output_type": "stream",
     "text": [
      "/home/ejrueda/anaconda3/lib/python3.6/site-packages/sklearn/preprocessing/label.py:151: DeprecationWarning: The truth value of an empty array is ambiguous. Returning False, but in future this will result in an error. Use `array.size > 0` to check that an array is not empty.\n",
      "  if diff:\n",
      "/home/ejrueda/anaconda3/lib/python3.6/site-packages/sklearn/preprocessing/label.py:151: DeprecationWarning: The truth value of an empty array is ambiguous. Returning False, but in future this will result in an error. Use `array.size > 0` to check that an array is not empty.\n",
      "  if diff:\n",
      "/home/ejrueda/anaconda3/lib/python3.6/site-packages/sklearn/preprocessing/label.py:151: DeprecationWarning: The truth value of an empty array is ambiguous. Returning False, but in future this will result in an error. Use `array.size > 0` to check that an array is not empty.\n",
      "  if diff:\n"
     ]
    },
    {
     "name": "stdout",
     "output_type": "stream",
     "text": [
      "procesado:  0.75\n"
     ]
    },
    {
     "name": "stderr",
     "output_type": "stream",
     "text": [
      "/home/ejrueda/anaconda3/lib/python3.6/site-packages/sklearn/preprocessing/label.py:151: DeprecationWarning: The truth value of an empty array is ambiguous. Returning False, but in future this will result in an error. Use `array.size > 0` to check that an array is not empty.\n",
      "  if diff:\n",
      "/home/ejrueda/anaconda3/lib/python3.6/site-packages/sklearn/preprocessing/label.py:151: DeprecationWarning: The truth value of an empty array is ambiguous. Returning False, but in future this will result in an error. Use `array.size > 0` to check that an array is not empty.\n",
      "  if diff:\n",
      "/home/ejrueda/anaconda3/lib/python3.6/site-packages/sklearn/preprocessing/label.py:151: DeprecationWarning: The truth value of an empty array is ambiguous. Returning False, but in future this will result in an error. Use `array.size > 0` to check that an array is not empty.\n",
      "  if diff:\n"
     ]
    },
    {
     "name": "stdout",
     "output_type": "stream",
     "text": [
      "procesado:  0.77\n"
     ]
    },
    {
     "name": "stderr",
     "output_type": "stream",
     "text": [
      "/home/ejrueda/anaconda3/lib/python3.6/site-packages/sklearn/preprocessing/label.py:151: DeprecationWarning: The truth value of an empty array is ambiguous. Returning False, but in future this will result in an error. Use `array.size > 0` to check that an array is not empty.\n",
      "  if diff:\n",
      "/home/ejrueda/anaconda3/lib/python3.6/site-packages/sklearn/preprocessing/label.py:151: DeprecationWarning: The truth value of an empty array is ambiguous. Returning False, but in future this will result in an error. Use `array.size > 0` to check that an array is not empty.\n",
      "  if diff:\n",
      "/home/ejrueda/anaconda3/lib/python3.6/site-packages/sklearn/preprocessing/label.py:151: DeprecationWarning: The truth value of an empty array is ambiguous. Returning False, but in future this will result in an error. Use `array.size > 0` to check that an array is not empty.\n",
      "  if diff:\n"
     ]
    },
    {
     "name": "stdout",
     "output_type": "stream",
     "text": [
      "procesado:  0.8\n"
     ]
    },
    {
     "name": "stderr",
     "output_type": "stream",
     "text": [
      "/home/ejrueda/anaconda3/lib/python3.6/site-packages/sklearn/preprocessing/label.py:151: DeprecationWarning: The truth value of an empty array is ambiguous. Returning False, but in future this will result in an error. Use `array.size > 0` to check that an array is not empty.\n",
      "  if diff:\n",
      "/home/ejrueda/anaconda3/lib/python3.6/site-packages/sklearn/preprocessing/label.py:151: DeprecationWarning: The truth value of an empty array is ambiguous. Returning False, but in future this will result in an error. Use `array.size > 0` to check that an array is not empty.\n",
      "  if diff:\n",
      "/home/ejrueda/anaconda3/lib/python3.6/site-packages/sklearn/preprocessing/label.py:151: DeprecationWarning: The truth value of an empty array is ambiguous. Returning False, but in future this will result in an error. Use `array.size > 0` to check that an array is not empty.\n",
      "  if diff:\n"
     ]
    },
    {
     "name": "stdout",
     "output_type": "stream",
     "text": [
      "procesado:  0.85\n"
     ]
    },
    {
     "name": "stderr",
     "output_type": "stream",
     "text": [
      "/home/ejrueda/anaconda3/lib/python3.6/site-packages/sklearn/preprocessing/label.py:151: DeprecationWarning: The truth value of an empty array is ambiguous. Returning False, but in future this will result in an error. Use `array.size > 0` to check that an array is not empty.\n",
      "  if diff:\n",
      "/home/ejrueda/anaconda3/lib/python3.6/site-packages/sklearn/preprocessing/label.py:151: DeprecationWarning: The truth value of an empty array is ambiguous. Returning False, but in future this will result in an error. Use `array.size > 0` to check that an array is not empty.\n",
      "  if diff:\n",
      "/home/ejrueda/anaconda3/lib/python3.6/site-packages/sklearn/preprocessing/label.py:151: DeprecationWarning: The truth value of an empty array is ambiguous. Returning False, but in future this will result in an error. Use `array.size > 0` to check that an array is not empty.\n",
      "  if diff:\n"
     ]
    },
    {
     "name": "stdout",
     "output_type": "stream",
     "text": [
      "procesado:  0.87\n"
     ]
    },
    {
     "name": "stderr",
     "output_type": "stream",
     "text": [
      "/home/ejrueda/anaconda3/lib/python3.6/site-packages/sklearn/preprocessing/label.py:151: DeprecationWarning: The truth value of an empty array is ambiguous. Returning False, but in future this will result in an error. Use `array.size > 0` to check that an array is not empty.\n",
      "  if diff:\n",
      "/home/ejrueda/anaconda3/lib/python3.6/site-packages/sklearn/preprocessing/label.py:151: DeprecationWarning: The truth value of an empty array is ambiguous. Returning False, but in future this will result in an error. Use `array.size > 0` to check that an array is not empty.\n",
      "  if diff:\n",
      "/home/ejrueda/anaconda3/lib/python3.6/site-packages/sklearn/preprocessing/label.py:151: DeprecationWarning: The truth value of an empty array is ambiguous. Returning False, but in future this will result in an error. Use `array.size > 0` to check that an array is not empty.\n",
      "  if diff:\n"
     ]
    },
    {
     "name": "stdout",
     "output_type": "stream",
     "text": [
      "procesado:  0.9\n"
     ]
    },
    {
     "name": "stderr",
     "output_type": "stream",
     "text": [
      "/home/ejrueda/anaconda3/lib/python3.6/site-packages/sklearn/preprocessing/label.py:151: DeprecationWarning: The truth value of an empty array is ambiguous. Returning False, but in future this will result in an error. Use `array.size > 0` to check that an array is not empty.\n",
      "  if diff:\n",
      "/home/ejrueda/anaconda3/lib/python3.6/site-packages/sklearn/preprocessing/label.py:151: DeprecationWarning: The truth value of an empty array is ambiguous. Returning False, but in future this will result in an error. Use `array.size > 0` to check that an array is not empty.\n",
      "  if diff:\n"
     ]
    },
    {
     "name": "stdout",
     "output_type": "stream",
     "text": [
      "procesado:  0.95\n"
     ]
    },
    {
     "name": "stderr",
     "output_type": "stream",
     "text": [
      "/home/ejrueda/anaconda3/lib/python3.6/site-packages/sklearn/preprocessing/label.py:151: DeprecationWarning: The truth value of an empty array is ambiguous. Returning False, but in future this will result in an error. Use `array.size > 0` to check that an array is not empty.\n",
      "  if diff:\n"
     ]
    }
   ],
   "source": [
    "corr = [0.4,0.45,0.5,0.55,0.60,0.65,0.7,0.75,0.77,0.8,0.85,0.87,0.9,0.95]\n",
    "score = []\n",
    "for cor in corr:\n",
    "    dict_l = {}\n",
    "    for i in m_cor.index:\n",
    "        dict_l.update({i:m_cor[m_cor[i]>0.75].index})\n",
    "        \n",
    "    cols_drop = []\n",
    "    for idx in dict_l:\n",
    "        if not (idx in cols_drop): #si ya está para eliminar no se revisa\n",
    "            for j in range(len(dict_l[idx])):\n",
    "                if idx != dict_l[idx][j]: #el se quiere mantener\n",
    "                    if not (dict_l[idx][j] in cols_drop): #si no se a eliminado se puede eliminar\n",
    "                        cols_drop.append(dict_l[idx][j])\n",
    "                        #print(idx, dict_l[idx][j])\n",
    "\n",
    "    df_train_drop = data_train\n",
    "    df_test_drop = data_test\n",
    "    for idx in np.unique(cols_drop):\n",
    "        df_train_drop = df_train_drop.drop(idx,axis=1)\n",
    "        df_test_drop = df_test_drop.drop(idx,axis=1)\n",
    "        \n",
    "    clf1 = RandomForestClassifier(n_estimators=50, class_weight=\"balanced_subsample\")\n",
    "    clf2 = DecisionTreeClassifier()\n",
    "    clf3 = GradientBoostingClassifier(n_estimators=120, learning_rate=0.2)\n",
    "    eclf1 = VotingClassifier(estimators=[('rfc', clf1), ('dtc', clf2), ('gbc', clf3)], voting='hard')\n",
    "    score.append(np.mean(cross_val_score(eclf1,df_train_drop.drop(\"GENRE\", axis=1), df_train_drop[\"GENRE\"])))\n",
    "    print(\"procesado: \", cor)"
   ]
  },
  {
   "cell_type": "code",
   "execution_count": 17,
   "metadata": {},
   "outputs": [
    {
     "data": {
      "image/png": "[encoded data removed]",
      "text/plain": [
       "<Figure size 432x288 with 1 Axes>"
      ]
     },
     "metadata": {},
     "output_type": "display_data"
    }
   ],
   "source": [
    "plt.plot(corr, score)\n",
    "plt.grid()\n",
    "plt.xticks(corr,corr, rotation=60);"
   ]
  },
  {
   "cell_type": "code",
   "execution_count": 18,
   "metadata": {},
   "outputs": [
    {
     "data": {
      "text/plain": [
       "[0.9322128851540618,\n",
       " 0.9310924369747898,\n",
       " 0.931732693077231,\n",
       " 0.9308523409363745,\n",
       " 0.9325330132052821,\n",
       " 0.9302120848339337,\n",
       " 0.9319727891156463,\n",
       " 0.9307723089235694,\n",
       " 0.9327731092436974,\n",
       " 0.9311724689875951,\n",
       " 0.9319727891156463,\n",
       " 0.9306122448979591,\n",
       " 0.9319727891156463,\n",
       " 0.931732693077231]"
      ]
     },
     "execution_count": 18,
     "metadata": {},
     "output_type": "execute_result"
    }
   ],
   "source": [
    "score"
   ]
  },
  {
   "cell_type": "code",
   "execution_count": 26,
   "metadata": {},
   "outputs": [
    {
     "name": "stdout",
     "output_type": "stream",
     "text": [
      "1.0\n"
     ]
    },
    {
     "name": "stderr",
     "output_type": "stream",
     "text": [
      "/home/ejrueda/anaconda3/lib/python3.6/site-packages/sklearn/preprocessing/label.py:151: DeprecationWarning: The truth value of an empty array is ambiguous. Returning False, but in future this will result in an error. Use `array.size > 0` to check that an array is not empty.\n",
      "  if diff:\n",
      "/home/ejrueda/anaconda3/lib/python3.6/site-packages/sklearn/preprocessing/label.py:151: DeprecationWarning: The truth value of an empty array is ambiguous. Returning False, but in future this will result in an error. Use `array.size > 0` to check that an array is not empty.\n",
      "  if diff:\n"
     ]
    }
   ],
   "source": [
    "from sklearn.ensemble import RandomForestClassifier, VotingClassifier\n",
    "from sklearn.tree import DecisionTreeClassifier\n",
    "\n",
    "clf1 = RandomForestClassifier(n_estimators=50, class_weight=\"balanced_subsample\")\n",
    "clf2 = DecisionTreeClassifier()\n",
    "clf3 = GradientBoostingClassifier(n_estimators=120, learning_rate=0.2)\n",
    "\n",
    "\n",
    "eclf1 = VotingClassifier(estimators=[('rfc', clf1), ('dtc', clf2), ('gbc', clf3)], voting='hard')\n",
    "eclf1 = eclf1.fit(df_train_drop.drop(\"GENRE\", axis=1), df_train_drop[\"GENRE\"])\n",
    "\n",
    "print(eclf1.score(df_train_drop.drop(\"GENRE\", axis=1), df_train_drop[\"GENRE\"]))\n",
    "\n",
    "predict = eclf1.predict(df_test_drop)\n",
    "result = pd.DataFrame(data=predict, index=np.arange(1, data_test.shape[0]+1), columns=['Genres'])\n",
    "result.index.name = \"Id\"\n",
    "result.to_csv('./results/submission_test_80.csv')"
   ]
  },
  {
   "cell_type": "code",
   "execution_count": 29,
   "metadata": {},
   "outputs": [
    {
     "name": "stdout",
     "output_type": "stream",
     "text": [
      "clase 1:  8.038277511961722\n",
      "clase 2:  23.751196172248804\n",
      "clase 3:  35.578947368421055\n",
      "clase 4:  1.799043062200957\n",
      "clase 5:  11.483253588516746\n",
      "clase 6:  19.34928229665072\n"
     ]
    }
   ],
   "source": [
    "print(\"clase 1: \",np.mean(predict==1)*100)\n",
    "print(\"clase 2: \",np.mean(predict==2)*100)\n",
    "print(\"clase 3: \",np.mean(predict==3)*100)\n",
    "print(\"clase 4: \",np.mean(predict==4)*100)\n",
    "print(\"clase 5: \",np.mean(predict==5)*100)\n",
    "print(\"clase 6: \",np.mean(predict==6)*100)"
   ]
  },
  {
   "cell_type": "code",
   "execution_count": 36,
   "metadata": {},
   "outputs": [],
   "source": [
    "def generation_data(X, N, k):\n",
    "    \"\"\"\n",
    "    Retorna nuevos datos generados a partir de los pasados en X.\n",
    "\n",
    "    Parameters\n",
    "    ----------\n",
    "    X : dataframe con los datos minoritarios.\n",
    "    N : (0-1] porcentaje de nuevos datos a generar.\n",
    "    k : int. número de vecinos a utilizar.\n",
    "\n",
    "    Returns\n",
    "    -------\n",
    "    S : array, shape = [N * n_minority_samples, n_features]\n",
    "    \"\"\"    \n",
    "    from sklearn.neighbors import NearestNeighbors\n",
    "    n_minority_samples, n_features = X.shape\n",
    "\n",
    "    if (N<=0 or N>1): raise ValueError(\"N debe estar entre (0,1]\")\n",
    "\n",
    "    n_synthetic_samples = int(N * n_minority_samples)\n",
    "    S = np.zeros(shape=(n_synthetic_samples, n_features))\n",
    "    aux = np.zeros(shape=X.shape)\n",
    "    #Learn nearest neighbours\n",
    "    neigh = NearestNeighbors(n_neighbors = k)\n",
    "    neigh.fit(X)\n",
    "\n",
    "    #Calculate synthetic samples\n",
    "    for i in range(n_minority_samples):\n",
    "        nn = neigh.kneighbors(np.array(X.iloc[i]).reshape(1,-1), return_distance=False)\n",
    "        for n in np.arange(N):\n",
    "            nn_index = np.random.choice(nn[0])\n",
    "            #NOTE: nn includes T[i], we don't want to select it \n",
    "            while nn_index == i:\n",
    "                nn_index = np.random.choice(nn[0])\n",
    "\n",
    "            dif = X.iloc[nn_index] - X.iloc[i]\n",
    "            gap = np.random.random()\n",
    "            aux[i] = X.iloc[i,:] + gap * dif[:]\n",
    "    S = aux[np.random.choice(np.arange(aux.shape[0]),S.shape[0],replace=False),:]\n",
    "    return S"
   ]
  },
  {
   "cell_type": "code",
   "execution_count": 34,
   "metadata": {},
   "outputs": [],
   "source": [
    "X_train = df_train_drop.drop(\"GENRE\", axis=1)\n",
    "y_train = df_train_drop[\"GENRE\"]"
   ]
  },
  {
   "cell_type": "code",
   "execution_count": 45,
   "metadata": {},
   "outputs": [],
   "source": [
    "#5,1,4\n",
    "clase = 6\n",
    "X_aux = generation_data(X_train.loc[data_train[\"GENRE\"]==clase], 0.2, 30)\n",
    "X_aux = pd.DataFrame(X_aux, columns=X_train.columns)\n",
    "X_new = pd.concat([X_new, X_aux])\n",
    "y_new = np.concatenate((y_new,np.ones(X_aux.shape[0])*clase))\n",
    "y_new = y_new.astype(int)"
   ]
  },
  {
   "cell_type": "code",
   "execution_count": 46,
   "metadata": {},
   "outputs": [
    {
     "name": "stdout",
     "output_type": "stream",
     "text": [
      "13.092226704040474\n",
      "23.545498051548506\n",
      "20.530525740069734\n",
      "13.892117317289943\n",
      "12.921309906337594\n",
      "16.018322280713747\n"
     ]
    }
   ],
   "source": [
    "print(np.mean(y_new==1)*100)\n",
    "print(np.mean(y_new==2)*100)\n",
    "print(np.mean(y_new==3)*100)\n",
    "print(np.mean(y_new==4)*100)\n",
    "print(np.mean(y_new==5)*100)\n",
    "print(np.mean(y_new==6)*100)"
   ]
  },
  {
   "cell_type": "code",
   "execution_count": 49,
   "metadata": {},
   "outputs": [
    {
     "data": {
      "text/plain": [
       "((12495, 123), (12495,), (5225, 123))"
      ]
     },
     "execution_count": 49,
     "metadata": {},
     "output_type": "execute_result"
    }
   ],
   "source": [
    "X_train.shape, y_train.shape, df_test_drop.shape"
   ]
  },
  {
   "cell_type": "code",
   "execution_count": 50,
   "metadata": {},
   "outputs": [
    {
     "name": "stdout",
     "output_type": "stream",
     "text": [
      "1.0\n"
     ]
    },
    {
     "name": "stderr",
     "output_type": "stream",
     "text": [
      "/home/ejrueda/anaconda3/lib/python3.6/site-packages/sklearn/preprocessing/label.py:151: DeprecationWarning: The truth value of an empty array is ambiguous. Returning False, but in future this will result in an error. Use `array.size > 0` to check that an array is not empty.\n",
      "  if diff:\n",
      "/home/ejrueda/anaconda3/lib/python3.6/site-packages/sklearn/preprocessing/label.py:151: DeprecationWarning: The truth value of an empty array is ambiguous. Returning False, but in future this will result in an error. Use `array.size > 0` to check that an array is not empty.\n",
      "  if diff:\n"
     ]
    }
   ],
   "source": [
    "from sklearn.ensemble import RandomForestClassifier, VotingClassifier\n",
    "from sklearn.tree import DecisionTreeClassifier\n",
    "\n",
    "clf1 = RandomForestClassifier(n_estimators=50, class_weight=\"balanced_subsample\")\n",
    "clf2 = DecisionTreeClassifier()\n",
    "clf3 = GradientBoostingClassifier(n_estimators=120, learning_rate=0.2)\n",
    "\n",
    "\n",
    "eclf1 = VotingClassifier(estimators=[('rfc', clf1), ('dtc', clf2), ('gbc', clf3)], voting='hard')\n",
    "eclf1 = eclf1.fit(X_train, y_train)\n",
    "\n",
    "print(eclf1.score(X_train, y_train))\n",
    "\n",
    "predict = eclf1.predict(df_test_drop)\n",
    "result = pd.DataFrame(data=predict, index=np.arange(1, data_test.shape[0]+1), columns=['Genres'])\n",
    "result.index.name = \"Id\"\n",
    "result.to_csv('./results/submission_test_81.csv')"
   ]
  },
  {
   "cell_type": "code",
   "execution_count": 52,
   "metadata": {},
   "outputs": [
    {
     "name": "stdout",
     "output_type": "stream",
     "text": [
      "clase 1:  7.904306220095695\n",
      "clase 2:  24.019138755980862\n",
      "clase 3:  35.406698564593306\n",
      "clase 4:  1.8564593301435406\n",
      "clase 5:  11.272727272727273\n",
      "clase 6:  19.54066985645933\n"
     ]
    }
   ],
   "source": [
    "print(\"clase 1: \",np.mean(predict==1)*100)\n",
    "print(\"clase 2: \",np.mean(predict==2)*100)\n",
    "print(\"clase 3: \",np.mean(predict==3)*100)\n",
    "print(\"clase 4: \",np.mean(predict==4)*100)\n",
    "print(\"clase 5: \",np.mean(predict==5)*100)\n",
    "print(\"clase 6: \",np.mean(predict==6)*100)"
   ]
  },
  {
   "cell_type": "code",
   "execution_count": 53,
   "metadata": {
    "scrolled": true
   },
   "outputs": [
    {
     "name": "stderr",
     "output_type": "stream",
     "text": [
      "/home/ejrueda/anaconda3/lib/python3.6/site-packages/sklearn/preprocessing/label.py:151: DeprecationWarning: The truth value of an empty array is ambiguous. Returning False, but in future this will result in an error. Use `array.size > 0` to check that an array is not empty.\n",
      "  if diff:\n",
      "/home/ejrueda/anaconda3/lib/python3.6/site-packages/sklearn/preprocessing/label.py:151: DeprecationWarning: The truth value of an empty array is ambiguous. Returning False, but in future this will result in an error. Use `array.size > 0` to check that an array is not empty.\n",
      "  if diff:\n",
      "/home/ejrueda/anaconda3/lib/python3.6/site-packages/sklearn/preprocessing/label.py:151: DeprecationWarning: The truth value of an empty array is ambiguous. Returning False, but in future this will result in an error. Use `array.size > 0` to check that an array is not empty.\n",
      "  if diff:\n",
      "/home/ejrueda/anaconda3/lib/python3.6/site-packages/sklearn/preprocessing/label.py:151: DeprecationWarning: The truth value of an empty array is ambiguous. Returning False, but in future this will result in an error. Use `array.size > 0` to check that an array is not empty.\n",
      "  if diff:\n",
      "/home/ejrueda/anaconda3/lib/python3.6/site-packages/sklearn/preprocessing/label.py:151: DeprecationWarning: The truth value of an empty array is ambiguous. Returning False, but in future this will result in an error. Use `array.size > 0` to check that an array is not empty.\n",
      "  if diff:\n",
      "/home/ejrueda/anaconda3/lib/python3.6/site-packages/sklearn/preprocessing/label.py:151: DeprecationWarning: The truth value of an empty array is ambiguous. Returning False, but in future this will result in an error. Use `array.size > 0` to check that an array is not empty.\n",
      "  if diff:\n",
      "/home/ejrueda/anaconda3/lib/python3.6/site-packages/sklearn/preprocessing/label.py:151: DeprecationWarning: The truth value of an empty array is ambiguous. Returning False, but in future this will result in an error. Use `array.size > 0` to check that an array is not empty.\n",
      "  if diff:\n",
      "/home/ejrueda/anaconda3/lib/python3.6/site-packages/sklearn/preprocessing/label.py:151: DeprecationWarning: The truth value of an empty array is ambiguous. Returning False, but in future this will result in an error. Use `array.size > 0` to check that an array is not empty.\n",
      "  if diff:\n",
      "/home/ejrueda/anaconda3/lib/python3.6/site-packages/sklearn/preprocessing/label.py:151: DeprecationWarning: The truth value of an empty array is ambiguous. Returning False, but in future this will result in an error. Use `array.size > 0` to check that an array is not empty.\n",
      "  if diff:\n",
      "/home/ejrueda/anaconda3/lib/python3.6/site-packages/sklearn/preprocessing/label.py:151: DeprecationWarning: The truth value of an empty array is ambiguous. Returning False, but in future this will result in an error. Use `array.size > 0` to check that an array is not empty.\n",
      "  if diff:\n"
     ]
    },
    {
     "data": {
      "text/plain": [
       "array([0.93535515, 0.93535515, 0.93136472, 0.92406075, 0.94635709,\n",
       "       0.94230769, 0.9446672 , 0.9510826 , 0.95028067, 0.95348837])"
      ]
     },
     "execution_count": 53,
     "metadata": {},
     "output_type": "execute_result"
    }
   ],
   "source": [
    "cross_val_score(eclf1, X_train, y_train, cv=10)"
   ]
  },
  {
   "cell_type": "code",
   "execution_count": 55,
   "metadata": {},
   "outputs": [],
   "source": [
    "clf = GradientBoostingClassifier(n_estimators=120, learning_rate=0.2, subsample=0.8, min_samples_leaf=10,\n",
    "                                max_depth=8)\n",
    "\n",
    "clf.fit(X_train, y_train)\n",
    "clf.score(X_train,y_train)\n",
    "predict = clf.predict(df_test_drop)"
   ]
  },
  {
   "cell_type": "code",
   "execution_count": 58,
   "metadata": {},
   "outputs": [
    {
     "name": "stdout",
     "output_type": "stream",
     "text": [
      "clase 1:  7.177033492822966\n",
      "clase 2:  22.88995215311005\n",
      "clase 3:  36.44019138755981\n",
      "clase 4:  1.875598086124402\n",
      "clase 5:  11.52153110047847\n",
      "clase 6:  20.095693779904305\n"
     ]
    }
   ],
   "source": [
    "print(\"clase 1: \",np.mean(predict==1)*100)\n",
    "print(\"clase 2: \",np.mean(predict==2)*100)\n",
    "print(\"clase 3: \",np.mean(predict==3)*100)\n",
    "print(\"clase 4: \",np.mean(predict==4)*100)\n",
    "print(\"clase 5: \",np.mean(predict==5)*100)\n",
    "print(\"clase 6: \",np.mean(predict==6)*100)"
   ]
  },
  {
   "cell_type": "code",
   "execution_count": 57,
   "metadata": {},
   "outputs": [],
   "source": [
    "result = pd.DataFrame(data=predict, index=np.arange(1, data_test.shape[0]+1), columns=['Genres'])\n",
    "result.index.name = \"Id\"\n",
    "result.to_csv('./results/submission_test_82.csv')"
   ]
  },
  {
   "cell_type": "code",
   "execution_count": 59,
   "metadata": {},
   "outputs": [
    {
     "name": "stdout",
     "output_type": "stream",
     "text": [
      "1.0\n",
      "clase 1:  6.507177033492822\n",
      "clase 2:  23.157894736842106\n",
      "clase 3:  35.942583732057415\n",
      "clase 4:  2.660287081339713\n",
      "clase 5:  11.540669856459331\n",
      "clase 6:  20.191387559808614\n"
     ]
    }
   ],
   "source": [
    "clf = GradientBoostingClassifier(n_estimators=120, learning_rate=0.2, subsample=0.8, min_samples_leaf=10,\n",
    "                                max_depth=8)\n",
    "\n",
    "clf.fit(X_new, y_new)\n",
    "print(clf.score(X_new,y_new))\n",
    "predict = clf.predict(df_test_drop)\n",
    "print(\"clase 1: \",np.mean(predict==1)*100)\n",
    "print(\"clase 2: \",np.mean(predict==2)*100)\n",
    "print(\"clase 3: \",np.mean(predict==3)*100)\n",
    "print(\"clase 4: \",np.mean(predict==4)*100)\n",
    "print(\"clase 5: \",np.mean(predict==5)*100)\n",
    "print(\"clase 6: \",np.mean(predict==6)*100)"
   ]
  },
  {
   "cell_type": "code",
   "execution_count": 61,
   "metadata": {},
   "outputs": [
    {
     "data": {
      "text/plain": [
       "array([1, 2, 2, ..., 6, 5, 6])"
      ]
     },
     "execution_count": 61,
     "metadata": {},
     "output_type": "execute_result"
    }
   ],
   "source": [
    "predict"
   ]
  },
  {
   "cell_type": "code",
   "execution_count": 62,
   "metadata": {},
   "outputs": [],
   "source": [
    "result = pd.DataFrame(data=predict, index=np.arange(1, data_test.shape[0]+1), columns=['Genres'])\n",
    "result.index.name = \"Id\"\n",
    "result.to_csv('./results/submission_test_83.csv')"
   ]
  },
  {
   "cell_type": "code",
   "execution_count": null,
   "metadata": {},
   "outputs": [],
   "source": []
  }
 ],
 "metadata": {
  "kernelspec": {
   "display_name": "Python 3",
   "language": "python",
   "name": "python3"
  },
  "language_info": {
   "codemirror_mode": {
    "name": "ipython",
    "version": 3
   },
   "file_extension": ".py",
   "mimetype": "text/x-python",
   "name": "python",
   "nbconvert_exporter": "python",
   "pygments_lexer": "ipython3",
   "version": "3.6.5"
  }
 },
 "nbformat": 4,
 "nbformat_minor": 2
}
