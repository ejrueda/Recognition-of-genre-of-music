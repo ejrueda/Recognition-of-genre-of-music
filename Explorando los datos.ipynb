{
 "cells": [
  {
   "cell_type": "code",
   "execution_count": 16,
   "metadata": {},
   "outputs": [],
   "source": [
    "import numpy as np\n",
    "import pandas as pd\n",
    "import matplotlib.pyplot as plt\n",
    "%matplotlib inline"
   ]
  },
  {
   "cell_type": "code",
   "execution_count": 17,
   "metadata": {},
   "outputs": [
    {
     "data": {
      "text/html": [
       "<div>\n",
       "<style scoped>\n",
       "    .dataframe tbody tr th:only-of-type {\n",
       "        vertical-align: middle;\n",
       "    }\n",
       "\n",
       "    .dataframe tbody tr th {\n",
       "        vertical-align: top;\n",
       "    }\n",
       "\n",
       "    .dataframe thead th {\n",
       "        text-align: right;\n",
       "    }\n",
       "</style>\n",
       "<table border=\"1\" class=\"dataframe\">\n",
       "  <thead>\n",
       "    <tr style=\"text-align: right;\">\n",
       "      <th></th>\n",
       "      <th>PAR_TC</th>\n",
       "      <th>PAR_SC</th>\n",
       "      <th>PAR_SC_V</th>\n",
       "      <th>PAR_ASE1</th>\n",
       "      <th>PAR_ASE2</th>\n",
       "      <th>PAR_ASE3</th>\n",
       "      <th>PAR_ASE4</th>\n",
       "      <th>PAR_ASE5</th>\n",
       "      <th>PAR_ASE6</th>\n",
       "      <th>PAR_ASE7</th>\n",
       "      <th>...</th>\n",
       "      <th>PAR_3RMS_TCD</th>\n",
       "      <th>PAR_ZCD_10FR_MEAN</th>\n",
       "      <th>PAR_ZCD_10FR_VAR</th>\n",
       "      <th>PAR_1RMS_TCD_10FR_MEAN</th>\n",
       "      <th>PAR_1RMS_TCD_10FR_VAR</th>\n",
       "      <th>PAR_2RMS_TCD_10FR_MEAN</th>\n",
       "      <th>PAR_2RMS_TCD_10FR_VAR</th>\n",
       "      <th>PAR_3RMS_TCD_10FR_MEAN</th>\n",
       "      <th>PAR_3RMS_TCD_10FR_VAR</th>\n",
       "      <th>GENRE</th>\n",
       "    </tr>\n",
       "  </thead>\n",
       "  <tbody>\n",
       "    <tr>\n",
       "      <th>0</th>\n",
       "      <td>2.5788</td>\n",
       "      <td>481.45</td>\n",
       "      <td>76989.0</td>\n",
       "      <td>-0.12334</td>\n",
       "      <td>-0.11578</td>\n",
       "      <td>-0.11176</td>\n",
       "      <td>-0.10412</td>\n",
       "      <td>-0.106100</td>\n",
       "      <td>-0.11026</td>\n",
       "      <td>-0.11375</td>\n",
       "      <td>...</td>\n",
       "      <td>0.002032</td>\n",
       "      <td>0.041056</td>\n",
       "      <td>0.000091</td>\n",
       "      <td>0.049627</td>\n",
       "      <td>0.000231</td>\n",
       "      <td>0.011265</td>\n",
       "      <td>0.000024</td>\n",
       "      <td>0.002177</td>\n",
       "      <td>0.000003</td>\n",
       "      <td>Pop</td>\n",
       "    </tr>\n",
       "    <tr>\n",
       "      <th>1</th>\n",
       "      <td>2.7195</td>\n",
       "      <td>1405.30</td>\n",
       "      <td>825380.0</td>\n",
       "      <td>-0.17655</td>\n",
       "      <td>-0.18323</td>\n",
       "      <td>-0.17773</td>\n",
       "      <td>-0.17057</td>\n",
       "      <td>-0.166440</td>\n",
       "      <td>-0.16174</td>\n",
       "      <td>-0.15371</td>\n",
       "      <td>...</td>\n",
       "      <td>0.005959</td>\n",
       "      <td>0.082830</td>\n",
       "      <td>0.001122</td>\n",
       "      <td>0.093622</td>\n",
       "      <td>0.003869</td>\n",
       "      <td>0.031467</td>\n",
       "      <td>0.000779</td>\n",
       "      <td>0.006716</td>\n",
       "      <td>0.000041</td>\n",
       "      <td>Blues</td>\n",
       "    </tr>\n",
       "    <tr>\n",
       "      <th>2</th>\n",
       "      <td>2.5351</td>\n",
       "      <td>601.09</td>\n",
       "      <td>686240.0</td>\n",
       "      <td>-0.13940</td>\n",
       "      <td>-0.13251</td>\n",
       "      <td>-0.11486</td>\n",
       "      <td>-0.10173</td>\n",
       "      <td>-0.099342</td>\n",
       "      <td>-0.10936</td>\n",
       "      <td>-0.12668</td>\n",
       "      <td>...</td>\n",
       "      <td>0.002766</td>\n",
       "      <td>0.043652</td>\n",
       "      <td>0.000358</td>\n",
       "      <td>0.045415</td>\n",
       "      <td>0.000211</td>\n",
       "      <td>0.013850</td>\n",
       "      <td>0.000038</td>\n",
       "      <td>0.003069</td>\n",
       "      <td>0.000002</td>\n",
       "      <td>Pop</td>\n",
       "    </tr>\n",
       "    <tr>\n",
       "      <th>3</th>\n",
       "      <td>2.4465</td>\n",
       "      <td>637.73</td>\n",
       "      <td>122580.0</td>\n",
       "      <td>-0.14995</td>\n",
       "      <td>-0.14802</td>\n",
       "      <td>-0.13800</td>\n",
       "      <td>-0.12927</td>\n",
       "      <td>-0.125150</td>\n",
       "      <td>-0.12340</td>\n",
       "      <td>-0.12159</td>\n",
       "      <td>...</td>\n",
       "      <td>0.002503</td>\n",
       "      <td>0.045159</td>\n",
       "      <td>0.000356</td>\n",
       "      <td>0.037388</td>\n",
       "      <td>0.000118</td>\n",
       "      <td>0.011897</td>\n",
       "      <td>0.000045</td>\n",
       "      <td>0.002645</td>\n",
       "      <td>0.000006</td>\n",
       "      <td>Jazz</td>\n",
       "    </tr>\n",
       "    <tr>\n",
       "      <th>4</th>\n",
       "      <td>2.5657</td>\n",
       "      <td>776.86</td>\n",
       "      <td>124010.0</td>\n",
       "      <td>-0.16863</td>\n",
       "      <td>-0.16112</td>\n",
       "      <td>-0.15935</td>\n",
       "      <td>-0.15120</td>\n",
       "      <td>-0.140340</td>\n",
       "      <td>-0.13002</td>\n",
       "      <td>-0.12804</td>\n",
       "      <td>...</td>\n",
       "      <td>0.002703</td>\n",
       "      <td>0.047347</td>\n",
       "      <td>0.000302</td>\n",
       "      <td>0.049469</td>\n",
       "      <td>0.000606</td>\n",
       "      <td>0.014052</td>\n",
       "      <td>0.000152</td>\n",
       "      <td>0.003244</td>\n",
       "      <td>0.000029</td>\n",
       "      <td>Jazz</td>\n",
       "    </tr>\n",
       "  </tbody>\n",
       "</table>\n",
       "<p>5 rows × 192 columns</p>\n",
       "</div>"
      ],
      "text/plain": [
       "   PAR_TC   PAR_SC  PAR_SC_V  PAR_ASE1  PAR_ASE2  PAR_ASE3  PAR_ASE4  \\\n",
       "0  2.5788   481.45   76989.0  -0.12334  -0.11578  -0.11176  -0.10412   \n",
       "1  2.7195  1405.30  825380.0  -0.17655  -0.18323  -0.17773  -0.17057   \n",
       "2  2.5351   601.09  686240.0  -0.13940  -0.13251  -0.11486  -0.10173   \n",
       "3  2.4465   637.73  122580.0  -0.14995  -0.14802  -0.13800  -0.12927   \n",
       "4  2.5657   776.86  124010.0  -0.16863  -0.16112  -0.15935  -0.15120   \n",
       "\n",
       "   PAR_ASE5  PAR_ASE6  PAR_ASE7  ...    PAR_3RMS_TCD  PAR_ZCD_10FR_MEAN  \\\n",
       "0 -0.106100  -0.11026  -0.11375  ...        0.002032           0.041056   \n",
       "1 -0.166440  -0.16174  -0.15371  ...        0.005959           0.082830   \n",
       "2 -0.099342  -0.10936  -0.12668  ...        0.002766           0.043652   \n",
       "3 -0.125150  -0.12340  -0.12159  ...        0.002503           0.045159   \n",
       "4 -0.140340  -0.13002  -0.12804  ...        0.002703           0.047347   \n",
       "\n",
       "   PAR_ZCD_10FR_VAR  PAR_1RMS_TCD_10FR_MEAN  PAR_1RMS_TCD_10FR_VAR  \\\n",
       "0          0.000091                0.049627               0.000231   \n",
       "1          0.001122                0.093622               0.003869   \n",
       "2          0.000358                0.045415               0.000211   \n",
       "3          0.000356                0.037388               0.000118   \n",
       "4          0.000302                0.049469               0.000606   \n",
       "\n",
       "   PAR_2RMS_TCD_10FR_MEAN  PAR_2RMS_TCD_10FR_VAR  PAR_3RMS_TCD_10FR_MEAN  \\\n",
       "0                0.011265               0.000024                0.002177   \n",
       "1                0.031467               0.000779                0.006716   \n",
       "2                0.013850               0.000038                0.003069   \n",
       "3                0.011897               0.000045                0.002645   \n",
       "4                0.014052               0.000152                0.003244   \n",
       "\n",
       "   PAR_3RMS_TCD_10FR_VAR  GENRE  \n",
       "0               0.000003    Pop  \n",
       "1               0.000041  Blues  \n",
       "2               0.000002    Pop  \n",
       "3               0.000006   Jazz  \n",
       "4               0.000029   Jazz  \n",
       "\n",
       "[5 rows x 192 columns]"
      ]
     },
     "execution_count": 17,
     "metadata": {},
     "output_type": "execute_result"
    }
   ],
   "source": [
    "data_train = pd.read_csv(\"./data/genresTrain.csv\")\n",
    "data_train.head()"
   ]
  },
  {
   "cell_type": "markdown",
   "metadata": {},
   "source": [
    " Blues=1, Classical=2, Jazz=3, Metal=4, Pop=5, Rock=6 "
   ]
  },
  {
   "cell_type": "code",
   "execution_count": 18,
   "metadata": {},
   "outputs": [],
   "source": [
    "data_train.loc[data_train.loc[:,\"GENRE\"]==\"Blues\", \"GENRE\"] = 1\n",
    "data_train.loc[data_train.loc[:,\"GENRE\"]==\"Classical\", \"GENRE\"] = 2\n",
    "data_train.loc[data_train.loc[:,\"GENRE\"]==\"Jazz\", \"GENRE\"] = 3\n",
    "data_train.loc[data_train.loc[:,\"GENRE\"]==\"Metal\", \"GENRE\"] = 4\n",
    "data_train.loc[data_train.loc[:,\"GENRE\"]==\"Pop\", \"GENRE\"] = 5\n",
    "data_train.loc[data_train.loc[:,\"GENRE\"]==\"Rock\", \"GENRE\"] = 6"
   ]
  },
  {
   "cell_type": "code",
   "execution_count": 19,
   "metadata": {},
   "outputs": [
    {
     "data": {
      "text/html": [
       "<div>\n",
       "<style scoped>\n",
       "    .dataframe tbody tr th:only-of-type {\n",
       "        vertical-align: middle;\n",
       "    }\n",
       "\n",
       "    .dataframe tbody tr th {\n",
       "        vertical-align: top;\n",
       "    }\n",
       "\n",
       "    .dataframe thead th {\n",
       "        text-align: right;\n",
       "    }\n",
       "</style>\n",
       "<table border=\"1\" class=\"dataframe\">\n",
       "  <thead>\n",
       "    <tr style=\"text-align: right;\">\n",
       "      <th></th>\n",
       "      <th>PAR_TC</th>\n",
       "      <th>PAR_SC</th>\n",
       "      <th>PAR_SC_V</th>\n",
       "      <th>PAR_ASE1</th>\n",
       "      <th>PAR_ASE2</th>\n",
       "      <th>PAR_ASE3</th>\n",
       "      <th>PAR_ASE4</th>\n",
       "      <th>PAR_ASE5</th>\n",
       "      <th>PAR_ASE6</th>\n",
       "      <th>PAR_ASE7</th>\n",
       "      <th>...</th>\n",
       "      <th>PAR_3RMS_TCD</th>\n",
       "      <th>PAR_ZCD_10FR_MEAN</th>\n",
       "      <th>PAR_ZCD_10FR_VAR</th>\n",
       "      <th>PAR_1RMS_TCD_10FR_MEAN</th>\n",
       "      <th>PAR_1RMS_TCD_10FR_VAR</th>\n",
       "      <th>PAR_2RMS_TCD_10FR_MEAN</th>\n",
       "      <th>PAR_2RMS_TCD_10FR_VAR</th>\n",
       "      <th>PAR_3RMS_TCD_10FR_MEAN</th>\n",
       "      <th>PAR_3RMS_TCD_10FR_VAR</th>\n",
       "      <th>GENRE</th>\n",
       "    </tr>\n",
       "  </thead>\n",
       "  <tbody>\n",
       "    <tr>\n",
       "      <th>0</th>\n",
       "      <td>2.5788</td>\n",
       "      <td>481.45</td>\n",
       "      <td>76989.0</td>\n",
       "      <td>-0.12334</td>\n",
       "      <td>-0.11578</td>\n",
       "      <td>-0.11176</td>\n",
       "      <td>-0.10412</td>\n",
       "      <td>-0.106100</td>\n",
       "      <td>-0.11026</td>\n",
       "      <td>-0.11375</td>\n",
       "      <td>...</td>\n",
       "      <td>0.002032</td>\n",
       "      <td>0.041056</td>\n",
       "      <td>0.000091</td>\n",
       "      <td>0.049627</td>\n",
       "      <td>0.000231</td>\n",
       "      <td>0.011265</td>\n",
       "      <td>0.000024</td>\n",
       "      <td>0.002177</td>\n",
       "      <td>0.000003</td>\n",
       "      <td>5</td>\n",
       "    </tr>\n",
       "    <tr>\n",
       "      <th>1</th>\n",
       "      <td>2.7195</td>\n",
       "      <td>1405.30</td>\n",
       "      <td>825380.0</td>\n",
       "      <td>-0.17655</td>\n",
       "      <td>-0.18323</td>\n",
       "      <td>-0.17773</td>\n",
       "      <td>-0.17057</td>\n",
       "      <td>-0.166440</td>\n",
       "      <td>-0.16174</td>\n",
       "      <td>-0.15371</td>\n",
       "      <td>...</td>\n",
       "      <td>0.005959</td>\n",
       "      <td>0.082830</td>\n",
       "      <td>0.001122</td>\n",
       "      <td>0.093622</td>\n",
       "      <td>0.003869</td>\n",
       "      <td>0.031467</td>\n",
       "      <td>0.000779</td>\n",
       "      <td>0.006716</td>\n",
       "      <td>0.000041</td>\n",
       "      <td>1</td>\n",
       "    </tr>\n",
       "    <tr>\n",
       "      <th>2</th>\n",
       "      <td>2.5351</td>\n",
       "      <td>601.09</td>\n",
       "      <td>686240.0</td>\n",
       "      <td>-0.13940</td>\n",
       "      <td>-0.13251</td>\n",
       "      <td>-0.11486</td>\n",
       "      <td>-0.10173</td>\n",
       "      <td>-0.099342</td>\n",
       "      <td>-0.10936</td>\n",
       "      <td>-0.12668</td>\n",
       "      <td>...</td>\n",
       "      <td>0.002766</td>\n",
       "      <td>0.043652</td>\n",
       "      <td>0.000358</td>\n",
       "      <td>0.045415</td>\n",
       "      <td>0.000211</td>\n",
       "      <td>0.013850</td>\n",
       "      <td>0.000038</td>\n",
       "      <td>0.003069</td>\n",
       "      <td>0.000002</td>\n",
       "      <td>5</td>\n",
       "    </tr>\n",
       "    <tr>\n",
       "      <th>3</th>\n",
       "      <td>2.4465</td>\n",
       "      <td>637.73</td>\n",
       "      <td>122580.0</td>\n",
       "      <td>-0.14995</td>\n",
       "      <td>-0.14802</td>\n",
       "      <td>-0.13800</td>\n",
       "      <td>-0.12927</td>\n",
       "      <td>-0.125150</td>\n",
       "      <td>-0.12340</td>\n",
       "      <td>-0.12159</td>\n",
       "      <td>...</td>\n",
       "      <td>0.002503</td>\n",
       "      <td>0.045159</td>\n",
       "      <td>0.000356</td>\n",
       "      <td>0.037388</td>\n",
       "      <td>0.000118</td>\n",
       "      <td>0.011897</td>\n",
       "      <td>0.000045</td>\n",
       "      <td>0.002645</td>\n",
       "      <td>0.000006</td>\n",
       "      <td>3</td>\n",
       "    </tr>\n",
       "    <tr>\n",
       "      <th>4</th>\n",
       "      <td>2.5657</td>\n",
       "      <td>776.86</td>\n",
       "      <td>124010.0</td>\n",
       "      <td>-0.16863</td>\n",
       "      <td>-0.16112</td>\n",
       "      <td>-0.15935</td>\n",
       "      <td>-0.15120</td>\n",
       "      <td>-0.140340</td>\n",
       "      <td>-0.13002</td>\n",
       "      <td>-0.12804</td>\n",
       "      <td>...</td>\n",
       "      <td>0.002703</td>\n",
       "      <td>0.047347</td>\n",
       "      <td>0.000302</td>\n",
       "      <td>0.049469</td>\n",
       "      <td>0.000606</td>\n",
       "      <td>0.014052</td>\n",
       "      <td>0.000152</td>\n",
       "      <td>0.003244</td>\n",
       "      <td>0.000029</td>\n",
       "      <td>3</td>\n",
       "    </tr>\n",
       "  </tbody>\n",
       "</table>\n",
       "<p>5 rows × 192 columns</p>\n",
       "</div>"
      ],
      "text/plain": [
       "   PAR_TC   PAR_SC  PAR_SC_V  PAR_ASE1  PAR_ASE2  PAR_ASE3  PAR_ASE4  \\\n",
       "0  2.5788   481.45   76989.0  -0.12334  -0.11578  -0.11176  -0.10412   \n",
       "1  2.7195  1405.30  825380.0  -0.17655  -0.18323  -0.17773  -0.17057   \n",
       "2  2.5351   601.09  686240.0  -0.13940  -0.13251  -0.11486  -0.10173   \n",
       "3  2.4465   637.73  122580.0  -0.14995  -0.14802  -0.13800  -0.12927   \n",
       "4  2.5657   776.86  124010.0  -0.16863  -0.16112  -0.15935  -0.15120   \n",
       "\n",
       "   PAR_ASE5  PAR_ASE6  PAR_ASE7  ...    PAR_3RMS_TCD  PAR_ZCD_10FR_MEAN  \\\n",
       "0 -0.106100  -0.11026  -0.11375  ...        0.002032           0.041056   \n",
       "1 -0.166440  -0.16174  -0.15371  ...        0.005959           0.082830   \n",
       "2 -0.099342  -0.10936  -0.12668  ...        0.002766           0.043652   \n",
       "3 -0.125150  -0.12340  -0.12159  ...        0.002503           0.045159   \n",
       "4 -0.140340  -0.13002  -0.12804  ...        0.002703           0.047347   \n",
       "\n",
       "   PAR_ZCD_10FR_VAR  PAR_1RMS_TCD_10FR_MEAN  PAR_1RMS_TCD_10FR_VAR  \\\n",
       "0          0.000091                0.049627               0.000231   \n",
       "1          0.001122                0.093622               0.003869   \n",
       "2          0.000358                0.045415               0.000211   \n",
       "3          0.000356                0.037388               0.000118   \n",
       "4          0.000302                0.049469               0.000606   \n",
       "\n",
       "   PAR_2RMS_TCD_10FR_MEAN  PAR_2RMS_TCD_10FR_VAR  PAR_3RMS_TCD_10FR_MEAN  \\\n",
       "0                0.011265               0.000024                0.002177   \n",
       "1                0.031467               0.000779                0.006716   \n",
       "2                0.013850               0.000038                0.003069   \n",
       "3                0.011897               0.000045                0.002645   \n",
       "4                0.014052               0.000152                0.003244   \n",
       "\n",
       "   PAR_3RMS_TCD_10FR_VAR  GENRE  \n",
       "0               0.000003      5  \n",
       "1               0.000041      1  \n",
       "2               0.000002      5  \n",
       "3               0.000006      3  \n",
       "4               0.000029      3  \n",
       "\n",
       "[5 rows x 192 columns]"
      ]
     },
     "execution_count": 19,
     "metadata": {},
     "output_type": "execute_result"
    }
   ],
   "source": [
    "data_train.head()"
   ]
  },
  {
   "cell_type": "code",
   "execution_count": 24,
   "metadata": {},
   "outputs": [
    {
     "data": {
      "text/plain": [
       "((12495, 191), (12495,))"
      ]
     },
     "execution_count": 24,
     "metadata": {},
     "output_type": "execute_result"
    }
   ],
   "source": [
    "y_train = data_train[\"GENRE\"]\n",
    "X_train = data_train.drop(\"GENRE\", axis=1)\n",
    "X_train.shape, y_train.shape"
   ]
  },
  {
   "cell_type": "code",
   "execution_count": 25,
   "metadata": {},
   "outputs": [],
   "source": [
    "def k_crossvalidation(X, y, k_i, k_f, p=2):\n",
    "    \"\"\"\n",
    "    Función para validar el mejor \"K\", número de vecinos para el knn.\n",
    "    X_train: datos de entrenamiento\n",
    "    y_train: labels de entrenamiento\n",
    "    X_test: datos de prueba\n",
    "    y_test: labels de prueba\n",
    "    \n",
    "    return: matrix, donde cada fila es el resultado de un \"k\" dado y la columna 1\n",
    "    es el score en train y la columna dos es el score en test.\n",
    "    \"\"\"\n",
    "    \n",
    "    from sklearn.neighbors import KNeighborsClassifier\n",
    "    from sklearn.model_selection import cross_val_score\n",
    "    n_cols = 3\n",
    "    result = np.zeros((k_f-k_i + 1,2))\n",
    "    idx = 0\n",
    "    for i in range(k_i, k_f+1):\n",
    "        knn = KNeighborsClassifier(p=p,n_jobs=3, n_neighbors=i)\n",
    "        cvs = cross_val_score(knn, X, y, cv=5)\n",
    "        \n",
    "        result[idx,0] =  i # de k\n",
    "        result[idx,1] = np.mean(cvs)\n",
    "        idx+=1\n",
    "            \n",
    "    return result"
   ]
  },
  {
   "cell_type": "code",
   "execution_count": 26,
   "metadata": {},
   "outputs": [],
   "source": [
    "score = k_crossvalidation(X_train, y_train, 2, 30, p=2)"
   ]
  },
  {
   "cell_type": "code",
   "execution_count": 28,
   "metadata": {
    "scrolled": true
   },
   "outputs": [
    {
     "name": "stdout",
     "output_type": "stream",
     "text": [
      "Cross validation con los datos de train para escoger el mejor K y la mejor métrica de distancia\n",
      "[[ 2.          0.38167473]\n",
      " [ 3.          0.38519345]\n",
      " [ 4.          0.39695822]\n",
      " [ 5.          0.39783985]\n",
      " [ 6.          0.40176114]\n",
      " [ 7.          0.40176043]\n",
      " [ 8.          0.41056268]\n",
      " [ 9.          0.4045613 ]\n",
      " [10.          0.40536005]\n",
      " [11.          0.40488082]\n",
      " [12.          0.40527883]\n",
      " [13.          0.40295896]\n",
      " [14.          0.40232034]\n",
      " [15.          0.40408184]\n",
      " [16.          0.40024047]\n",
      " [17.          0.40135931]\n",
      " [18.          0.40136188]\n",
      " [19.          0.39696046]\n",
      " [20.          0.40072117]\n",
      " [21.          0.39951825]\n",
      " [22.          0.39768206]\n",
      " [23.          0.39775883]\n",
      " [24.          0.39799912]\n",
      " [25.          0.39743947]\n",
      " [26.          0.39943982]\n",
      " [27.          0.39527687]\n",
      " [28.          0.39447521]\n",
      " [29.          0.39415575]\n",
      " [30.          0.39575636]]\n"
     ]
    }
   ],
   "source": [
    "print(\"Cross validation con los datos de train para escoger el mejor K y la mejor métrica de distancia\")\n",
    "print(score)"
   ]
  },
  {
   "cell_type": "code",
   "execution_count": 29,
   "metadata": {},
   "outputs": [
    {
     "data": {
      "image/png": "[encoded data removed]",
      "text/plain": [
       "<Figure size 720x360 with 1 Axes>"
      ]
     },
     "metadata": {},
     "output_type": "display_data"
    }
   ],
   "source": [
    "ax = plt.figure(figsize=(10,5))\n",
    "ax = plt.axes()\n",
    "ax.spines['right'].set_visible(False)\n",
    "ax.spines['top'].set_visible(False)\n",
    "plt.title(\"Score with Euclidean Distance\", size=14)\n",
    "plt.xlabel(\"K neighbors\", size=14)\n",
    "plt.ylabel(\"Score\", size=14)\n",
    "plt.xticks(score[:,0])\n",
    "plt.plot(score[:,0],score[:,1], label=\"cv score\")\n",
    "plt.grid()\n",
    "plt.legend();"
   ]
  },
  {
   "cell_type": "code",
   "execution_count": 30,
   "metadata": {
    "scrolled": true
   },
   "outputs": [
    {
     "data": {
      "text/plain": [
       "array([[ 2.        ,  0.3868779 ],\n",
       "       [ 3.        ,  0.39095466],\n",
       "       [ 4.        ,  0.40280001],\n",
       "       [ 5.        ,  0.40736335],\n",
       "       [ 6.        ,  0.40640194],\n",
       "       [ 7.        ,  0.40680357],\n",
       "       [ 8.        ,  0.41000133],\n",
       "       [ 9.        ,  0.41208431],\n",
       "       [10.        ,  0.41304559],\n",
       "       [11.        ,  0.41360547],\n",
       "       [12.        ,  0.41488579],\n",
       "       [13.        ,  0.41336172],\n",
       "       [14.        ,  0.41288191],\n",
       "       [15.        ,  0.40992088],\n",
       "       [16.        ,  0.41216239],\n",
       "       [17.        ,  0.41360216],\n",
       "       [18.        ,  0.41432338],\n",
       "       [19.        ,  0.41240236],\n",
       "       [20.        ,  0.41032325],\n",
       "       [21.        ,  0.40872139],\n",
       "       [22.        ,  0.41064155],\n",
       "       [23.        ,  0.4094422 ],\n",
       "       [24.        ,  0.41120364],\n",
       "       [25.        ,  0.41208361],\n",
       "       [26.        ,  0.40832104],\n",
       "       [27.        ,  0.41072361],\n",
       "       [28.        ,  0.41064264],\n",
       "       [29.        ,  0.40784053],\n",
       "       [30.        ,  0.40848069]])"
      ]
     },
     "execution_count": 30,
     "metadata": {},
     "output_type": "execute_result"
    }
   ],
   "source": [
    "score = k_crossvalidation(X_train, y_train, 2, 30, p=1)\n",
    "score"
   ]
  },
  {
   "cell_type": "code",
   "execution_count": 31,
   "metadata": {},
   "outputs": [
    {
     "data": {
      "image/png": "[encoded data removed]",
      "text/plain": [
       "<Figure size 720x360 with 1 Axes>"
      ]
     },
     "metadata": {},
     "output_type": "display_data"
    }
   ],
   "source": [
    "ax = plt.figure(figsize=(10,5))\n",
    "ax = plt.axes()\n",
    "ax.spines['right'].set_visible(False)\n",
    "ax.spines['top'].set_visible(False)\n",
    "plt.title(\"Score with Euclidean Distance\", size=14)\n",
    "plt.xlabel(\"K neighbors\", size=14)\n",
    "plt.ylabel(\"Score\", size=14)\n",
    "plt.xticks(score[:,0])\n",
    "plt.plot(score[:,0],score[:,1], label=\"cv score\")\n",
    "plt.grid()\n",
    "plt.legend();"
   ]
  },
  {
   "cell_type": "markdown",
   "metadata": {},
   "source": [
    "#### Probar con un RandomForest"
   ]
  },
  {
   "cell_type": "code",
   "execution_count": 35,
   "metadata": {},
   "outputs": [],
   "source": [
    "def k_crossvalidation(X, y, k_i, k_f, p=2):\n",
    "    \"\"\"\n",
    "    Función para validar el mejor \"K\", número de vecinos para el knn.\n",
    "    X_train: datos de entrenamiento\n",
    "    y_train: labels de entrenamiento\n",
    "    X_test: datos de prueba\n",
    "    y_test: labels de prueba\n",
    "    \n",
    "    return: matrix, donde cada fila es el resultado de un \"k\" dado y la columna 1\n",
    "    es el score en train y la columna dos es el score en test.\n",
    "    \"\"\"\n",
    "    \n",
    "    from sklearn.ensemble import RandomForestClassifier\n",
    "    from sklearn.model_selection import cross_val_score\n",
    "    n_cols = 3\n",
    "    result = np.zeros((k_f-k_i + 1,2))\n",
    "    idx = 0\n",
    "    for i in range(k_i, k_f+1):\n",
    "        rfc = RandomForestClassifier(n_estimators=i, n_jobs=3)\n",
    "        cvs = cross_val_score(rfc, X, y, cv=5)\n",
    "        \n",
    "        result[idx,0] =  i # de k\n",
    "        result[idx,1] = np.mean(cvs)\n",
    "        idx+=1\n",
    "            \n",
    "    return result\n",
    "\n"
   ]
  },
  {
   "cell_type": "code",
   "execution_count": 36,
   "metadata": {},
   "outputs": [
    {
     "data": {
      "text/plain": [
       "array([[ 2.        ,  0.7722248 ],\n",
       "       [ 3.        ,  0.83049343],\n",
       "       [ 4.        ,  0.86643099],\n",
       "       [ 5.        ,  0.8716306 ],\n",
       "       [ 6.        ,  0.88739788],\n",
       "       [ 7.        ,  0.89347884],\n",
       "       [ 8.        ,  0.89876429],\n",
       "       [ 9.        ,  0.90148237],\n",
       "       [10.        ,  0.90612468],\n",
       "       [11.        ,  0.91013099],\n",
       "       [12.        ,  0.91549057],\n",
       "       [13.        ,  0.91733144],\n",
       "       [14.        ,  0.91749137],\n",
       "       [15.        ,  0.91925166],\n",
       "       [16.        ,  0.9204532 ],\n",
       "       [17.        ,  0.92085214],\n",
       "       [18.        ,  0.92037067],\n",
       "       [19.        ,  0.92253339],\n",
       "       [20.        ,  0.92533009],\n",
       "       [21.        ,  0.92445477],\n",
       "       [22.        ,  0.92701439],\n",
       "       [23.        ,  0.92821708],\n",
       "       [24.        ,  0.92445519],\n",
       "       [25.        ,  0.92725471],\n",
       "       [26.        ,  0.92717384],\n",
       "       [27.        ,  0.92941497],\n",
       "       [28.        ,  0.92997631],\n",
       "       [29.        ,  0.93197788],\n",
       "       [30.        ,  0.92885548]])"
      ]
     },
     "execution_count": 36,
     "metadata": {},
     "output_type": "execute_result"
    }
   ],
   "source": [
    "score = k_crossvalidation(X_train, y_train, 2, 30, p=1)\n",
    "score"
   ]
  },
  {
   "cell_type": "code",
   "execution_count": 39,
   "metadata": {},
   "outputs": [
    {
     "data": {
      "image/png": "[encoded data removed]",
      "text/plain": [
       "<Figure size 720x360 with 1 Axes>"
      ]
     },
     "metadata": {},
     "output_type": "display_data"
    }
   ],
   "source": [
    "ax = plt.figure(figsize=(10,5))\n",
    "ax = plt.axes()\n",
    "ax.spines['right'].set_visible(False)\n",
    "ax.spines['top'].set_visible(False)\n",
    "plt.title(\"Score with RandomForest\", size=14)\n",
    "plt.xlabel(\"n estimator\", size=14)\n",
    "plt.ylabel(\"Score\", size=14)\n",
    "plt.xticks(score[:,0])\n",
    "plt.plot(score[:,0],score[:,1], label=\"cv score\")\n",
    "plt.grid()\n",
    "plt.legend();"
   ]
  },
  {
   "cell_type": "code",
   "execution_count": 61,
   "metadata": {},
   "outputs": [
    {
     "name": "stdout",
     "output_type": "stream",
     "text": [
      "(5225, 191)\n"
     ]
    },
    {
     "data": {
      "text/html": [
       "<div>\n",
       "<style scoped>\n",
       "    .dataframe tbody tr th:only-of-type {\n",
       "        vertical-align: middle;\n",
       "    }\n",
       "\n",
       "    .dataframe tbody tr th {\n",
       "        vertical-align: top;\n",
       "    }\n",
       "\n",
       "    .dataframe thead th {\n",
       "        text-align: right;\n",
       "    }\n",
       "</style>\n",
       "<table border=\"1\" class=\"dataframe\">\n",
       "  <thead>\n",
       "    <tr style=\"text-align: right;\">\n",
       "      <th></th>\n",
       "      <th>PAR_TC</th>\n",
       "      <th>PAR_SC</th>\n",
       "      <th>PAR_SC_V</th>\n",
       "      <th>PAR_ASE1</th>\n",
       "      <th>PAR_ASE2</th>\n",
       "      <th>PAR_ASE3</th>\n",
       "      <th>PAR_ASE4</th>\n",
       "      <th>PAR_ASE5</th>\n",
       "      <th>PAR_ASE6</th>\n",
       "      <th>PAR_ASE7</th>\n",
       "      <th>...</th>\n",
       "      <th>PAR_2RMS_TCD</th>\n",
       "      <th>PAR_3RMS_TCD</th>\n",
       "      <th>PAR_ZCD_10FR_MEAN</th>\n",
       "      <th>PAR_ZCD_10FR_VAR</th>\n",
       "      <th>PAR_1RMS_TCD_10FR_MEAN</th>\n",
       "      <th>PAR_1RMS_TCD_10FR_VAR</th>\n",
       "      <th>PAR_2RMS_TCD_10FR_MEAN</th>\n",
       "      <th>PAR_2RMS_TCD_10FR_VAR</th>\n",
       "      <th>PAR_3RMS_TCD_10FR_MEAN</th>\n",
       "      <th>PAR_3RMS_TCD_10FR_VAR</th>\n",
       "    </tr>\n",
       "  </thead>\n",
       "  <tbody>\n",
       "    <tr>\n",
       "      <th>0</th>\n",
       "      <td>2.5851</td>\n",
       "      <td>887.72</td>\n",
       "      <td>203130.0</td>\n",
       "      <td>-0.17260</td>\n",
       "      <td>-0.16509</td>\n",
       "      <td>-0.15114</td>\n",
       "      <td>-0.14272</td>\n",
       "      <td>-0.13747</td>\n",
       "      <td>-0.13437</td>\n",
       "      <td>-0.12990</td>\n",
       "      <td>...</td>\n",
       "      <td>0.014458</td>\n",
       "      <td>0.003283</td>\n",
       "      <td>0.060789</td>\n",
       "      <td>0.000173</td>\n",
       "      <td>0.049469</td>\n",
       "      <td>0.000209</td>\n",
       "      <td>0.014727</td>\n",
       "      <td>0.000058</td>\n",
       "      <td>0.003690</td>\n",
       "      <td>0.000007</td>\n",
       "    </tr>\n",
       "    <tr>\n",
       "      <th>1</th>\n",
       "      <td>2.4621</td>\n",
       "      <td>370.86</td>\n",
       "      <td>4835.0</td>\n",
       "      <td>-0.16553</td>\n",
       "      <td>-0.16676</td>\n",
       "      <td>-0.16022</td>\n",
       "      <td>-0.15304</td>\n",
       "      <td>-0.14354</td>\n",
       "      <td>-0.13443</td>\n",
       "      <td>-0.12450</td>\n",
       "      <td>...</td>\n",
       "      <td>0.007165</td>\n",
       "      <td>0.001832</td>\n",
       "      <td>0.019472</td>\n",
       "      <td>0.000006</td>\n",
       "      <td>0.021197</td>\n",
       "      <td>0.000100</td>\n",
       "      <td>0.008136</td>\n",
       "      <td>0.000055</td>\n",
       "      <td>0.002112</td>\n",
       "      <td>0.000006</td>\n",
       "    </tr>\n",
       "    <tr>\n",
       "      <th>2</th>\n",
       "      <td>2.5894</td>\n",
       "      <td>536.33</td>\n",
       "      <td>59175.0</td>\n",
       "      <td>-0.14433</td>\n",
       "      <td>-0.15838</td>\n",
       "      <td>-0.15151</td>\n",
       "      <td>-0.13966</td>\n",
       "      <td>-0.12591</td>\n",
       "      <td>-0.11795</td>\n",
       "      <td>-0.11744</td>\n",
       "      <td>...</td>\n",
       "      <td>0.009742</td>\n",
       "      <td>0.002032</td>\n",
       "      <td>0.037165</td>\n",
       "      <td>0.000158</td>\n",
       "      <td>0.037856</td>\n",
       "      <td>0.000123</td>\n",
       "      <td>0.009627</td>\n",
       "      <td>0.000068</td>\n",
       "      <td>0.001916</td>\n",
       "      <td>0.000004</td>\n",
       "    </tr>\n",
       "    <tr>\n",
       "      <th>3</th>\n",
       "      <td>2.4876</td>\n",
       "      <td>1053.70</td>\n",
       "      <td>147250.0</td>\n",
       "      <td>-0.12813</td>\n",
       "      <td>-0.11979</td>\n",
       "      <td>-0.12223</td>\n",
       "      <td>-0.11881</td>\n",
       "      <td>-0.12020</td>\n",
       "      <td>-0.12702</td>\n",
       "      <td>-0.13608</td>\n",
       "      <td>...</td>\n",
       "      <td>0.020571</td>\n",
       "      <td>0.002458</td>\n",
       "      <td>0.074786</td>\n",
       "      <td>0.000113</td>\n",
       "      <td>0.088109</td>\n",
       "      <td>0.000152</td>\n",
       "      <td>0.021083</td>\n",
       "      <td>0.000071</td>\n",
       "      <td>0.002590</td>\n",
       "      <td>0.000006</td>\n",
       "    </tr>\n",
       "    <tr>\n",
       "      <th>4</th>\n",
       "      <td>2.7968</td>\n",
       "      <td>354.90</td>\n",
       "      <td>7610.9</td>\n",
       "      <td>-0.16335</td>\n",
       "      <td>-0.16976</td>\n",
       "      <td>-0.17196</td>\n",
       "      <td>-0.16772</td>\n",
       "      <td>-0.16637</td>\n",
       "      <td>-0.15903</td>\n",
       "      <td>-0.13995</td>\n",
       "      <td>...</td>\n",
       "      <td>0.004825</td>\n",
       "      <td>0.001905</td>\n",
       "      <td>0.017377</td>\n",
       "      <td>0.000015</td>\n",
       "      <td>0.010852</td>\n",
       "      <td>0.000153</td>\n",
       "      <td>0.004702</td>\n",
       "      <td>0.000044</td>\n",
       "      <td>0.002101</td>\n",
       "      <td>0.000008</td>\n",
       "    </tr>\n",
       "  </tbody>\n",
       "</table>\n",
       "<p>5 rows × 191 columns</p>\n",
       "</div>"
      ],
      "text/plain": [
       "   PAR_TC   PAR_SC  PAR_SC_V  PAR_ASE1  PAR_ASE2  PAR_ASE3  PAR_ASE4  \\\n",
       "0  2.5851   887.72  203130.0  -0.17260  -0.16509  -0.15114  -0.14272   \n",
       "1  2.4621   370.86    4835.0  -0.16553  -0.16676  -0.16022  -0.15304   \n",
       "2  2.5894   536.33   59175.0  -0.14433  -0.15838  -0.15151  -0.13966   \n",
       "3  2.4876  1053.70  147250.0  -0.12813  -0.11979  -0.12223  -0.11881   \n",
       "4  2.7968   354.90    7610.9  -0.16335  -0.16976  -0.17196  -0.16772   \n",
       "\n",
       "   PAR_ASE5  PAR_ASE6  PAR_ASE7          ...            PAR_2RMS_TCD  \\\n",
       "0  -0.13747  -0.13437  -0.12990          ...                0.014458   \n",
       "1  -0.14354  -0.13443  -0.12450          ...                0.007165   \n",
       "2  -0.12591  -0.11795  -0.11744          ...                0.009742   \n",
       "3  -0.12020  -0.12702  -0.13608          ...                0.020571   \n",
       "4  -0.16637  -0.15903  -0.13995          ...                0.004825   \n",
       "\n",
       "   PAR_3RMS_TCD  PAR_ZCD_10FR_MEAN  PAR_ZCD_10FR_VAR  PAR_1RMS_TCD_10FR_MEAN  \\\n",
       "0      0.003283           0.060789          0.000173                0.049469   \n",
       "1      0.001832           0.019472          0.000006                0.021197   \n",
       "2      0.002032           0.037165          0.000158                0.037856   \n",
       "3      0.002458           0.074786          0.000113                0.088109   \n",
       "4      0.001905           0.017377          0.000015                0.010852   \n",
       "\n",
       "   PAR_1RMS_TCD_10FR_VAR  PAR_2RMS_TCD_10FR_MEAN  PAR_2RMS_TCD_10FR_VAR  \\\n",
       "0               0.000209                0.014727               0.000058   \n",
       "1               0.000100                0.008136               0.000055   \n",
       "2               0.000123                0.009627               0.000068   \n",
       "3               0.000152                0.021083               0.000071   \n",
       "4               0.000153                0.004702               0.000044   \n",
       "\n",
       "   PAR_3RMS_TCD_10FR_MEAN  PAR_3RMS_TCD_10FR_VAR  \n",
       "0                0.003690               0.000007  \n",
       "1                0.002112               0.000006  \n",
       "2                0.001916               0.000004  \n",
       "3                0.002590               0.000006  \n",
       "4                0.002101               0.000008  \n",
       "\n",
       "[5 rows x 191 columns]"
      ]
     },
     "execution_count": 61,
     "metadata": {},
     "output_type": "execute_result"
    }
   ],
   "source": [
    "data_test = pd.read_csv(\"./data/genresTest.csv\")\n",
    "print(data_test.shape)\n",
    "data_test.head()"
   ]
  },
  {
   "cell_type": "code",
   "execution_count": 62,
   "metadata": {},
   "outputs": [
    {
     "data": {
      "text/plain": [
       "RandomForestClassifier(bootstrap=True, class_weight=None, criterion='gini',\n",
       "            max_depth=None, max_features='auto', max_leaf_nodes=None,\n",
       "            min_impurity_decrease=0.0, min_impurity_split=None,\n",
       "            min_samples_leaf=1, min_samples_split=2,\n",
       "            min_weight_fraction_leaf=0.0, n_estimators=6, n_jobs=3,\n",
       "            oob_score=False, random_state=None, verbose=0,\n",
       "            warm_start=False)"
      ]
     },
     "execution_count": 62,
     "metadata": {},
     "output_type": "execute_result"
    }
   ],
   "source": [
    "rfc = RandomForestClassifier(n_estimators=6, n_jobs=3)\n",
    "rfc.fit(X_train,y_train)"
   ]
  },
  {
   "cell_type": "code",
   "execution_count": 63,
   "metadata": {},
   "outputs": [
    {
     "data": {
      "text/plain": [
       "0.990876350540216"
      ]
     },
     "execution_count": 63,
     "metadata": {},
     "output_type": "execute_result"
    }
   ],
   "source": [
    "rfc.score(X_train, y_train)"
   ]
  },
  {
   "cell_type": "code",
   "execution_count": 66,
   "metadata": {},
   "outputs": [],
   "source": [
    "predict = rfc.predict(data_test)"
   ]
  },
  {
   "cell_type": "code",
   "execution_count": 68,
   "metadata": {},
   "outputs": [
    {
     "data": {
      "text/plain": [
       "((12495, 191), (5225, 191))"
      ]
     },
     "execution_count": 68,
     "metadata": {},
     "output_type": "execute_result"
    }
   ],
   "source": [
    "X_train.shape, data_test.shape"
   ]
  },
  {
   "cell_type": "code",
   "execution_count": 72,
   "metadata": {},
   "outputs": [
    {
     "data": {
      "text/plain": [
       "((5225,), (5225,))"
      ]
     },
     "execution_count": 72,
     "metadata": {},
     "output_type": "execute_result"
    }
   ],
   "source": [
    "data_test.index.shape, predict.shape"
   ]
  },
  {
   "cell_type": "code",
   "execution_count": 75,
   "metadata": {},
   "outputs": [
    {
     "data": {
      "text/plain": [
       "array([1, 2, 2, ..., 6, 1, 6])"
      ]
     },
     "execution_count": 75,
     "metadata": {},
     "output_type": "execute_result"
    }
   ],
   "source": [
    "predict"
   ]
  },
  {
   "cell_type": "code",
   "execution_count": 93,
   "metadata": {},
   "outputs": [],
   "source": [
    "result = pd.DataFrame(data=predict, index=data_test.index, columns=['Genres'])"
   ]
  },
  {
   "cell_type": "code",
   "execution_count": 81,
   "metadata": {},
   "outputs": [],
   "source": [
    "result.index.name = \"Id\""
   ]
  },
  {
   "cell_type": "code",
   "execution_count": 84,
   "metadata": {},
   "outputs": [
    {
     "data": {
      "text/plain": [
       "(5225, 1)"
      ]
     },
     "execution_count": 84,
     "metadata": {},
     "output_type": "execute_result"
    }
   ],
   "source": [
    "result.shape"
   ]
  },
  {
   "cell_type": "code",
   "execution_count": 82,
   "metadata": {},
   "outputs": [
    {
     "data": {
      "text/html": [
       "<div>\n",
       "<style scoped>\n",
       "    .dataframe tbody tr th:only-of-type {\n",
       "        vertical-align: middle;\n",
       "    }\n",
       "\n",
       "    .dataframe tbody tr th {\n",
       "        vertical-align: top;\n",
       "    }\n",
       "\n",
       "    .dataframe thead th {\n",
       "        text-align: right;\n",
       "    }\n",
       "</style>\n",
       "<table border=\"1\" class=\"dataframe\">\n",
       "  <thead>\n",
       "    <tr style=\"text-align: right;\">\n",
       "      <th></th>\n",
       "      <th>Genres</th>\n",
       "    </tr>\n",
       "    <tr>\n",
       "      <th>Id</th>\n",
       "      <th></th>\n",
       "    </tr>\n",
       "  </thead>\n",
       "  <tbody>\n",
       "    <tr>\n",
       "      <th>0</th>\n",
       "      <td>1</td>\n",
       "    </tr>\n",
       "    <tr>\n",
       "      <th>1</th>\n",
       "      <td>2</td>\n",
       "    </tr>\n",
       "    <tr>\n",
       "      <th>2</th>\n",
       "      <td>2</td>\n",
       "    </tr>\n",
       "    <tr>\n",
       "      <th>3</th>\n",
       "      <td>6</td>\n",
       "    </tr>\n",
       "    <tr>\n",
       "      <th>4</th>\n",
       "      <td>2</td>\n",
       "    </tr>\n",
       "  </tbody>\n",
       "</table>\n",
       "</div>"
      ],
      "text/plain": [
       "    Genres\n",
       "Id        \n",
       "0        1\n",
       "1        2\n",
       "2        2\n",
       "3        6\n",
       "4        2"
      ]
     },
     "execution_count": 82,
     "metadata": {},
     "output_type": "execute_result"
    }
   ],
   "source": [
    "result.head()"
   ]
  },
  {
   "cell_type": "code",
   "execution_count": 83,
   "metadata": {},
   "outputs": [],
   "source": [
    "result.to_csv('./results/submission_test_1.csv')"
   ]
  },
  {
   "cell_type": "markdown",
   "metadata": {},
   "source": [
    "#### Normalizando los datos"
   ]
  },
  {
   "cell_type": "code",
   "execution_count": 122,
   "metadata": {},
   "outputs": [],
   "source": [
    "from sklearn import preprocessing\n",
    "\n",
    "X_train = preprocessing.scale(X_train)\n",
    "X_test = preprocessing.scale(data_test)"
   ]
  },
  {
   "cell_type": "code",
   "execution_count": 123,
   "metadata": {},
   "outputs": [
    {
     "data": {
      "text/plain": [
       "RandomForestClassifier(bootstrap=True, class_weight=None, criterion='gini',\n",
       "            max_depth=None, max_features='auto', max_leaf_nodes=None,\n",
       "            min_impurity_decrease=0.0, min_impurity_split=None,\n",
       "            min_samples_leaf=1, min_samples_split=2,\n",
       "            min_weight_fraction_leaf=0.0, n_estimators=8, n_jobs=3,\n",
       "            oob_score=False, random_state=None, verbose=0,\n",
       "            warm_start=False)"
      ]
     },
     "execution_count": 123,
     "metadata": {},
     "output_type": "execute_result"
    }
   ],
   "source": [
    "rfc = RandomForestClassifier(n_estimators=8, n_jobs=3)\n",
    "rfc.fit(X_train,y_train)"
   ]
  },
  {
   "cell_type": "code",
   "execution_count": 124,
   "metadata": {},
   "outputs": [
    {
     "data": {
      "text/plain": [
       "0.9957583033213285"
      ]
     },
     "execution_count": 124,
     "metadata": {},
     "output_type": "execute_result"
    }
   ],
   "source": [
    "rfc.score(X_train,y_train)"
   ]
  },
  {
   "cell_type": "code",
   "execution_count": 125,
   "metadata": {},
   "outputs": [],
   "source": [
    "predict = rfc.predict(X_test)"
   ]
  },
  {
   "cell_type": "code",
   "execution_count": 126,
   "metadata": {},
   "outputs": [],
   "source": [
    "result = pd.DataFrame(data=predict, index=np.arange(1, data_test.shape[0]+1), columns=['Genres'])\n",
    "result.index.name = \"Id\"\n",
    "result.to_csv('./results/submission_test_4.csv')"
   ]
  },
  {
   "cell_type": "code",
   "execution_count": null,
   "metadata": {},
   "outputs": [],
   "source": []
  }
 ],
 "metadata": {
  "kernelspec": {
   "display_name": "Python 3",
   "language": "python",
   "name": "python3"
  },
  "language_info": {
   "codemirror_mode": {
    "name": "ipython",
    "version": 3
   },
   "file_extension": ".py",
   "mimetype": "text/x-python",
   "name": "python",
   "nbconvert_exporter": "python",
   "pygments_lexer": "ipython3",
   "version": "3.6.5"
  }
 },
 "nbformat": 4,
 "nbformat_minor": 2
}
